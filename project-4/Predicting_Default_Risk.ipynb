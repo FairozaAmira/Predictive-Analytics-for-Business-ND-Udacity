{
  "nbformat": 4,
  "nbformat_minor": 5,
  "metadata": {
    "kernelspec": {
      "display_name": "Python 3",
      "language": "python",
      "name": "python3"
    },
    "language_info": {
      "codemirror_mode": {
        "name": "ipython",
        "version": 3
      },
      "file_extension": ".py",
      "mimetype": "text/x-python",
      "name": "python",
      "nbconvert_exporter": "python",
      "pygments_lexer": "ipython3",
      "version": "3.8.0"
    },
    "colab": {
      "name": "Predicting-Default-Risk.ipynb",
      "provenance": [],
      "include_colab_link": true
    }
  },
  "cells": [
    {
      "cell_type": "markdown",
      "metadata": {
        "id": "view-in-github",
        "colab_type": "text"
      },
      "source": [
        "<a href=\"https://colab.research.google.com/github/FairozaAmira/Predictive-Analytics-for-Business-ND-Udacity/blob/main/project-4/Predicting_Default_Risk.ipynb\" target=\"_parent\"><img src=\"https://colab.research.google.com/assets/colab-badge.svg\" alt=\"Open In Colab\"/></a>"
      ]
    },
    {
      "cell_type": "code",
      "metadata": {
        "colab": {
          "base_uri": "https://localhost:8080/"
        },
        "id": "6d974efa",
        "outputId": "a11cd74c-8527-4cb9-ea7a-7d20c63ef95a"
      },
      "source": [
        "import pandas as pd\n",
        "import numpy as np\n",
        "import matplotlib.pyplot as plt\n",
        "import seaborn as sns\n",
        "\n",
        "from sklearn.model_selection import StratifiedShuffleSplit, RepeatedStratifiedKFold,KFold,train_test_split, StratifiedKFold, cross_val_score, cross_val_predict\n",
        "from sklearn.metrics import classification_report, accuracy_score,confusion_matrix, roc_curve, auc, roc_auc_score, plot_confusion_matrix, plot_roc_curve\n",
        "from sklearn.ensemble import IsolationForest, ExtraTreesClassifier, RandomForestClassifier, AdaBoostClassifier\n",
        "from sklearn.neighbors import LocalOutlierFactor \n",
        "from sklearn.feature_selection import SelectKBest, chi2, RFE, f_classif, SelectFromModel\n",
        "from sklearn.linear_model import LogisticRegression, LassoCV\n",
        "from sklearn.decomposition import PCA\n",
        "from sklearn.preprocessing import label_binarize, StandardScaler, MinMaxScaler, RobustScaler, PowerTransformer\n",
        "from sklearn.tree import DecisionTreeClassifier\n",
        "\n",
        "from xgboost import XGBClassifier\n",
        "\n",
        "import statsmodels.api as sm\n",
        "\n",
        "from functools import reduce\n",
        "\n",
        "%matplotlib inline"
      ],
      "id": "6d974efa",
      "execution_count": 1,
      "outputs": [
        {
          "output_type": "stream",
          "text": [
            "/usr/local/lib/python3.7/dist-packages/statsmodels/tools/_testing.py:19: FutureWarning: pandas.util.testing is deprecated. Use the functions in the public API at pandas.testing instead.\n",
            "  import pandas.util.testing as tm\n"
          ],
          "name": "stderr"
        }
      ]
    },
    {
      "cell_type": "code",
      "metadata": {
        "colab": {
          "base_uri": "https://localhost:8080/"
        },
        "id": "l1lcymaIadiN",
        "outputId": "38f30089-9a65-48fa-c446-ffe52957a176"
      },
      "source": [
        "#mount google drive\n",
        "from google.colab import drive\n",
        "drive.mount('/content/drive')"
      ],
      "id": "l1lcymaIadiN",
      "execution_count": 2,
      "outputs": [
        {
          "output_type": "stream",
          "text": [
            "Drive already mounted at /content/drive; to attempt to forcibly remount, call drive.mount(\"/content/drive\", force_remount=True).\n"
          ],
          "name": "stdout"
        }
      ]
    },
    {
      "cell_type": "code",
      "metadata": {
        "colab": {
          "base_uri": "https://localhost:8080/"
        },
        "id": "spZAjSHKajt4",
        "outputId": "ae2e2363-9ff6-4d0a-9ab2-01ba3bc0546e"
      },
      "source": [
        "#locate the data\n",
        "!ls \"../content/drive/My Drive/Colab Notebooks/Udacity\""
      ],
      "id": "spZAjSHKajt4",
      "execution_count": 3,
      "outputs": [
        {
          "output_type": "stream",
          "text": [
            "credit-data-training.csv  customers-to-score.csv  Predicting-Default-Risk.ipynb\n"
          ],
          "name": "stdout"
        }
      ]
    },
    {
      "cell_type": "code",
      "metadata": {
        "colab": {
          "base_uri": "https://localhost:8080/",
          "height": 881
        },
        "id": "38438096",
        "outputId": "6be66022-7da6-4e7f-b5cf-6f124650e30c"
      },
      "source": [
        "df = pd.read_csv(\"../content/drive/My Drive/Colab Notebooks/Udacity/credit-data-training.csv\")\n",
        "df"
      ],
      "id": "38438096",
      "execution_count": 4,
      "outputs": [
        {
          "output_type": "execute_result",
          "data": {
            "text/html": [
              "<div>\n",
              "<style scoped>\n",
              "    .dataframe tbody tr th:only-of-type {\n",
              "        vertical-align: middle;\n",
              "    }\n",
              "\n",
              "    .dataframe tbody tr th {\n",
              "        vertical-align: top;\n",
              "    }\n",
              "\n",
              "    .dataframe thead th {\n",
              "        text-align: right;\n",
              "    }\n",
              "</style>\n",
              "<table border=\"1\" class=\"dataframe\">\n",
              "  <thead>\n",
              "    <tr style=\"text-align: right;\">\n",
              "      <th></th>\n",
              "      <th>Credit-Application-Result</th>\n",
              "      <th>Account-Balance</th>\n",
              "      <th>Duration-of-Credit-Month</th>\n",
              "      <th>Payment-Status-of-Previous-Credit</th>\n",
              "      <th>Purpose</th>\n",
              "      <th>Credit-Amount</th>\n",
              "      <th>Value-Savings-Stocks</th>\n",
              "      <th>Length-of-current-employment</th>\n",
              "      <th>Instalment-per-cent</th>\n",
              "      <th>Guarantors</th>\n",
              "      <th>Duration-in-Current-address</th>\n",
              "      <th>Most-valuable-available-asset</th>\n",
              "      <th>Age-years</th>\n",
              "      <th>Concurrent-Credits</th>\n",
              "      <th>Type-of-apartment</th>\n",
              "      <th>No-of-Credits-at-this-Bank</th>\n",
              "      <th>Occupation</th>\n",
              "      <th>No-of-dependents</th>\n",
              "      <th>Telephone</th>\n",
              "      <th>Foreign-Worker</th>\n",
              "    </tr>\n",
              "  </thead>\n",
              "  <tbody>\n",
              "    <tr>\n",
              "      <th>0</th>\n",
              "      <td>Creditworthy</td>\n",
              "      <td>Some Balance</td>\n",
              "      <td>4</td>\n",
              "      <td>Paid Up</td>\n",
              "      <td>Other</td>\n",
              "      <td>1494</td>\n",
              "      <td>£100-£1000</td>\n",
              "      <td>&lt; 1yr</td>\n",
              "      <td>1</td>\n",
              "      <td>None</td>\n",
              "      <td>2.0</td>\n",
              "      <td>1</td>\n",
              "      <td>NaN</td>\n",
              "      <td>Other Banks/Depts</td>\n",
              "      <td>2</td>\n",
              "      <td>1</td>\n",
              "      <td>1</td>\n",
              "      <td>2</td>\n",
              "      <td>1</td>\n",
              "      <td>2</td>\n",
              "    </tr>\n",
              "    <tr>\n",
              "      <th>1</th>\n",
              "      <td>Creditworthy</td>\n",
              "      <td>Some Balance</td>\n",
              "      <td>4</td>\n",
              "      <td>Paid Up</td>\n",
              "      <td>Home Related</td>\n",
              "      <td>1494</td>\n",
              "      <td>£100-£1000</td>\n",
              "      <td>&lt; 1yr</td>\n",
              "      <td>1</td>\n",
              "      <td>None</td>\n",
              "      <td>2.0</td>\n",
              "      <td>1</td>\n",
              "      <td>29.0</td>\n",
              "      <td>Other Banks/Depts</td>\n",
              "      <td>2</td>\n",
              "      <td>1</td>\n",
              "      <td>1</td>\n",
              "      <td>2</td>\n",
              "      <td>1</td>\n",
              "      <td>2</td>\n",
              "    </tr>\n",
              "    <tr>\n",
              "      <th>2</th>\n",
              "      <td>Creditworthy</td>\n",
              "      <td>Some Balance</td>\n",
              "      <td>4</td>\n",
              "      <td>No Problems (in this bank)</td>\n",
              "      <td>Home Related</td>\n",
              "      <td>1544</td>\n",
              "      <td>None</td>\n",
              "      <td>1-4 yrs</td>\n",
              "      <td>2</td>\n",
              "      <td>None</td>\n",
              "      <td>1.0</td>\n",
              "      <td>1</td>\n",
              "      <td>42.0</td>\n",
              "      <td>Other Banks/Depts</td>\n",
              "      <td>2</td>\n",
              "      <td>More than 1</td>\n",
              "      <td>1</td>\n",
              "      <td>2</td>\n",
              "      <td>1</td>\n",
              "      <td>1</td>\n",
              "    </tr>\n",
              "    <tr>\n",
              "      <th>3</th>\n",
              "      <td>Creditworthy</td>\n",
              "      <td>Some Balance</td>\n",
              "      <td>4</td>\n",
              "      <td>No Problems (in this bank)</td>\n",
              "      <td>Home Related</td>\n",
              "      <td>3380</td>\n",
              "      <td>None</td>\n",
              "      <td>1-4 yrs</td>\n",
              "      <td>1</td>\n",
              "      <td>None</td>\n",
              "      <td>1.0</td>\n",
              "      <td>1</td>\n",
              "      <td>37.0</td>\n",
              "      <td>Other Banks/Depts</td>\n",
              "      <td>2</td>\n",
              "      <td>1</td>\n",
              "      <td>1</td>\n",
              "      <td>2</td>\n",
              "      <td>1</td>\n",
              "      <td>1</td>\n",
              "    </tr>\n",
              "    <tr>\n",
              "      <th>4</th>\n",
              "      <td>Creditworthy</td>\n",
              "      <td>No Account</td>\n",
              "      <td>6</td>\n",
              "      <td>Paid Up</td>\n",
              "      <td>Home Related</td>\n",
              "      <td>343</td>\n",
              "      <td>None</td>\n",
              "      <td>&lt; 1yr</td>\n",
              "      <td>4</td>\n",
              "      <td>None</td>\n",
              "      <td>1.0</td>\n",
              "      <td>1</td>\n",
              "      <td>27.0</td>\n",
              "      <td>Other Banks/Depts</td>\n",
              "      <td>2</td>\n",
              "      <td>1</td>\n",
              "      <td>1</td>\n",
              "      <td>1</td>\n",
              "      <td>1</td>\n",
              "      <td>1</td>\n",
              "    </tr>\n",
              "    <tr>\n",
              "      <th>...</th>\n",
              "      <td>...</td>\n",
              "      <td>...</td>\n",
              "      <td>...</td>\n",
              "      <td>...</td>\n",
              "      <td>...</td>\n",
              "      <td>...</td>\n",
              "      <td>...</td>\n",
              "      <td>...</td>\n",
              "      <td>...</td>\n",
              "      <td>...</td>\n",
              "      <td>...</td>\n",
              "      <td>...</td>\n",
              "      <td>...</td>\n",
              "      <td>...</td>\n",
              "      <td>...</td>\n",
              "      <td>...</td>\n",
              "      <td>...</td>\n",
              "      <td>...</td>\n",
              "      <td>...</td>\n",
              "      <td>...</td>\n",
              "    </tr>\n",
              "    <tr>\n",
              "      <th>495</th>\n",
              "      <td>Creditworthy</td>\n",
              "      <td>No Account</td>\n",
              "      <td>60</td>\n",
              "      <td>No Problems (in this bank)</td>\n",
              "      <td>Other</td>\n",
              "      <td>7418</td>\n",
              "      <td>£100-£1000</td>\n",
              "      <td>&lt; 1yr</td>\n",
              "      <td>1</td>\n",
              "      <td>None</td>\n",
              "      <td>1.0</td>\n",
              "      <td>1</td>\n",
              "      <td>NaN</td>\n",
              "      <td>Other Banks/Depts</td>\n",
              "      <td>2</td>\n",
              "      <td>1</td>\n",
              "      <td>1</td>\n",
              "      <td>1</td>\n",
              "      <td>1</td>\n",
              "      <td>1</td>\n",
              "    </tr>\n",
              "    <tr>\n",
              "      <th>496</th>\n",
              "      <td>Creditworthy</td>\n",
              "      <td>No Account</td>\n",
              "      <td>60</td>\n",
              "      <td>No Problems (in this bank)</td>\n",
              "      <td>Home Related</td>\n",
              "      <td>7418</td>\n",
              "      <td>£100-£1000</td>\n",
              "      <td>&lt; 1yr</td>\n",
              "      <td>1</td>\n",
              "      <td>None</td>\n",
              "      <td>1.0</td>\n",
              "      <td>1</td>\n",
              "      <td>27.0</td>\n",
              "      <td>Other Banks/Depts</td>\n",
              "      <td>2</td>\n",
              "      <td>1</td>\n",
              "      <td>1</td>\n",
              "      <td>1</td>\n",
              "      <td>1</td>\n",
              "      <td>1</td>\n",
              "    </tr>\n",
              "    <tr>\n",
              "      <th>497</th>\n",
              "      <td>Creditworthy</td>\n",
              "      <td>No Account</td>\n",
              "      <td>60</td>\n",
              "      <td>No Problems (in this bank)</td>\n",
              "      <td>Home Related</td>\n",
              "      <td>9157</td>\n",
              "      <td>£100-£1000</td>\n",
              "      <td>&lt; 1yr</td>\n",
              "      <td>2</td>\n",
              "      <td>None</td>\n",
              "      <td>NaN</td>\n",
              "      <td>4</td>\n",
              "      <td>27.0</td>\n",
              "      <td>Other Banks/Depts</td>\n",
              "      <td>3</td>\n",
              "      <td>1</td>\n",
              "      <td>1</td>\n",
              "      <td>1</td>\n",
              "      <td>1</td>\n",
              "      <td>1</td>\n",
              "    </tr>\n",
              "    <tr>\n",
              "      <th>498</th>\n",
              "      <td>Creditworthy</td>\n",
              "      <td>Some Balance</td>\n",
              "      <td>60</td>\n",
              "      <td>No Problems (in this bank)</td>\n",
              "      <td>Home Related</td>\n",
              "      <td>13756</td>\n",
              "      <td>£100-£1000</td>\n",
              "      <td>4-7 yrs</td>\n",
              "      <td>2</td>\n",
              "      <td>None</td>\n",
              "      <td>NaN</td>\n",
              "      <td>4</td>\n",
              "      <td>63.0</td>\n",
              "      <td>Other Banks/Depts</td>\n",
              "      <td>3</td>\n",
              "      <td>1</td>\n",
              "      <td>1</td>\n",
              "      <td>1</td>\n",
              "      <td>2</td>\n",
              "      <td>1</td>\n",
              "    </tr>\n",
              "    <tr>\n",
              "      <th>499</th>\n",
              "      <td>Non-Creditworthy</td>\n",
              "      <td>No Account</td>\n",
              "      <td>60</td>\n",
              "      <td>Paid Up</td>\n",
              "      <td>Home Related</td>\n",
              "      <td>14027</td>\n",
              "      <td>None</td>\n",
              "      <td>1-4 yrs</td>\n",
              "      <td>4</td>\n",
              "      <td>None</td>\n",
              "      <td>NaN</td>\n",
              "      <td>4</td>\n",
              "      <td>27.0</td>\n",
              "      <td>Other Banks/Depts</td>\n",
              "      <td>2</td>\n",
              "      <td>1</td>\n",
              "      <td>1</td>\n",
              "      <td>1</td>\n",
              "      <td>2</td>\n",
              "      <td>1</td>\n",
              "    </tr>\n",
              "  </tbody>\n",
              "</table>\n",
              "<p>500 rows × 20 columns</p>\n",
              "</div>"
            ],
            "text/plain": [
              "    Credit-Application-Result Account-Balance  ...  Telephone Foreign-Worker\n",
              "0                Creditworthy    Some Balance  ...          1              2\n",
              "1                Creditworthy    Some Balance  ...          1              2\n",
              "2                Creditworthy    Some Balance  ...          1              1\n",
              "3                Creditworthy    Some Balance  ...          1              1\n",
              "4                Creditworthy      No Account  ...          1              1\n",
              "..                        ...             ...  ...        ...            ...\n",
              "495              Creditworthy      No Account  ...          1              1\n",
              "496              Creditworthy      No Account  ...          1              1\n",
              "497              Creditworthy      No Account  ...          1              1\n",
              "498              Creditworthy    Some Balance  ...          2              1\n",
              "499          Non-Creditworthy      No Account  ...          2              1\n",
              "\n",
              "[500 rows x 20 columns]"
            ]
          },
          "metadata": {
            "tags": []
          },
          "execution_count": 4
        }
      ]
    },
    {
      "cell_type": "code",
      "metadata": {
        "colab": {
          "base_uri": "https://localhost:8080/"
        },
        "id": "d038da69",
        "outputId": "330eeccf-cb88-4cce-a273-be91387969a3"
      },
      "source": [
        "df['Credit-Application-Result'].unique()"
      ],
      "id": "d038da69",
      "execution_count": 5,
      "outputs": [
        {
          "output_type": "execute_result",
          "data": {
            "text/plain": [
              "array(['Creditworthy', 'Non-Creditworthy'], dtype=object)"
            ]
          },
          "metadata": {
            "tags": []
          },
          "execution_count": 5
        }
      ]
    },
    {
      "cell_type": "code",
      "metadata": {
        "id": "34de2ece"
      },
      "source": [
        "df['Credit-Application-Result'].replace({\"Creditworthy\": 1, \"Non-Creditworthy\": 0}, inplace=True)"
      ],
      "id": "34de2ece",
      "execution_count": 6,
      "outputs": []
    },
    {
      "cell_type": "code",
      "metadata": {
        "colab": {
          "base_uri": "https://localhost:8080/"
        },
        "id": "ec73239a",
        "outputId": "32c29b25-d4db-4240-8876-ff98b378bc86"
      },
      "source": [
        "df['Account-Balance'].unique()"
      ],
      "id": "ec73239a",
      "execution_count": 7,
      "outputs": [
        {
          "output_type": "execute_result",
          "data": {
            "text/plain": [
              "array(['Some Balance', 'No Account'], dtype=object)"
            ]
          },
          "metadata": {
            "tags": []
          },
          "execution_count": 7
        }
      ]
    },
    {
      "cell_type": "code",
      "metadata": {
        "id": "a641a81f"
      },
      "source": [
        "df['Account-Balance'].replace({'Some Balance': 1, 'No Account': 0}, inplace=True)"
      ],
      "id": "a641a81f",
      "execution_count": 8,
      "outputs": []
    },
    {
      "cell_type": "code",
      "metadata": {
        "colab": {
          "base_uri": "https://localhost:8080/"
        },
        "id": "9daa9e4a",
        "outputId": "5ee6436d-7ec0-4eea-c3a1-e53985f1db0d"
      },
      "source": [
        "df['Payment-Status-of-Previous-Credit'].unique()"
      ],
      "id": "9daa9e4a",
      "execution_count": 9,
      "outputs": [
        {
          "output_type": "execute_result",
          "data": {
            "text/plain": [
              "array(['Paid Up', 'No Problems (in this bank)', 'Some Problems'],\n",
              "      dtype=object)"
            ]
          },
          "metadata": {
            "tags": []
          },
          "execution_count": 9
        }
      ]
    },
    {
      "cell_type": "code",
      "metadata": {
        "id": "55071584"
      },
      "source": [
        "df['Payment-Status-of-Previous-Credit'].replace({'Paid Up': 2, 'No Problems (in this bank)': 1, 'Some Problems': 0}, inplace=True)"
      ],
      "id": "55071584",
      "execution_count": 10,
      "outputs": []
    },
    {
      "cell_type": "code",
      "metadata": {
        "colab": {
          "base_uri": "https://localhost:8080/"
        },
        "id": "b99b1e34",
        "outputId": "cce8ffae-ffcb-48fe-d39b-ff79c70dbdec"
      },
      "source": [
        "df['Purpose'].unique()"
      ],
      "id": "b99b1e34",
      "execution_count": 11,
      "outputs": [
        {
          "output_type": "execute_result",
          "data": {
            "text/plain": [
              "array(['Other', 'Home Related', 'Used car', 'New car'], dtype=object)"
            ]
          },
          "metadata": {
            "tags": []
          },
          "execution_count": 11
        }
      ]
    },
    {
      "cell_type": "code",
      "metadata": {
        "id": "6cc8d313"
      },
      "source": [
        "df['Purpose'].replace({\n",
        "                    'New car': 3, \n",
        "                    'Used car': 2,\n",
        "                    'Home Related': 1,\n",
        "                    'Other': 0}, inplace=True)"
      ],
      "id": "6cc8d313",
      "execution_count": 12,
      "outputs": []
    },
    {
      "cell_type": "code",
      "metadata": {
        "colab": {
          "base_uri": "https://localhost:8080/"
        },
        "id": "31255801",
        "outputId": "3c256c0c-64e0-4b01-8286-97933f7a958e"
      },
      "source": [
        "df['Value-Savings-Stocks'].unique()"
      ],
      "id": "31255801",
      "execution_count": 13,
      "outputs": [
        {
          "output_type": "execute_result",
          "data": {
            "text/plain": [
              "array(['£100-£1000', 'None', '< £100'], dtype=object)"
            ]
          },
          "metadata": {
            "tags": []
          },
          "execution_count": 13
        }
      ]
    },
    {
      "cell_type": "code",
      "metadata": {
        "id": "6a4fbf25"
      },
      "source": [
        "df['Value-Savings-Stocks'].replace({\n",
        "                    '< £100': 2, \n",
        "                    '£100-£1000': 1,\n",
        "                    'None': 0}, inplace=True)"
      ],
      "id": "6a4fbf25",
      "execution_count": 14,
      "outputs": []
    },
    {
      "cell_type": "code",
      "metadata": {
        "scrolled": true,
        "colab": {
          "base_uri": "https://localhost:8080/"
        },
        "id": "6849ecd9",
        "outputId": "9f72fefc-a121-4b42-e1d0-837144d6e989"
      },
      "source": [
        "df['Length-of-current-employment'].unique()"
      ],
      "id": "6849ecd9",
      "execution_count": 15,
      "outputs": [
        {
          "output_type": "execute_result",
          "data": {
            "text/plain": [
              "array(['< 1yr', '1-4 yrs', '4-7 yrs'], dtype=object)"
            ]
          },
          "metadata": {
            "tags": []
          },
          "execution_count": 15
        }
      ]
    },
    {
      "cell_type": "code",
      "metadata": {
        "id": "1b177732"
      },
      "source": [
        "df['Length-of-current-employment'].replace({\n",
        "                    '4-7 yrs': 2, \n",
        "                    '1-4 yrs': 1,\n",
        "                    '< 1yr': 0}, inplace=True)"
      ],
      "id": "1b177732",
      "execution_count": 16,
      "outputs": []
    },
    {
      "cell_type": "code",
      "metadata": {
        "colab": {
          "base_uri": "https://localhost:8080/"
        },
        "id": "a22e5647",
        "outputId": "2008daed-27a4-4ab2-afe2-19b464f05ea0"
      },
      "source": [
        "df['Concurrent-Credits'].unique()"
      ],
      "id": "a22e5647",
      "execution_count": 17,
      "outputs": [
        {
          "output_type": "execute_result",
          "data": {
            "text/plain": [
              "array(['Other Banks/Depts'], dtype=object)"
            ]
          },
          "metadata": {
            "tags": []
          },
          "execution_count": 17
        }
      ]
    },
    {
      "cell_type": "code",
      "metadata": {
        "id": "9430d24d"
      },
      "source": [
        "df['Concurrent-Credits'].replace({'Other Banks/Depts': 1}, inplace=True)"
      ],
      "id": "9430d24d",
      "execution_count": 18,
      "outputs": []
    },
    {
      "cell_type": "code",
      "metadata": {
        "colab": {
          "base_uri": "https://localhost:8080/"
        },
        "id": "ce1ef62c",
        "outputId": "553e15e0-896b-495a-e926-6a29675abd21"
      },
      "source": [
        "df['No-of-Credits-at-this-Bank'].unique()"
      ],
      "id": "ce1ef62c",
      "execution_count": 19,
      "outputs": [
        {
          "output_type": "execute_result",
          "data": {
            "text/plain": [
              "array(['1', 'More than 1'], dtype=object)"
            ]
          },
          "metadata": {
            "tags": []
          },
          "execution_count": 19
        }
      ]
    },
    {
      "cell_type": "code",
      "metadata": {
        "id": "ce2400ea"
      },
      "source": [
        "df['No-of-Credits-at-this-Bank'].replace({'More than 1': 1, '1': 0}, inplace=True)"
      ],
      "id": "ce2400ea",
      "execution_count": 20,
      "outputs": []
    },
    {
      "cell_type": "code",
      "metadata": {
        "colab": {
          "base_uri": "https://localhost:8080/"
        },
        "id": "11509755",
        "outputId": "627cb4d4-0da9-4653-f75c-7e3a78838db1"
      },
      "source": [
        "df[\"Guarantors\"].unique()"
      ],
      "id": "11509755",
      "execution_count": 21,
      "outputs": [
        {
          "output_type": "execute_result",
          "data": {
            "text/plain": [
              "array(['None', 'Yes'], dtype=object)"
            ]
          },
          "metadata": {
            "tags": []
          },
          "execution_count": 21
        }
      ]
    },
    {
      "cell_type": "code",
      "metadata": {
        "id": "59892426"
      },
      "source": [
        "df['Guarantors'].replace({'Yes': 1, 'None': 0}, inplace=True)"
      ],
      "id": "59892426",
      "execution_count": 22,
      "outputs": []
    },
    {
      "cell_type": "code",
      "metadata": {
        "scrolled": true,
        "colab": {
          "base_uri": "https://localhost:8080/",
          "height": 385
        },
        "id": "cd5815ae",
        "outputId": "f2dfc315-ed4d-48d1-ab7d-260ed2a0b069"
      },
      "source": [
        "df.describe()"
      ],
      "id": "cd5815ae",
      "execution_count": 23,
      "outputs": [
        {
          "output_type": "execute_result",
          "data": {
            "text/html": [
              "<div>\n",
              "<style scoped>\n",
              "    .dataframe tbody tr th:only-of-type {\n",
              "        vertical-align: middle;\n",
              "    }\n",
              "\n",
              "    .dataframe tbody tr th {\n",
              "        vertical-align: top;\n",
              "    }\n",
              "\n",
              "    .dataframe thead th {\n",
              "        text-align: right;\n",
              "    }\n",
              "</style>\n",
              "<table border=\"1\" class=\"dataframe\">\n",
              "  <thead>\n",
              "    <tr style=\"text-align: right;\">\n",
              "      <th></th>\n",
              "      <th>Credit-Application-Result</th>\n",
              "      <th>Account-Balance</th>\n",
              "      <th>Duration-of-Credit-Month</th>\n",
              "      <th>Payment-Status-of-Previous-Credit</th>\n",
              "      <th>Purpose</th>\n",
              "      <th>Credit-Amount</th>\n",
              "      <th>Value-Savings-Stocks</th>\n",
              "      <th>Length-of-current-employment</th>\n",
              "      <th>Instalment-per-cent</th>\n",
              "      <th>Guarantors</th>\n",
              "      <th>Duration-in-Current-address</th>\n",
              "      <th>Most-valuable-available-asset</th>\n",
              "      <th>Age-years</th>\n",
              "      <th>Concurrent-Credits</th>\n",
              "      <th>Type-of-apartment</th>\n",
              "      <th>No-of-Credits-at-this-Bank</th>\n",
              "      <th>Occupation</th>\n",
              "      <th>No-of-dependents</th>\n",
              "      <th>Telephone</th>\n",
              "      <th>Foreign-Worker</th>\n",
              "    </tr>\n",
              "  </thead>\n",
              "  <tbody>\n",
              "    <tr>\n",
              "      <th>count</th>\n",
              "      <td>500.000000</td>\n",
              "      <td>500.000000</td>\n",
              "      <td>500.00000</td>\n",
              "      <td>500.000000</td>\n",
              "      <td>500.000000</td>\n",
              "      <td>500.000000</td>\n",
              "      <td>500.000000</td>\n",
              "      <td>500.000000</td>\n",
              "      <td>500.000000</td>\n",
              "      <td>500.000000</td>\n",
              "      <td>156.000000</td>\n",
              "      <td>500.000000</td>\n",
              "      <td>488.000000</td>\n",
              "      <td>500.0</td>\n",
              "      <td>500.000000</td>\n",
              "      <td>500.000000</td>\n",
              "      <td>500.0</td>\n",
              "      <td>500.00000</td>\n",
              "      <td>500.000000</td>\n",
              "      <td>500.000000</td>\n",
              "    </tr>\n",
              "    <tr>\n",
              "      <th>mean</th>\n",
              "      <td>0.716000</td>\n",
              "      <td>0.476000</td>\n",
              "      <td>21.43400</td>\n",
              "      <td>1.448000</td>\n",
              "      <td>1.324000</td>\n",
              "      <td>3199.980000</td>\n",
              "      <td>0.500000</td>\n",
              "      <td>0.690000</td>\n",
              "      <td>3.010000</td>\n",
              "      <td>0.086000</td>\n",
              "      <td>2.660256</td>\n",
              "      <td>2.360000</td>\n",
              "      <td>35.637295</td>\n",
              "      <td>1.0</td>\n",
              "      <td>1.928000</td>\n",
              "      <td>0.360000</td>\n",
              "      <td>1.0</td>\n",
              "      <td>1.14600</td>\n",
              "      <td>1.400000</td>\n",
              "      <td>1.038000</td>\n",
              "    </tr>\n",
              "    <tr>\n",
              "      <th>std</th>\n",
              "      <td>0.451388</td>\n",
              "      <td>0.499924</td>\n",
              "      <td>12.30742</td>\n",
              "      <td>0.626163</td>\n",
              "      <td>0.684076</td>\n",
              "      <td>2831.386861</td>\n",
              "      <td>0.665497</td>\n",
              "      <td>0.843399</td>\n",
              "      <td>1.113724</td>\n",
              "      <td>0.280645</td>\n",
              "      <td>1.150017</td>\n",
              "      <td>1.064268</td>\n",
              "      <td>11.501522</td>\n",
              "      <td>0.0</td>\n",
              "      <td>0.539814</td>\n",
              "      <td>0.480481</td>\n",
              "      <td>0.0</td>\n",
              "      <td>0.35346</td>\n",
              "      <td>0.490389</td>\n",
              "      <td>0.191388</td>\n",
              "    </tr>\n",
              "    <tr>\n",
              "      <th>min</th>\n",
              "      <td>0.000000</td>\n",
              "      <td>0.000000</td>\n",
              "      <td>4.00000</td>\n",
              "      <td>0.000000</td>\n",
              "      <td>0.000000</td>\n",
              "      <td>276.000000</td>\n",
              "      <td>0.000000</td>\n",
              "      <td>0.000000</td>\n",
              "      <td>1.000000</td>\n",
              "      <td>0.000000</td>\n",
              "      <td>1.000000</td>\n",
              "      <td>1.000000</td>\n",
              "      <td>19.000000</td>\n",
              "      <td>1.0</td>\n",
              "      <td>1.000000</td>\n",
              "      <td>0.000000</td>\n",
              "      <td>1.0</td>\n",
              "      <td>1.00000</td>\n",
              "      <td>1.000000</td>\n",
              "      <td>1.000000</td>\n",
              "    </tr>\n",
              "    <tr>\n",
              "      <th>25%</th>\n",
              "      <td>0.000000</td>\n",
              "      <td>0.000000</td>\n",
              "      <td>12.00000</td>\n",
              "      <td>1.000000</td>\n",
              "      <td>1.000000</td>\n",
              "      <td>1357.250000</td>\n",
              "      <td>0.000000</td>\n",
              "      <td>0.000000</td>\n",
              "      <td>2.000000</td>\n",
              "      <td>0.000000</td>\n",
              "      <td>2.000000</td>\n",
              "      <td>1.000000</td>\n",
              "      <td>27.000000</td>\n",
              "      <td>1.0</td>\n",
              "      <td>2.000000</td>\n",
              "      <td>0.000000</td>\n",
              "      <td>1.0</td>\n",
              "      <td>1.00000</td>\n",
              "      <td>1.000000</td>\n",
              "      <td>1.000000</td>\n",
              "    </tr>\n",
              "    <tr>\n",
              "      <th>50%</th>\n",
              "      <td>1.000000</td>\n",
              "      <td>0.000000</td>\n",
              "      <td>18.00000</td>\n",
              "      <td>2.000000</td>\n",
              "      <td>1.000000</td>\n",
              "      <td>2236.500000</td>\n",
              "      <td>0.000000</td>\n",
              "      <td>0.000000</td>\n",
              "      <td>3.000000</td>\n",
              "      <td>0.000000</td>\n",
              "      <td>2.000000</td>\n",
              "      <td>3.000000</td>\n",
              "      <td>33.000000</td>\n",
              "      <td>1.0</td>\n",
              "      <td>2.000000</td>\n",
              "      <td>0.000000</td>\n",
              "      <td>1.0</td>\n",
              "      <td>1.00000</td>\n",
              "      <td>1.000000</td>\n",
              "      <td>1.000000</td>\n",
              "    </tr>\n",
              "    <tr>\n",
              "      <th>75%</th>\n",
              "      <td>1.000000</td>\n",
              "      <td>1.000000</td>\n",
              "      <td>24.00000</td>\n",
              "      <td>2.000000</td>\n",
              "      <td>2.000000</td>\n",
              "      <td>3941.500000</td>\n",
              "      <td>1.000000</td>\n",
              "      <td>1.000000</td>\n",
              "      <td>4.000000</td>\n",
              "      <td>0.000000</td>\n",
              "      <td>4.000000</td>\n",
              "      <td>3.000000</td>\n",
              "      <td>42.000000</td>\n",
              "      <td>1.0</td>\n",
              "      <td>2.000000</td>\n",
              "      <td>1.000000</td>\n",
              "      <td>1.0</td>\n",
              "      <td>1.00000</td>\n",
              "      <td>2.000000</td>\n",
              "      <td>1.000000</td>\n",
              "    </tr>\n",
              "    <tr>\n",
              "      <th>max</th>\n",
              "      <td>1.000000</td>\n",
              "      <td>1.000000</td>\n",
              "      <td>60.00000</td>\n",
              "      <td>2.000000</td>\n",
              "      <td>3.000000</td>\n",
              "      <td>18424.000000</td>\n",
              "      <td>2.000000</td>\n",
              "      <td>2.000000</td>\n",
              "      <td>4.000000</td>\n",
              "      <td>1.000000</td>\n",
              "      <td>4.000000</td>\n",
              "      <td>4.000000</td>\n",
              "      <td>75.000000</td>\n",
              "      <td>1.0</td>\n",
              "      <td>3.000000</td>\n",
              "      <td>1.000000</td>\n",
              "      <td>1.0</td>\n",
              "      <td>2.00000</td>\n",
              "      <td>2.000000</td>\n",
              "      <td>2.000000</td>\n",
              "    </tr>\n",
              "  </tbody>\n",
              "</table>\n",
              "</div>"
            ],
            "text/plain": [
              "       Credit-Application-Result  Account-Balance  ...   Telephone  Foreign-Worker\n",
              "count                 500.000000       500.000000  ...  500.000000      500.000000\n",
              "mean                    0.716000         0.476000  ...    1.400000        1.038000\n",
              "std                     0.451388         0.499924  ...    0.490389        0.191388\n",
              "min                     0.000000         0.000000  ...    1.000000        1.000000\n",
              "25%                     0.000000         0.000000  ...    1.000000        1.000000\n",
              "50%                     1.000000         0.000000  ...    1.000000        1.000000\n",
              "75%                     1.000000         1.000000  ...    2.000000        1.000000\n",
              "max                     1.000000         1.000000  ...    2.000000        2.000000\n",
              "\n",
              "[8 rows x 20 columns]"
            ]
          },
          "metadata": {
            "tags": []
          },
          "execution_count": 23
        }
      ]
    },
    {
      "cell_type": "markdown",
      "metadata": {
        "id": "ed5061d9"
      },
      "source": [
        "## Data cleanup\n",
        "\n",
        "**Checking null values**"
      ],
      "id": "ed5061d9"
    },
    {
      "cell_type": "code",
      "metadata": {
        "scrolled": true,
        "colab": {
          "base_uri": "https://localhost:8080/"
        },
        "id": "7586b7b8",
        "outputId": "50684b89-23a9-4ee6-ec5e-d721d49cfa2e"
      },
      "source": [
        "df.isnull().sum()"
      ],
      "id": "7586b7b8",
      "execution_count": 24,
      "outputs": [
        {
          "output_type": "execute_result",
          "data": {
            "text/plain": [
              "Credit-Application-Result              0\n",
              "Account-Balance                        0\n",
              "Duration-of-Credit-Month               0\n",
              "Payment-Status-of-Previous-Credit      0\n",
              "Purpose                                0\n",
              "Credit-Amount                          0\n",
              "Value-Savings-Stocks                   0\n",
              "Length-of-current-employment           0\n",
              "Instalment-per-cent                    0\n",
              "Guarantors                             0\n",
              "Duration-in-Current-address          344\n",
              "Most-valuable-available-asset          0\n",
              "Age-years                             12\n",
              "Concurrent-Credits                     0\n",
              "Type-of-apartment                      0\n",
              "No-of-Credits-at-this-Bank             0\n",
              "Occupation                             0\n",
              "No-of-dependents                       0\n",
              "Telephone                              0\n",
              "Foreign-Worker                         0\n",
              "dtype: int64"
            ]
          },
          "metadata": {
            "tags": []
          },
          "execution_count": 24
        }
      ]
    },
    {
      "cell_type": "code",
      "metadata": {
        "id": "9af931cf"
      },
      "source": [
        "df = df.fillna(round(df.median()))"
      ],
      "id": "9af931cf",
      "execution_count": 25,
      "outputs": []
    },
    {
      "cell_type": "code",
      "metadata": {
        "scrolled": true,
        "colab": {
          "base_uri": "https://localhost:8080/"
        },
        "id": "6a572adf",
        "outputId": "529a52a5-074a-4793-b8a7-bb59f417253c"
      },
      "source": [
        "df.info()"
      ],
      "id": "6a572adf",
      "execution_count": 26,
      "outputs": [
        {
          "output_type": "stream",
          "text": [
            "<class 'pandas.core.frame.DataFrame'>\n",
            "RangeIndex: 500 entries, 0 to 499\n",
            "Data columns (total 20 columns):\n",
            " #   Column                             Non-Null Count  Dtype  \n",
            "---  ------                             --------------  -----  \n",
            " 0   Credit-Application-Result          500 non-null    int64  \n",
            " 1   Account-Balance                    500 non-null    int64  \n",
            " 2   Duration-of-Credit-Month           500 non-null    int64  \n",
            " 3   Payment-Status-of-Previous-Credit  500 non-null    int64  \n",
            " 4   Purpose                            500 non-null    int64  \n",
            " 5   Credit-Amount                      500 non-null    int64  \n",
            " 6   Value-Savings-Stocks               500 non-null    int64  \n",
            " 7   Length-of-current-employment       500 non-null    int64  \n",
            " 8   Instalment-per-cent                500 non-null    int64  \n",
            " 9   Guarantors                         500 non-null    int64  \n",
            " 10  Duration-in-Current-address        500 non-null    float64\n",
            " 11  Most-valuable-available-asset      500 non-null    int64  \n",
            " 12  Age-years                          500 non-null    float64\n",
            " 13  Concurrent-Credits                 500 non-null    int64  \n",
            " 14  Type-of-apartment                  500 non-null    int64  \n",
            " 15  No-of-Credits-at-this-Bank         500 non-null    int64  \n",
            " 16  Occupation                         500 non-null    int64  \n",
            " 17  No-of-dependents                   500 non-null    int64  \n",
            " 18  Telephone                          500 non-null    int64  \n",
            " 19  Foreign-Worker                     500 non-null    int64  \n",
            "dtypes: float64(2), int64(18)\n",
            "memory usage: 78.2 KB\n"
          ],
          "name": "stdout"
        }
      ]
    },
    {
      "cell_type": "code",
      "metadata": {
        "scrolled": true,
        "colab": {
          "base_uri": "https://localhost:8080/",
          "height": 385
        },
        "id": "10fda95d",
        "outputId": "0c9fc7d4-2d5e-4e94-f4ef-9b2436dcc68e"
      },
      "source": [
        "df.describe()"
      ],
      "id": "10fda95d",
      "execution_count": 27,
      "outputs": [
        {
          "output_type": "execute_result",
          "data": {
            "text/html": [
              "<div>\n",
              "<style scoped>\n",
              "    .dataframe tbody tr th:only-of-type {\n",
              "        vertical-align: middle;\n",
              "    }\n",
              "\n",
              "    .dataframe tbody tr th {\n",
              "        vertical-align: top;\n",
              "    }\n",
              "\n",
              "    .dataframe thead th {\n",
              "        text-align: right;\n",
              "    }\n",
              "</style>\n",
              "<table border=\"1\" class=\"dataframe\">\n",
              "  <thead>\n",
              "    <tr style=\"text-align: right;\">\n",
              "      <th></th>\n",
              "      <th>Credit-Application-Result</th>\n",
              "      <th>Account-Balance</th>\n",
              "      <th>Duration-of-Credit-Month</th>\n",
              "      <th>Payment-Status-of-Previous-Credit</th>\n",
              "      <th>Purpose</th>\n",
              "      <th>Credit-Amount</th>\n",
              "      <th>Value-Savings-Stocks</th>\n",
              "      <th>Length-of-current-employment</th>\n",
              "      <th>Instalment-per-cent</th>\n",
              "      <th>Guarantors</th>\n",
              "      <th>Duration-in-Current-address</th>\n",
              "      <th>Most-valuable-available-asset</th>\n",
              "      <th>Age-years</th>\n",
              "      <th>Concurrent-Credits</th>\n",
              "      <th>Type-of-apartment</th>\n",
              "      <th>No-of-Credits-at-this-Bank</th>\n",
              "      <th>Occupation</th>\n",
              "      <th>No-of-dependents</th>\n",
              "      <th>Telephone</th>\n",
              "      <th>Foreign-Worker</th>\n",
              "    </tr>\n",
              "  </thead>\n",
              "  <tbody>\n",
              "    <tr>\n",
              "      <th>count</th>\n",
              "      <td>500.000000</td>\n",
              "      <td>500.000000</td>\n",
              "      <td>500.00000</td>\n",
              "      <td>500.000000</td>\n",
              "      <td>500.000000</td>\n",
              "      <td>500.000000</td>\n",
              "      <td>500.000000</td>\n",
              "      <td>500.000000</td>\n",
              "      <td>500.000000</td>\n",
              "      <td>500.000000</td>\n",
              "      <td>500.000000</td>\n",
              "      <td>500.000000</td>\n",
              "      <td>500.000000</td>\n",
              "      <td>500.0</td>\n",
              "      <td>500.000000</td>\n",
              "      <td>500.000000</td>\n",
              "      <td>500.0</td>\n",
              "      <td>500.00000</td>\n",
              "      <td>500.000000</td>\n",
              "      <td>500.000000</td>\n",
              "    </tr>\n",
              "    <tr>\n",
              "      <th>mean</th>\n",
              "      <td>0.716000</td>\n",
              "      <td>0.476000</td>\n",
              "      <td>21.43400</td>\n",
              "      <td>1.448000</td>\n",
              "      <td>1.324000</td>\n",
              "      <td>3199.980000</td>\n",
              "      <td>0.500000</td>\n",
              "      <td>0.690000</td>\n",
              "      <td>3.010000</td>\n",
              "      <td>0.086000</td>\n",
              "      <td>2.206000</td>\n",
              "      <td>2.360000</td>\n",
              "      <td>35.574000</td>\n",
              "      <td>1.0</td>\n",
              "      <td>1.928000</td>\n",
              "      <td>0.360000</td>\n",
              "      <td>1.0</td>\n",
              "      <td>1.14600</td>\n",
              "      <td>1.400000</td>\n",
              "      <td>1.038000</td>\n",
              "    </tr>\n",
              "    <tr>\n",
              "      <th>std</th>\n",
              "      <td>0.451388</td>\n",
              "      <td>0.499924</td>\n",
              "      <td>12.30742</td>\n",
              "      <td>0.626163</td>\n",
              "      <td>0.684076</td>\n",
              "      <td>2831.386861</td>\n",
              "      <td>0.665497</td>\n",
              "      <td>0.843399</td>\n",
              "      <td>1.113724</td>\n",
              "      <td>0.280645</td>\n",
              "      <td>0.710333</td>\n",
              "      <td>1.064268</td>\n",
              "      <td>11.369567</td>\n",
              "      <td>0.0</td>\n",
              "      <td>0.539814</td>\n",
              "      <td>0.480481</td>\n",
              "      <td>0.0</td>\n",
              "      <td>0.35346</td>\n",
              "      <td>0.490389</td>\n",
              "      <td>0.191388</td>\n",
              "    </tr>\n",
              "    <tr>\n",
              "      <th>min</th>\n",
              "      <td>0.000000</td>\n",
              "      <td>0.000000</td>\n",
              "      <td>4.00000</td>\n",
              "      <td>0.000000</td>\n",
              "      <td>0.000000</td>\n",
              "      <td>276.000000</td>\n",
              "      <td>0.000000</td>\n",
              "      <td>0.000000</td>\n",
              "      <td>1.000000</td>\n",
              "      <td>0.000000</td>\n",
              "      <td>1.000000</td>\n",
              "      <td>1.000000</td>\n",
              "      <td>19.000000</td>\n",
              "      <td>1.0</td>\n",
              "      <td>1.000000</td>\n",
              "      <td>0.000000</td>\n",
              "      <td>1.0</td>\n",
              "      <td>1.00000</td>\n",
              "      <td>1.000000</td>\n",
              "      <td>1.000000</td>\n",
              "    </tr>\n",
              "    <tr>\n",
              "      <th>25%</th>\n",
              "      <td>0.000000</td>\n",
              "      <td>0.000000</td>\n",
              "      <td>12.00000</td>\n",
              "      <td>1.000000</td>\n",
              "      <td>1.000000</td>\n",
              "      <td>1357.250000</td>\n",
              "      <td>0.000000</td>\n",
              "      <td>0.000000</td>\n",
              "      <td>2.000000</td>\n",
              "      <td>0.000000</td>\n",
              "      <td>2.000000</td>\n",
              "      <td>1.000000</td>\n",
              "      <td>27.000000</td>\n",
              "      <td>1.0</td>\n",
              "      <td>2.000000</td>\n",
              "      <td>0.000000</td>\n",
              "      <td>1.0</td>\n",
              "      <td>1.00000</td>\n",
              "      <td>1.000000</td>\n",
              "      <td>1.000000</td>\n",
              "    </tr>\n",
              "    <tr>\n",
              "      <th>50%</th>\n",
              "      <td>1.000000</td>\n",
              "      <td>0.000000</td>\n",
              "      <td>18.00000</td>\n",
              "      <td>2.000000</td>\n",
              "      <td>1.000000</td>\n",
              "      <td>2236.500000</td>\n",
              "      <td>0.000000</td>\n",
              "      <td>0.000000</td>\n",
              "      <td>3.000000</td>\n",
              "      <td>0.000000</td>\n",
              "      <td>2.000000</td>\n",
              "      <td>3.000000</td>\n",
              "      <td>33.000000</td>\n",
              "      <td>1.0</td>\n",
              "      <td>2.000000</td>\n",
              "      <td>0.000000</td>\n",
              "      <td>1.0</td>\n",
              "      <td>1.00000</td>\n",
              "      <td>1.000000</td>\n",
              "      <td>1.000000</td>\n",
              "    </tr>\n",
              "    <tr>\n",
              "      <th>75%</th>\n",
              "      <td>1.000000</td>\n",
              "      <td>1.000000</td>\n",
              "      <td>24.00000</td>\n",
              "      <td>2.000000</td>\n",
              "      <td>2.000000</td>\n",
              "      <td>3941.500000</td>\n",
              "      <td>1.000000</td>\n",
              "      <td>1.000000</td>\n",
              "      <td>4.000000</td>\n",
              "      <td>0.000000</td>\n",
              "      <td>2.000000</td>\n",
              "      <td>3.000000</td>\n",
              "      <td>41.000000</td>\n",
              "      <td>1.0</td>\n",
              "      <td>2.000000</td>\n",
              "      <td>1.000000</td>\n",
              "      <td>1.0</td>\n",
              "      <td>1.00000</td>\n",
              "      <td>2.000000</td>\n",
              "      <td>1.000000</td>\n",
              "    </tr>\n",
              "    <tr>\n",
              "      <th>max</th>\n",
              "      <td>1.000000</td>\n",
              "      <td>1.000000</td>\n",
              "      <td>60.00000</td>\n",
              "      <td>2.000000</td>\n",
              "      <td>3.000000</td>\n",
              "      <td>18424.000000</td>\n",
              "      <td>2.000000</td>\n",
              "      <td>2.000000</td>\n",
              "      <td>4.000000</td>\n",
              "      <td>1.000000</td>\n",
              "      <td>4.000000</td>\n",
              "      <td>4.000000</td>\n",
              "      <td>75.000000</td>\n",
              "      <td>1.0</td>\n",
              "      <td>3.000000</td>\n",
              "      <td>1.000000</td>\n",
              "      <td>1.0</td>\n",
              "      <td>2.00000</td>\n",
              "      <td>2.000000</td>\n",
              "      <td>2.000000</td>\n",
              "    </tr>\n",
              "  </tbody>\n",
              "</table>\n",
              "</div>"
            ],
            "text/plain": [
              "       Credit-Application-Result  Account-Balance  ...   Telephone  Foreign-Worker\n",
              "count                 500.000000       500.000000  ...  500.000000      500.000000\n",
              "mean                    0.716000         0.476000  ...    1.400000        1.038000\n",
              "std                     0.451388         0.499924  ...    0.490389        0.191388\n",
              "min                     0.000000         0.000000  ...    1.000000        1.000000\n",
              "25%                     0.000000         0.000000  ...    1.000000        1.000000\n",
              "50%                     1.000000         0.000000  ...    1.000000        1.000000\n",
              "75%                     1.000000         1.000000  ...    2.000000        1.000000\n",
              "max                     1.000000         1.000000  ...    2.000000        2.000000\n",
              "\n",
              "[8 rows x 20 columns]"
            ]
          },
          "metadata": {
            "tags": []
          },
          "execution_count": 27
        }
      ]
    },
    {
      "cell_type": "markdown",
      "metadata": {
        "id": "af243a0d"
      },
      "source": [
        "### Features Selection"
      ],
      "id": "af243a0d"
    },
    {
      "cell_type": "code",
      "metadata": {
        "colab": {
          "base_uri": "https://localhost:8080/",
          "height": 841
        },
        "id": "1eb825bd",
        "outputId": "a9b400a5-19b7-42a2-a38b-1d3773e65498"
      },
      "source": [
        "plt.figure(figsize=(12,12)) \n",
        "sns.heatmap(df.corr(),annot=True,cmap='cubehelix_r')\n",
        "plt.show()"
      ],
      "id": "1eb825bd",
      "execution_count": 28,
      "outputs": [
        {
          "output_type": "display_data",
          "data": {
            "image/png": "[encoded data removed]",
            "text/plain": [
              "<Figure size 864x864 with 2 Axes>"
            ]
          },
          "metadata": {
            "tags": [],
            "needs_background": "light"
          }
        }
      ]
    },
    {
      "cell_type": "code",
      "metadata": {
        "id": "3a15b6d4"
      },
      "source": [
        "corr = df.corr()\n",
        "#Correlation with output variable\n",
        "cor_target = abs(corr[\"Credit-Application-Result\"])\n",
        "#Selecting highly correlated features\n",
        "relevant_features = cor_target[cor_target>=0]\n",
        "df_corr = pd.DataFrame(relevant_features)"
      ],
      "id": "3a15b6d4",
      "execution_count": 29,
      "outputs": []
    },
    {
      "cell_type": "code",
      "metadata": {
        "colab": {
          "base_uri": "https://localhost:8080/",
          "height": 607
        },
        "id": "eedc2c7d",
        "outputId": "89ca35c1-79b5-4f84-8494-278fa8155568"
      },
      "source": [
        "df_corr = df_corr.reset_index()\n",
        "df_corr = df_corr.rename(columns = {'Credit-Application-Result' : 'Corr', 'index': 'features'})\n",
        "df_corr = df_corr.sort_values(['Corr'], ascending=False)\n",
        "df_corr"
      ],
      "id": "eedc2c7d",
      "execution_count": 30,
      "outputs": [
        {
          "output_type": "execute_result",
          "data": {
            "text/html": [
              "<div>\n",
              "<style scoped>\n",
              "    .dataframe tbody tr th:only-of-type {\n",
              "        vertical-align: middle;\n",
              "    }\n",
              "\n",
              "    .dataframe tbody tr th {\n",
              "        vertical-align: top;\n",
              "    }\n",
              "\n",
              "    .dataframe thead th {\n",
              "        text-align: right;\n",
              "    }\n",
              "</style>\n",
              "<table border=\"1\" class=\"dataframe\">\n",
              "  <thead>\n",
              "    <tr style=\"text-align: right;\">\n",
              "      <th></th>\n",
              "      <th>features</th>\n",
              "      <th>Corr</th>\n",
              "    </tr>\n",
              "  </thead>\n",
              "  <tbody>\n",
              "    <tr>\n",
              "      <th>0</th>\n",
              "      <td>Credit-Application-Result</td>\n",
              "      <td>1.000000</td>\n",
              "    </tr>\n",
              "    <tr>\n",
              "      <th>1</th>\n",
              "      <td>Account-Balance</td>\n",
              "      <td>0.316080</td>\n",
              "    </tr>\n",
              "    <tr>\n",
              "      <th>2</th>\n",
              "      <td>Duration-of-Credit-Month</td>\n",
              "      <td>0.202504</td>\n",
              "    </tr>\n",
              "    <tr>\n",
              "      <th>5</th>\n",
              "      <td>Credit-Amount</td>\n",
              "      <td>0.201946</td>\n",
              "    </tr>\n",
              "    <tr>\n",
              "      <th>11</th>\n",
              "      <td>Most-valuable-available-asset</td>\n",
              "      <td>0.141332</td>\n",
              "    </tr>\n",
              "    <tr>\n",
              "      <th>6</th>\n",
              "      <td>Value-Savings-Stocks</td>\n",
              "      <td>0.133424</td>\n",
              "    </tr>\n",
              "    <tr>\n",
              "      <th>3</th>\n",
              "      <td>Payment-Status-of-Previous-Credit</td>\n",
              "      <td>0.096541</td>\n",
              "    </tr>\n",
              "    <tr>\n",
              "      <th>4</th>\n",
              "      <td>Purpose</td>\n",
              "      <td>0.090912</td>\n",
              "    </tr>\n",
              "    <tr>\n",
              "      <th>7</th>\n",
              "      <td>Length-of-current-employment</td>\n",
              "      <td>0.089383</td>\n",
              "    </tr>\n",
              "    <tr>\n",
              "      <th>10</th>\n",
              "      <td>Duration-in-Current-address</td>\n",
              "      <td>0.082826</td>\n",
              "    </tr>\n",
              "    <tr>\n",
              "      <th>8</th>\n",
              "      <td>Instalment-per-cent</td>\n",
              "      <td>0.062107</td>\n",
              "    </tr>\n",
              "    <tr>\n",
              "      <th>14</th>\n",
              "      <td>No-of-Credits-at-this-Bank</td>\n",
              "      <td>0.056549</td>\n",
              "    </tr>\n",
              "    <tr>\n",
              "      <th>12</th>\n",
              "      <td>Age-years</td>\n",
              "      <td>0.052914</td>\n",
              "    </tr>\n",
              "    <tr>\n",
              "      <th>9</th>\n",
              "      <td>Guarantors</td>\n",
              "      <td>0.044105</td>\n",
              "    </tr>\n",
              "    <tr>\n",
              "      <th>15</th>\n",
              "      <td>No-of-dependents</td>\n",
              "      <td>0.041048</td>\n",
              "    </tr>\n",
              "    <tr>\n",
              "      <th>16</th>\n",
              "      <td>Telephone</td>\n",
              "      <td>0.028971</td>\n",
              "    </tr>\n",
              "    <tr>\n",
              "      <th>13</th>\n",
              "      <td>Type-of-apartment</td>\n",
              "      <td>0.026516</td>\n",
              "    </tr>\n",
              "    <tr>\n",
              "      <th>17</th>\n",
              "      <td>Foreign-Worker</td>\n",
              "      <td>0.009186</td>\n",
              "    </tr>\n",
              "  </tbody>\n",
              "</table>\n",
              "</div>"
            ],
            "text/plain": [
              "                             features      Corr\n",
              "0           Credit-Application-Result  1.000000\n",
              "1                     Account-Balance  0.316080\n",
              "2            Duration-of-Credit-Month  0.202504\n",
              "5                       Credit-Amount  0.201946\n",
              "11      Most-valuable-available-asset  0.141332\n",
              "6                Value-Savings-Stocks  0.133424\n",
              "3   Payment-Status-of-Previous-Credit  0.096541\n",
              "4                             Purpose  0.090912\n",
              "7        Length-of-current-employment  0.089383\n",
              "10        Duration-in-Current-address  0.082826\n",
              "8                 Instalment-per-cent  0.062107\n",
              "14         No-of-Credits-at-this-Bank  0.056549\n",
              "12                          Age-years  0.052914\n",
              "9                          Guarantors  0.044105\n",
              "15                   No-of-dependents  0.041048\n",
              "16                          Telephone  0.028971\n",
              "13                  Type-of-apartment  0.026516\n",
              "17                     Foreign-Worker  0.009186"
            ]
          },
          "metadata": {
            "tags": []
          },
          "execution_count": 30
        }
      ]
    },
    {
      "cell_type": "code",
      "metadata": {
        "colab": {
          "base_uri": "https://localhost:8080/"
        },
        "id": "06c6155b",
        "outputId": "a0d7eca3-0146-4db9-b437-9f39219dfd5d"
      },
      "source": [
        "df.nunique()"
      ],
      "id": "06c6155b",
      "execution_count": 31,
      "outputs": [
        {
          "output_type": "execute_result",
          "data": {
            "text/plain": [
              "Credit-Application-Result              2\n",
              "Account-Balance                        2\n",
              "Duration-of-Credit-Month              30\n",
              "Payment-Status-of-Previous-Credit      3\n",
              "Purpose                                4\n",
              "Credit-Amount                        464\n",
              "Value-Savings-Stocks                   3\n",
              "Length-of-current-employment           3\n",
              "Instalment-per-cent                    4\n",
              "Guarantors                             2\n",
              "Duration-in-Current-address            4\n",
              "Most-valuable-available-asset          4\n",
              "Age-years                             53\n",
              "Concurrent-Credits                     1\n",
              "Type-of-apartment                      3\n",
              "No-of-Credits-at-this-Bank             2\n",
              "Occupation                             1\n",
              "No-of-dependents                       2\n",
              "Telephone                              2\n",
              "Foreign-Worker                         2\n",
              "dtype: int64"
            ]
          },
          "metadata": {
            "tags": []
          },
          "execution_count": 31
        }
      ]
    },
    {
      "cell_type": "code",
      "metadata": {
        "colab": {
          "base_uri": "https://localhost:8080/"
        },
        "id": "eb5e0bff",
        "outputId": "cbcb1694-71d6-40b5-a2c4-ba1ff7564b92"
      },
      "source": [
        "df.skew()"
      ],
      "id": "eb5e0bff",
      "execution_count": 32,
      "outputs": [
        {
          "output_type": "execute_result",
          "data": {
            "text/plain": [
              "Credit-Application-Result           -0.960891\n",
              "Account-Balance                      0.096400\n",
              "Duration-of-Credit-Month             0.991000\n",
              "Payment-Status-of-Previous-Credit   -0.687677\n",
              "Purpose                              1.257190\n",
              "Credit-Amount                        2.108522\n",
              "Value-Savings-Stocks                 0.983026\n",
              "Length-of-current-employment         0.637223\n",
              "Instalment-per-cent                 -0.596533\n",
              "Guarantors                           2.962197\n",
              "Duration-in-Current-address          1.566395\n",
              "Most-valuable-available-asset        0.013780\n",
              "Age-years                            1.102038\n",
              "Concurrent-Credits                   0.000000\n",
              "Type-of-apartment                   -0.056348\n",
              "No-of-Credits-at-this-Bank           0.585090\n",
              "Occupation                           0.000000\n",
              "No-of-dependents                     2.011101\n",
              "Telephone                            0.409478\n",
              "Foreign-Worker                       4.847285\n",
              "dtype: float64"
            ]
          },
          "metadata": {
            "tags": []
          },
          "execution_count": 32
        }
      ]
    },
    {
      "cell_type": "code",
      "metadata": {
        "colab": {
          "base_uri": "https://localhost:8080/",
          "height": 279
        },
        "id": "d1c2f347",
        "outputId": "7e55d7b7-305a-4876-dd64-4b37e2d51ed7"
      },
      "source": [
        "df['No-of-dependents'].value_counts().sort_index().plot.bar()"
      ],
      "id": "d1c2f347",
      "execution_count": 33,
      "outputs": [
        {
          "output_type": "execute_result",
          "data": {
            "text/plain": [
              "<matplotlib.axes._subplots.AxesSubplot at 0x7fa0c5da6450>"
            ]
          },
          "metadata": {
            "tags": []
          },
          "execution_count": 33
        },
        {
          "output_type": "display_data",
          "data": {
            "image/png": "[encoded data removed]",
            "text/plain": [
              "<Figure size 432x288 with 1 Axes>"
            ]
          },
          "metadata": {
            "tags": [],
            "needs_background": "light"
          }
        }
      ]
    },
    {
      "cell_type": "code",
      "metadata": {
        "colab": {
          "base_uri": "https://localhost:8080/",
          "height": 279
        },
        "id": "b410d954",
        "outputId": "8b065772-742d-4c95-f281-c782cde047e5"
      },
      "source": [
        "df['No-of-Credits-at-this-Bank'].value_counts().sort_index().plot.bar()"
      ],
      "id": "b410d954",
      "execution_count": 34,
      "outputs": [
        {
          "output_type": "execute_result",
          "data": {
            "text/plain": [
              "<matplotlib.axes._subplots.AxesSubplot at 0x7fa0c5d18610>"
            ]
          },
          "metadata": {
            "tags": []
          },
          "execution_count": 34
        },
        {
          "output_type": "display_data",
          "data": {
            "image/png": "[encoded data removed]",
            "text/plain": [
              "<Figure size 432x288 with 1 Axes>"
            ]
          },
          "metadata": {
            "tags": [],
            "needs_background": "light"
          }
        }
      ]
    },
    {
      "cell_type": "code",
      "metadata": {
        "colab": {
          "base_uri": "https://localhost:8080/",
          "height": 279
        },
        "id": "2f66a0ab",
        "outputId": "dc2fd964-6332-4890-aeb7-ef5bed5f4399"
      },
      "source": [
        "df['Type-of-apartment'].value_counts().sort_index().plot.bar()"
      ],
      "id": "2f66a0ab",
      "execution_count": 35,
      "outputs": [
        {
          "output_type": "execute_result",
          "data": {
            "text/plain": [
              "<matplotlib.axes._subplots.AxesSubplot at 0x7fa0c5d08d50>"
            ]
          },
          "metadata": {
            "tags": []
          },
          "execution_count": 35
        },
        {
          "output_type": "display_data",
          "data": {
            "image/png": "[encoded data removed]",
            "text/plain": [
              "<Figure size 432x288 with 1 Axes>"
            ]
          },
          "metadata": {
            "tags": [],
            "needs_background": "light"
          }
        }
      ]
    },
    {
      "cell_type": "code",
      "metadata": {
        "colab": {
          "base_uri": "https://localhost:8080/",
          "height": 279
        },
        "id": "6a060936",
        "outputId": "9bff3a10-520e-442a-9052-3ef15851115f"
      },
      "source": [
        "df['Guarantors'].value_counts().sort_index().plot.bar()"
      ],
      "id": "6a060936",
      "execution_count": 36,
      "outputs": [
        {
          "output_type": "execute_result",
          "data": {
            "text/plain": [
              "<matplotlib.axes._subplots.AxesSubplot at 0x7fa0c5c5b510>"
            ]
          },
          "metadata": {
            "tags": []
          },
          "execution_count": 36
        },
        {
          "output_type": "display_data",
          "data": {
            "image/png": "[encoded data removed]",
            "text/plain": [
              "<Figure size 432x288 with 1 Axes>"
            ]
          },
          "metadata": {
            "tags": [],
            "needs_background": "light"
          }
        }
      ]
    },
    {
      "cell_type": "code",
      "metadata": {
        "colab": {
          "base_uri": "https://localhost:8080/",
          "height": 279
        },
        "id": "523d0975",
        "outputId": "07c0a86c-6ff4-4d7b-fce2-3f5acbb5010b"
      },
      "source": [
        "df['Telephone'].value_counts().sort_index().plot.bar()"
      ],
      "id": "523d0975",
      "execution_count": 37,
      "outputs": [
        {
          "output_type": "execute_result",
          "data": {
            "text/plain": [
              "<matplotlib.axes._subplots.AxesSubplot at 0x7fa0c87c5d10>"
            ]
          },
          "metadata": {
            "tags": []
          },
          "execution_count": 37
        },
        {
          "output_type": "display_data",
          "data": {
            "image/png": "[encoded data removed]",
            "text/plain": [
              "<Figure size 432x288 with 1 Axes>"
            ]
          },
          "metadata": {
            "tags": [],
            "needs_background": "light"
          }
        }
      ]
    },
    {
      "cell_type": "markdown",
      "metadata": {
        "id": "4b561d89"
      },
      "source": [
        "Data to be excluded:\n",
        "1. Concurrent-credits and Occupation (Because only have 1 values)\n",
        "2. Foreign-Worker, Guarantors and No-of-dependents (Because of skewed to 1 data only)\n",
        "3. Duration in current address is removed because has 344 empty records\n"
      ],
      "id": "4b561d89"
    },
    {
      "cell_type": "code",
      "metadata": {
        "id": "f0e493ac"
      },
      "source": [
        "df = df.drop(columns=[\"Duration-in-Current-address\",\n",
        "                      'Concurrent-Credits',\n",
        "                      'Guarantors',\n",
        "                      'Foreign-Worker', \n",
        "                      'Occupation', \n",
        "                      'Telephone', \n",
        "                      'No-of-dependents',\n",
        "                     'Duration-of-Credit-Month',\n",
        "                     \"Instalment-per-cent\"])"
      ],
      "id": "f0e493ac",
      "execution_count": 38,
      "outputs": []
    },
    {
      "cell_type": "code",
      "metadata": {
        "scrolled": true,
        "colab": {
          "base_uri": "https://localhost:8080/"
        },
        "id": "7b6f756c",
        "outputId": "365f90ef-56e9-4aa0-8d73-1145db927417"
      },
      "source": [
        "X1 = df.drop(columns=['Credit-Application-Result'])\n",
        "y1 = df['Credit-Application-Result']\n",
        "\n",
        "print(X1.shape)\n",
        "print(y1.shape)\n",
        "\n",
        "print(df.info())\n"
      ],
      "id": "7b6f756c",
      "execution_count": 39,
      "outputs": [
        {
          "output_type": "stream",
          "text": [
            "(500, 10)\n",
            "(500,)\n",
            "<class 'pandas.core.frame.DataFrame'>\n",
            "RangeIndex: 500 entries, 0 to 499\n",
            "Data columns (total 11 columns):\n",
            " #   Column                             Non-Null Count  Dtype  \n",
            "---  ------                             --------------  -----  \n",
            " 0   Credit-Application-Result          500 non-null    int64  \n",
            " 1   Account-Balance                    500 non-null    int64  \n",
            " 2   Payment-Status-of-Previous-Credit  500 non-null    int64  \n",
            " 3   Purpose                            500 non-null    int64  \n",
            " 4   Credit-Amount                      500 non-null    int64  \n",
            " 5   Value-Savings-Stocks               500 non-null    int64  \n",
            " 6   Length-of-current-employment       500 non-null    int64  \n",
            " 7   Most-valuable-available-asset      500 non-null    int64  \n",
            " 8   Age-years                          500 non-null    float64\n",
            " 9   Type-of-apartment                  500 non-null    int64  \n",
            " 10  No-of-Credits-at-this-Bank         500 non-null    int64  \n",
            "dtypes: float64(1), int64(10)\n",
            "memory usage: 43.1 KB\n",
            "None\n"
          ],
          "name": "stdout"
        }
      ]
    },
    {
      "cell_type": "code",
      "metadata": {
        "id": "940bd8f0"
      },
      "source": [
        "X = np.array(X1)\n",
        "y = np.array(y1)"
      ],
      "id": "940bd8f0",
      "execution_count": 40,
      "outputs": []
    },
    {
      "cell_type": "markdown",
      "metadata": {
        "id": "b704e43a"
      },
      "source": [
        "**Check whether the data is balanced or not**"
      ],
      "id": "b704e43a"
    },
    {
      "cell_type": "code",
      "metadata": {
        "colab": {
          "base_uri": "https://localhost:8080/"
        },
        "id": "47eb4add",
        "outputId": "082e251f-86db-4204-c5dc-93189fa184b3"
      },
      "source": [
        "positive = df[df[\"Credit-Application-Result\"]== 1]\n",
        "negative = df[df[\"Credit-Application-Result\"]== 0]\n",
        "\n",
        "ratio = float(len(negative) / len(positive))\n",
        "print(ratio)\n",
        "\n",
        "\n",
        "print(\"positive:{}\".format(len(positive)))\n",
        "print(\"negative:{}\".format(len(negative)))"
      ],
      "id": "47eb4add",
      "execution_count": 41,
      "outputs": [
        {
          "output_type": "stream",
          "text": [
            "0.39664804469273746\n",
            "positive:358\n",
            "negative:142\n"
          ],
          "name": "stdout"
        }
      ]
    },
    {
      "cell_type": "code",
      "metadata": {
        "id": "7d665d66"
      },
      "source": [
        "random_state = 1\n",
        "X_train, X_val, y_train,y_val = train_test_split(X,y, test_size = 0.3, random_state=random_state)"
      ],
      "id": "7d665d66",
      "execution_count": 42,
      "outputs": []
    },
    {
      "cell_type": "code",
      "metadata": {
        "scrolled": true,
        "colab": {
          "base_uri": "https://localhost:8080/"
        },
        "id": "2df859c3",
        "outputId": "a745ac86-bc4b-4507-fecb-14b1b0cb0150"
      },
      "source": [
        "model = sm.OLS(y1, X1)\n",
        "fit = model.fit()\n",
        "print(fit.summary())"
      ],
      "id": "2df859c3",
      "execution_count": 43,
      "outputs": [
        {
          "output_type": "stream",
          "text": [
            "                                    OLS Regression Results                                    \n",
            "==============================================================================================\n",
            "Dep. Variable:     Credit-Application-Result   R-squared (uncentered):                   0.759\n",
            "Model:                                   OLS   Adj. R-squared (uncentered):              0.754\n",
            "Method:                        Least Squares   F-statistic:                              154.1\n",
            "Date:                       Sat, 24 Jul 2021   Prob (F-statistic):                   2.68e-144\n",
            "Time:                               07:43:38   Log-Likelihood:                         -270.49\n",
            "No. Observations:                        500   AIC:                                      561.0\n",
            "Df Residuals:                            490   BIC:                                      603.1\n",
            "Df Model:                                 10                                                  \n",
            "Covariance Type:                   nonrobust                                                  \n",
            "=====================================================================================================\n",
            "                                        coef    std err          t      P>|t|      [0.025      0.975]\n",
            "-----------------------------------------------------------------------------------------------------\n",
            "Account-Balance                       0.2336      0.039      5.992      0.000       0.157       0.310\n",
            "Payment-Status-of-Previous-Credit     0.1544      0.029      5.398      0.000       0.098       0.211\n",
            "Purpose                               0.1168      0.027      4.357      0.000       0.064       0.169\n",
            "Credit-Amount                      -1.99e-05   7.24e-06     -2.750      0.006   -3.41e-05   -5.68e-06\n",
            "Value-Savings-Stocks                  0.0976      0.028      3.431      0.001       0.042       0.154\n",
            "Length-of-current-employment          0.0291      0.024      1.216      0.224      -0.018       0.076\n",
            "Most-valuable-available-asset        -0.0390      0.020     -1.939      0.053      -0.078       0.001\n",
            "Age-years                             0.0040      0.002      2.303      0.022       0.001       0.007\n",
            "Type-of-apartment                     0.0582      0.038      1.551      0.121      -0.016       0.132\n",
            "No-of-Credits-at-this-Bank            0.1332      0.043      3.092      0.002       0.049       0.218\n",
            "==============================================================================\n",
            "Omnibus:                       41.507   Durbin-Watson:                   1.878\n",
            "Prob(Omnibus):                  0.000   Jarque-Bera (JB):               43.229\n",
            "Skew:                          -0.675   Prob(JB):                     4.10e-10\n",
            "Kurtosis:                       2.496   Cond. No.                     1.08e+04\n",
            "==============================================================================\n",
            "\n",
            "Warnings:\n",
            "[1] Standard Errors assume that the covariance matrix of the errors is correctly specified.\n",
            "[2] The condition number is large, 1.08e+04. This might indicate that there are\n",
            "strong multicollinearity or other numerical problems.\n"
          ],
          "name": "stdout"
        }
      ]
    },
    {
      "cell_type": "markdown",
      "metadata": {
        "id": "dc367359"
      },
      "source": [
        "### Provided test dataset"
      ],
      "id": "dc367359"
    },
    {
      "cell_type": "code",
      "metadata": {
        "scrolled": true,
        "colab": {
          "base_uri": "https://localhost:8080/",
          "height": 847
        },
        "id": "aea09da6",
        "outputId": "afd70c39-506d-48c9-c1bc-c79ece5714d7"
      },
      "source": [
        "df_test = pd.read_csv(\"../content/drive/My Drive/Colab Notebooks/Udacity/customers-to-score.csv\")\n",
        "df_test"
      ],
      "id": "aea09da6",
      "execution_count": 44,
      "outputs": [
        {
          "output_type": "execute_result",
          "data": {
            "text/html": [
              "<div>\n",
              "<style scoped>\n",
              "    .dataframe tbody tr th:only-of-type {\n",
              "        vertical-align: middle;\n",
              "    }\n",
              "\n",
              "    .dataframe tbody tr th {\n",
              "        vertical-align: top;\n",
              "    }\n",
              "\n",
              "    .dataframe thead th {\n",
              "        text-align: right;\n",
              "    }\n",
              "</style>\n",
              "<table border=\"1\" class=\"dataframe\">\n",
              "  <thead>\n",
              "    <tr style=\"text-align: right;\">\n",
              "      <th></th>\n",
              "      <th>Account-Balance</th>\n",
              "      <th>Duration-of-Credit-Month</th>\n",
              "      <th>Payment-Status-of-Previous-Credit</th>\n",
              "      <th>Purpose</th>\n",
              "      <th>Credit-Amount</th>\n",
              "      <th>Value-Savings-Stocks</th>\n",
              "      <th>Length-of-current-employment</th>\n",
              "      <th>Instalment-per-cent</th>\n",
              "      <th>Guarantors</th>\n",
              "      <th>Duration-in-Current-address</th>\n",
              "      <th>Most-valuable-available-asset</th>\n",
              "      <th>Age-years</th>\n",
              "      <th>Concurrent-Credits</th>\n",
              "      <th>Type-of-apartment</th>\n",
              "      <th>No-of-Credits-at-this-Bank</th>\n",
              "      <th>Occupation</th>\n",
              "      <th>No-of-dependents</th>\n",
              "      <th>Telephone</th>\n",
              "      <th>Foreign-Worker</th>\n",
              "    </tr>\n",
              "  </thead>\n",
              "  <tbody>\n",
              "    <tr>\n",
              "      <th>0</th>\n",
              "      <td>No Account</td>\n",
              "      <td>9</td>\n",
              "      <td>No Problems (in this bank)</td>\n",
              "      <td>Home Related</td>\n",
              "      <td>2799</td>\n",
              "      <td>None</td>\n",
              "      <td>&lt; 1yr</td>\n",
              "      <td>2</td>\n",
              "      <td>None</td>\n",
              "      <td>2</td>\n",
              "      <td>1</td>\n",
              "      <td>36</td>\n",
              "      <td>Other Banks/Depts</td>\n",
              "      <td>1</td>\n",
              "      <td>More than 1</td>\n",
              "      <td>1</td>\n",
              "      <td>2</td>\n",
              "      <td>1</td>\n",
              "      <td>1</td>\n",
              "    </tr>\n",
              "    <tr>\n",
              "      <th>1</th>\n",
              "      <td>No Account</td>\n",
              "      <td>12</td>\n",
              "      <td>No Problems (in this bank)</td>\n",
              "      <td>Home Related</td>\n",
              "      <td>2122</td>\n",
              "      <td>None</td>\n",
              "      <td>&lt; 1yr</td>\n",
              "      <td>3</td>\n",
              "      <td>None</td>\n",
              "      <td>2</td>\n",
              "      <td>1</td>\n",
              "      <td>39</td>\n",
              "      <td>Other Banks/Depts</td>\n",
              "      <td>1</td>\n",
              "      <td>More than 1</td>\n",
              "      <td>1</td>\n",
              "      <td>2</td>\n",
              "      <td>1</td>\n",
              "      <td>2</td>\n",
              "    </tr>\n",
              "    <tr>\n",
              "      <th>2</th>\n",
              "      <td>No Account</td>\n",
              "      <td>24</td>\n",
              "      <td>Paid Up</td>\n",
              "      <td>Home Related</td>\n",
              "      <td>3758</td>\n",
              "      <td>£100-£1000</td>\n",
              "      <td>&lt; 1yr</td>\n",
              "      <td>1</td>\n",
              "      <td>None</td>\n",
              "      <td>4</td>\n",
              "      <td>4</td>\n",
              "      <td>23</td>\n",
              "      <td>Other Banks/Depts</td>\n",
              "      <td>1</td>\n",
              "      <td>1</td>\n",
              "      <td>1</td>\n",
              "      <td>1</td>\n",
              "      <td>1</td>\n",
              "      <td>1</td>\n",
              "    </tr>\n",
              "    <tr>\n",
              "      <th>3</th>\n",
              "      <td>No Account</td>\n",
              "      <td>11</td>\n",
              "      <td>No Problems (in this bank)</td>\n",
              "      <td>Home Related</td>\n",
              "      <td>3905</td>\n",
              "      <td>None</td>\n",
              "      <td>&lt; 1yr</td>\n",
              "      <td>2</td>\n",
              "      <td>None</td>\n",
              "      <td>2</td>\n",
              "      <td>1</td>\n",
              "      <td>36</td>\n",
              "      <td>Other Banks/Depts</td>\n",
              "      <td>1</td>\n",
              "      <td>More than 1</td>\n",
              "      <td>1</td>\n",
              "      <td>2</td>\n",
              "      <td>1</td>\n",
              "      <td>1</td>\n",
              "    </tr>\n",
              "    <tr>\n",
              "      <th>4</th>\n",
              "      <td>No Account</td>\n",
              "      <td>6</td>\n",
              "      <td>No Problems (in this bank)</td>\n",
              "      <td>Home Related</td>\n",
              "      <td>1957</td>\n",
              "      <td>None</td>\n",
              "      <td>1-4 yrs</td>\n",
              "      <td>1</td>\n",
              "      <td>None</td>\n",
              "      <td>4</td>\n",
              "      <td>3</td>\n",
              "      <td>31</td>\n",
              "      <td>Other Banks/Depts</td>\n",
              "      <td>2</td>\n",
              "      <td>1</td>\n",
              "      <td>1</td>\n",
              "      <td>1</td>\n",
              "      <td>1</td>\n",
              "      <td>1</td>\n",
              "    </tr>\n",
              "    <tr>\n",
              "      <th>...</th>\n",
              "      <td>...</td>\n",
              "      <td>...</td>\n",
              "      <td>...</td>\n",
              "      <td>...</td>\n",
              "      <td>...</td>\n",
              "      <td>...</td>\n",
              "      <td>...</td>\n",
              "      <td>...</td>\n",
              "      <td>...</td>\n",
              "      <td>...</td>\n",
              "      <td>...</td>\n",
              "      <td>...</td>\n",
              "      <td>...</td>\n",
              "      <td>...</td>\n",
              "      <td>...</td>\n",
              "      <td>...</td>\n",
              "      <td>...</td>\n",
              "      <td>...</td>\n",
              "      <td>...</td>\n",
              "    </tr>\n",
              "    <tr>\n",
              "      <th>495</th>\n",
              "      <td>No Account</td>\n",
              "      <td>18</td>\n",
              "      <td>No Problems (in this bank)</td>\n",
              "      <td>Home Related</td>\n",
              "      <td>3966</td>\n",
              "      <td>None</td>\n",
              "      <td>4-7 yrs</td>\n",
              "      <td>1</td>\n",
              "      <td>None</td>\n",
              "      <td>4</td>\n",
              "      <td>1</td>\n",
              "      <td>33</td>\n",
              "      <td>Other Banks/Depts</td>\n",
              "      <td>1</td>\n",
              "      <td>More than 1</td>\n",
              "      <td>1</td>\n",
              "      <td>1</td>\n",
              "      <td>2</td>\n",
              "      <td>1</td>\n",
              "    </tr>\n",
              "    <tr>\n",
              "      <th>496</th>\n",
              "      <td>No Account</td>\n",
              "      <td>12</td>\n",
              "      <td>Some Problems</td>\n",
              "      <td>Home Related</td>\n",
              "      <td>6199</td>\n",
              "      <td>None</td>\n",
              "      <td>&lt; 1yr</td>\n",
              "      <td>4</td>\n",
              "      <td>None</td>\n",
              "      <td>2</td>\n",
              "      <td>2</td>\n",
              "      <td>28</td>\n",
              "      <td>Other Banks/Depts</td>\n",
              "      <td>1</td>\n",
              "      <td>More than 1</td>\n",
              "      <td>1</td>\n",
              "      <td>1</td>\n",
              "      <td>2</td>\n",
              "      <td>1</td>\n",
              "    </tr>\n",
              "    <tr>\n",
              "      <th>497</th>\n",
              "      <td>No Account</td>\n",
              "      <td>24</td>\n",
              "      <td>Paid Up</td>\n",
              "      <td>Home Related</td>\n",
              "      <td>1987</td>\n",
              "      <td>None</td>\n",
              "      <td>&lt; 1yr</td>\n",
              "      <td>2</td>\n",
              "      <td>None</td>\n",
              "      <td>4</td>\n",
              "      <td>1</td>\n",
              "      <td>21</td>\n",
              "      <td>Other Banks/Depts</td>\n",
              "      <td>1</td>\n",
              "      <td>1</td>\n",
              "      <td>1</td>\n",
              "      <td>2</td>\n",
              "      <td>1</td>\n",
              "      <td>1</td>\n",
              "    </tr>\n",
              "    <tr>\n",
              "      <th>498</th>\n",
              "      <td>No Account</td>\n",
              "      <td>24</td>\n",
              "      <td>Paid Up</td>\n",
              "      <td>Home Related</td>\n",
              "      <td>2303</td>\n",
              "      <td>None</td>\n",
              "      <td>4-7 yrs</td>\n",
              "      <td>4</td>\n",
              "      <td>Yes</td>\n",
              "      <td>1</td>\n",
              "      <td>1</td>\n",
              "      <td>45</td>\n",
              "      <td>Other Banks/Depts</td>\n",
              "      <td>2</td>\n",
              "      <td>1</td>\n",
              "      <td>1</td>\n",
              "      <td>1</td>\n",
              "      <td>1</td>\n",
              "      <td>1</td>\n",
              "    </tr>\n",
              "    <tr>\n",
              "      <th>499</th>\n",
              "      <td>No Account</td>\n",
              "      <td>30</td>\n",
              "      <td>Paid Up</td>\n",
              "      <td>Used car</td>\n",
              "      <td>6350</td>\n",
              "      <td>£100-£1000</td>\n",
              "      <td>4-7 yrs</td>\n",
              "      <td>4</td>\n",
              "      <td>None</td>\n",
              "      <td>4</td>\n",
              "      <td>2</td>\n",
              "      <td>31</td>\n",
              "      <td>Other Banks/Depts</td>\n",
              "      <td>2</td>\n",
              "      <td>1</td>\n",
              "      <td>1</td>\n",
              "      <td>1</td>\n",
              "      <td>1</td>\n",
              "      <td>1</td>\n",
              "    </tr>\n",
              "  </tbody>\n",
              "</table>\n",
              "<p>500 rows × 19 columns</p>\n",
              "</div>"
            ],
            "text/plain": [
              "    Account-Balance  Duration-of-Credit-Month  ... Telephone Foreign-Worker\n",
              "0        No Account                         9  ...         1              1\n",
              "1        No Account                        12  ...         1              2\n",
              "2        No Account                        24  ...         1              1\n",
              "3        No Account                        11  ...         1              1\n",
              "4        No Account                         6  ...         1              1\n",
              "..              ...                       ...  ...       ...            ...\n",
              "495      No Account                        18  ...         2              1\n",
              "496      No Account                        12  ...         2              1\n",
              "497      No Account                        24  ...         1              1\n",
              "498      No Account                        24  ...         1              1\n",
              "499      No Account                        30  ...         1              1\n",
              "\n",
              "[500 rows x 19 columns]"
            ]
          },
          "metadata": {
            "tags": []
          },
          "execution_count": 44
        }
      ]
    },
    {
      "cell_type": "code",
      "metadata": {
        "colab": {
          "base_uri": "https://localhost:8080/"
        },
        "id": "15870a20",
        "outputId": "fe678247-ef6e-44a3-d203-ee256c652165"
      },
      "source": [
        "df_test['Account-Balance'].unique()"
      ],
      "id": "15870a20",
      "execution_count": 45,
      "outputs": [
        {
          "output_type": "execute_result",
          "data": {
            "text/plain": [
              "array(['No Account', 'Some Balance'], dtype=object)"
            ]
          },
          "metadata": {
            "tags": []
          },
          "execution_count": 45
        }
      ]
    },
    {
      "cell_type": "code",
      "metadata": {
        "id": "494e5881"
      },
      "source": [
        "df_test['Account-Balance'].replace({'Some Balance': 1, 'No Account': 0}, inplace=True)"
      ],
      "id": "494e5881",
      "execution_count": 46,
      "outputs": []
    },
    {
      "cell_type": "code",
      "metadata": {
        "colab": {
          "base_uri": "https://localhost:8080/"
        },
        "id": "8de50537",
        "outputId": "d2fa690c-2e56-4bb7-bd72-a09d3d3e1433"
      },
      "source": [
        "df_test['Payment-Status-of-Previous-Credit'].unique()"
      ],
      "id": "8de50537",
      "execution_count": 47,
      "outputs": [
        {
          "output_type": "execute_result",
          "data": {
            "text/plain": [
              "array(['No Problems (in this bank)', 'Paid Up', 'Some Problems'],\n",
              "      dtype=object)"
            ]
          },
          "metadata": {
            "tags": []
          },
          "execution_count": 47
        }
      ]
    },
    {
      "cell_type": "code",
      "metadata": {
        "id": "8c6d3958"
      },
      "source": [
        "df_test['Payment-Status-of-Previous-Credit'].replace({'Paid Up': 2, 'No Problems (in this bank)': 1, 'Some Problems': 0}, inplace=True)"
      ],
      "id": "8c6d3958",
      "execution_count": 48,
      "outputs": []
    },
    {
      "cell_type": "code",
      "metadata": {
        "colab": {
          "base_uri": "https://localhost:8080/"
        },
        "id": "99bf8b1d",
        "outputId": "12c78efc-93f1-4265-beff-2d1562e3099b"
      },
      "source": [
        "df_test[\"Purpose\"].unique()"
      ],
      "id": "99bf8b1d",
      "execution_count": 49,
      "outputs": [
        {
          "output_type": "execute_result",
          "data": {
            "text/plain": [
              "array(['Home Related', 'New car', 'Used car'], dtype=object)"
            ]
          },
          "metadata": {
            "tags": []
          },
          "execution_count": 49
        }
      ]
    },
    {
      "cell_type": "code",
      "metadata": {
        "id": "e3077c0d"
      },
      "source": [
        "df_test['Purpose'].replace({\n",
        "                    'New car': 3, \n",
        "                    'Used car': 2,\n",
        "                    'Home Related': 1,\n",
        "                    'Other': 0}, inplace=True)"
      ],
      "id": "e3077c0d",
      "execution_count": 50,
      "outputs": []
    },
    {
      "cell_type": "code",
      "metadata": {
        "scrolled": true,
        "colab": {
          "base_uri": "https://localhost:8080/"
        },
        "id": "5ecc4da3",
        "outputId": "5ef0d162-4bde-45d9-9c9b-5178d925d65d"
      },
      "source": [
        "df_test['Value-Savings-Stocks'].unique()"
      ],
      "id": "5ecc4da3",
      "execution_count": 51,
      "outputs": [
        {
          "output_type": "execute_result",
          "data": {
            "text/plain": [
              "array(['None', '£100-£1000', '< £100'], dtype=object)"
            ]
          },
          "metadata": {
            "tags": []
          },
          "execution_count": 51
        }
      ]
    },
    {
      "cell_type": "code",
      "metadata": {
        "id": "c8b5e8e3"
      },
      "source": [
        "df_test['Value-Savings-Stocks'].replace({\n",
        "                    '< £100': 2, \n",
        "                    '£100-£1000': 1,\n",
        "                    'None': 0}, inplace=True)"
      ],
      "id": "c8b5e8e3",
      "execution_count": 52,
      "outputs": []
    },
    {
      "cell_type": "code",
      "metadata": {
        "colab": {
          "base_uri": "https://localhost:8080/"
        },
        "id": "5ee57be4",
        "outputId": "109e989a-70ca-4a77-e40c-0fd289e66c1a"
      },
      "source": [
        "df_test['Length-of-current-employment'].unique()"
      ],
      "id": "5ee57be4",
      "execution_count": 53,
      "outputs": [
        {
          "output_type": "execute_result",
          "data": {
            "text/plain": [
              "array(['< 1yr', '1-4 yrs', '4-7 yrs'], dtype=object)"
            ]
          },
          "metadata": {
            "tags": []
          },
          "execution_count": 53
        }
      ]
    },
    {
      "cell_type": "code",
      "metadata": {
        "id": "71072cae"
      },
      "source": [
        "df_test['Length-of-current-employment'].replace({\n",
        "                    '4-7 yrs': 2, \n",
        "                    '1-4 yrs': 1,\n",
        "                    '< 1yr': 0}, inplace=True)"
      ],
      "id": "71072cae",
      "execution_count": 54,
      "outputs": []
    },
    {
      "cell_type": "code",
      "metadata": {
        "id": "0303f324"
      },
      "source": [
        "df_test['Concurrent-Credits'].replace({'Other Banks/Depts': 1}, inplace=True)"
      ],
      "id": "0303f324",
      "execution_count": 55,
      "outputs": []
    },
    {
      "cell_type": "code",
      "metadata": {
        "id": "bcd157b1"
      },
      "source": [
        "df_test['No-of-Credits-at-this-Bank'].replace({'More than 1': 1, '1': 0}, inplace=True)"
      ],
      "id": "bcd157b1",
      "execution_count": 56,
      "outputs": []
    },
    {
      "cell_type": "code",
      "metadata": {
        "id": "23b473d4"
      },
      "source": [
        "df_test['Guarantors'].replace({'Yes': 1, 'None': 0}, inplace=True)"
      ],
      "id": "23b473d4",
      "execution_count": 57,
      "outputs": []
    },
    {
      "cell_type": "code",
      "metadata": {
        "scrolled": true,
        "colab": {
          "base_uri": "https://localhost:8080/"
        },
        "id": "8dfc2720",
        "outputId": "9f7326c8-b1db-437b-adad-7fcd9adaa7eb"
      },
      "source": [
        "df_test.info()"
      ],
      "id": "8dfc2720",
      "execution_count": 58,
      "outputs": [
        {
          "output_type": "stream",
          "text": [
            "<class 'pandas.core.frame.DataFrame'>\n",
            "RangeIndex: 500 entries, 0 to 499\n",
            "Data columns (total 19 columns):\n",
            " #   Column                             Non-Null Count  Dtype\n",
            "---  ------                             --------------  -----\n",
            " 0   Account-Balance                    500 non-null    int64\n",
            " 1   Duration-of-Credit-Month           500 non-null    int64\n",
            " 2   Payment-Status-of-Previous-Credit  500 non-null    int64\n",
            " 3   Purpose                            500 non-null    int64\n",
            " 4   Credit-Amount                      500 non-null    int64\n",
            " 5   Value-Savings-Stocks               500 non-null    int64\n",
            " 6   Length-of-current-employment       500 non-null    int64\n",
            " 7   Instalment-per-cent                500 non-null    int64\n",
            " 8   Guarantors                         500 non-null    int64\n",
            " 9   Duration-in-Current-address        500 non-null    int64\n",
            " 10  Most-valuable-available-asset      500 non-null    int64\n",
            " 11  Age-years                          500 non-null    int64\n",
            " 12  Concurrent-Credits                 500 non-null    int64\n",
            " 13  Type-of-apartment                  500 non-null    int64\n",
            " 14  No-of-Credits-at-this-Bank         500 non-null    int64\n",
            " 15  Occupation                         500 non-null    int64\n",
            " 16  No-of-dependents                   500 non-null    int64\n",
            " 17  Telephone                          500 non-null    int64\n",
            " 18  Foreign-Worker                     500 non-null    int64\n",
            "dtypes: int64(19)\n",
            "memory usage: 74.3 KB\n"
          ],
          "name": "stdout"
        }
      ]
    },
    {
      "cell_type": "code",
      "metadata": {
        "id": "9e256539"
      },
      "source": [
        "df_test = df_test.drop(columns=[\"Duration-in-Current-address\",\n",
        "                      'Concurrent-Credits',\n",
        "                      'Guarantors',\n",
        "                      'Foreign-Worker', \n",
        "                      'Occupation', \n",
        "                      'Telephone', \n",
        "                      'No-of-dependents',\n",
        "                     'Duration-of-Credit-Month',\n",
        "                     \"Instalment-per-cent\"])"
      ],
      "id": "9e256539",
      "execution_count": 59,
      "outputs": []
    },
    {
      "cell_type": "code",
      "metadata": {
        "colab": {
          "base_uri": "https://localhost:8080/"
        },
        "id": "3222a5e3",
        "outputId": "0c24ec02-8862-4d7d-ab28-b1632f4934f1"
      },
      "source": [
        "df_test.info()"
      ],
      "id": "3222a5e3",
      "execution_count": 60,
      "outputs": [
        {
          "output_type": "stream",
          "text": [
            "<class 'pandas.core.frame.DataFrame'>\n",
            "RangeIndex: 500 entries, 0 to 499\n",
            "Data columns (total 10 columns):\n",
            " #   Column                             Non-Null Count  Dtype\n",
            "---  ------                             --------------  -----\n",
            " 0   Account-Balance                    500 non-null    int64\n",
            " 1   Payment-Status-of-Previous-Credit  500 non-null    int64\n",
            " 2   Purpose                            500 non-null    int64\n",
            " 3   Credit-Amount                      500 non-null    int64\n",
            " 4   Value-Savings-Stocks               500 non-null    int64\n",
            " 5   Length-of-current-employment       500 non-null    int64\n",
            " 6   Most-valuable-available-asset      500 non-null    int64\n",
            " 7   Age-years                          500 non-null    int64\n",
            " 8   Type-of-apartment                  500 non-null    int64\n",
            " 9   No-of-Credits-at-this-Bank         500 non-null    int64\n",
            "dtypes: int64(10)\n",
            "memory usage: 39.2 KB\n"
          ],
          "name": "stdout"
        }
      ]
    },
    {
      "cell_type": "code",
      "metadata": {
        "id": "9634980d"
      },
      "source": [
        "X_test = np.array(df_test)"
      ],
      "id": "9634980d",
      "execution_count": 61,
      "outputs": []
    },
    {
      "cell_type": "markdown",
      "metadata": {
        "id": "f0976b8e"
      },
      "source": [
        "## Machine Learning Training\n",
        "\n"
      ],
      "id": "f0976b8e"
    },
    {
      "cell_type": "code",
      "metadata": {
        "id": "549c9dcd"
      },
      "source": [
        "# Instantiate the classfiers and make a list\n",
        "classifiers = [LogisticRegression(random_state=random_state), \n",
        "               DecisionTreeClassifier(random_state=random_state),\n",
        "               RandomForestClassifier(n_estimators=100, random_state=random_state),\n",
        "               AdaBoostClassifier(random_state=random_state)]\n",
        "\n",
        "# Define a result table as a DataFrame\n",
        "result_table = pd.DataFrame(columns=['classifiers', 'fpr','tpr','auc'])\n",
        "\n",
        "# Train the models and record the results\n",
        "for cls in classifiers:\n",
        "    model = cls.fit(X_train, y_train)\n",
        "    yproba = model.predict_proba(X_val)[::,1]\n",
        "    \n",
        "    fpr, tpr, _ = roc_curve(y_val,  yproba)\n",
        "    auc = roc_auc_score(y_val, yproba)\n",
        "    \n",
        "    result_table = result_table.append({'classifiers':cls.__class__.__name__,\n",
        "                                        'fpr':fpr, \n",
        "                                        'tpr':tpr, \n",
        "                                        'auc':auc}, ignore_index=True)\n",
        "\n",
        "# Set name of the classifiers as index labels\n",
        "result_table.set_index('classifiers', inplace=True)"
      ],
      "id": "549c9dcd",
      "execution_count": 62,
      "outputs": []
    },
    {
      "cell_type": "code",
      "metadata": {
        "colab": {
          "base_uri": "https://localhost:8080/",
          "height": 411
        },
        "id": "iN2PW2G1cxIG",
        "outputId": "54ab5a62-b713-449f-c87e-6e28c691cfa7"
      },
      "source": [
        "fig = plt.figure(figsize=(8,6))\n",
        "\n",
        "for i in result_table.index:\n",
        "    plt.plot(result_table.loc[i]['fpr'], \n",
        "             result_table.loc[i]['tpr'], \n",
        "             label=\"{}, AUC={:.3f}\".format(i, result_table.loc[i]['auc']))\n",
        "    \n",
        "plt.plot([0,1], [0,1], color='orange', linestyle='--')\n",
        "\n",
        "plt.xticks(np.arange(0.0, 1.1, step=0.1))\n",
        "plt.xlabel(\"Flase Positive Rate\", fontsize=15)\n",
        "\n",
        "plt.yticks(np.arange(0.0, 1.1, step=0.1))\n",
        "plt.ylabel(\"True Positive Rate\", fontsize=15)\n",
        "\n",
        "plt.title('ROC Curve Analysis', fontweight='bold', fontsize=15)\n",
        "plt.legend(prop={'size':13}, loc='lower right')\n",
        "\n",
        "plt.show()"
      ],
      "id": "iN2PW2G1cxIG",
      "execution_count": 63,
      "outputs": [
        {
          "output_type": "display_data",
          "data": {
            "image/png": "[encoded data removed]",
            "text/plain": [
              "<Figure size 576x432 with 1 Axes>"
            ]
          },
          "metadata": {
            "tags": [],
            "needs_background": "light"
          }
        }
      ]
    },
    {
      "cell_type": "code",
      "metadata": {
        "id": "NmWIAvthW4D7"
      },
      "source": [
        "import numpy as np\n",
        "import matplotlib.pyplot as plt\n",
        "import seaborn as sns\n",
        "\n",
        "def make_confusion_matrix(cf,\n",
        "                          group_names=None,\n",
        "                          categories='auto',\n",
        "                          count=True,\n",
        "                          percent=True,\n",
        "                          cbar=True,\n",
        "                          xyticks=True,\n",
        "                          xyplotlabels=True,\n",
        "                          sum_stats=True,\n",
        "                          figsize=None,\n",
        "                          cmap='Blues',\n",
        "                          title=None):\n",
        "    '''\n",
        "    This function will make a pretty plot of an sklearn Confusion Matrix cm using a Seaborn heatmap visualization.\n",
        "    Arguments\n",
        "    ---------\n",
        "    cf:            confusion matrix to be passed in\n",
        "    group_names:   List of strings that represent the labels row by row to be shown in each square.\n",
        "    categories:    List of strings containing the categories to be displayed on the x,y axis. Default is 'auto'\n",
        "    count:         If True, show the raw number in the confusion matrix. Default is True.\n",
        "    normalize:     If True, show the proportions for each category. Default is True.\n",
        "    cbar:          If True, show the color bar. The cbar values are based off the values in the confusion matrix.\n",
        "                   Default is True.\n",
        "    xyticks:       If True, show x and y ticks. Default is True.\n",
        "    xyplotlabels:  If True, show 'True Label' and 'Predicted Label' on the figure. Default is True.\n",
        "    sum_stats:     If True, display summary statistics below the figure. Default is True.\n",
        "    figsize:       Tuple representing the figure size. Default will be the matplotlib rcParams value.\n",
        "    cmap:          Colormap of the values displayed from matplotlib.pyplot.cm. Default is 'Blues'\n",
        "                   See http://matplotlib.org/examples/color/colormaps_reference.html\n",
        "                   \n",
        "    title:         Title for the heatmap. Default is None.\n",
        "    '''\n",
        "\n",
        "\n",
        "    # CODE TO GENERATE TEXT INSIDE EACH SQUARE\n",
        "    blanks = ['' for i in range(cf.size)]\n",
        "\n",
        "    if group_names and len(group_names)==cf.size:\n",
        "        group_labels = [\"{}\\n\".format(value) for value in group_names]\n",
        "    else:\n",
        "        group_labels = blanks\n",
        "\n",
        "    if count:\n",
        "        group_counts = [\"{0:0.0f}\\n\".format(value) for value in cf.flatten()]\n",
        "    else:\n",
        "        group_counts = blanks\n",
        "\n",
        "    if percent:\n",
        "        group_percentages = [\"{0:.2%}\".format(value) for value in cf.flatten()/np.sum(cf)]\n",
        "    else:\n",
        "        group_percentages = blanks\n",
        "\n",
        "    box_labels = [f\"{v1}{v2}{v3}\".strip() for v1, v2, v3 in zip(group_labels,group_counts,group_percentages)]\n",
        "    box_labels = np.asarray(box_labels).reshape(cf.shape[0],cf.shape[1])\n",
        "\n",
        "\n",
        "    # CODE TO GENERATE SUMMARY STATISTICS & TEXT FOR SUMMARY STATS\n",
        "    if sum_stats:\n",
        "        #Accuracy is sum of diagonal divided by total observations\n",
        "        accuracy  = np.trace(cf) / float(np.sum(cf))\n",
        "\n",
        "        #if it is a binary confusion matrix, show some more stats\n",
        "        if len(cf)==2:\n",
        "            #Metrics for Binary Confusion Matrices\n",
        "            precision = cf[1,1] / sum(cf[:,1])\n",
        "            recall    = cf[1,1] / sum(cf[1,:])\n",
        "            f1_score  = 2*precision*recall / (precision + recall)\n",
        "            stats_text = \"\\n\\nAccuracy={:0.3f}\\nPrecision={:0.3f}\\nRecall={:0.3f}\\nF1 Score={:0.3f}\".format(\n",
        "                accuracy,precision,recall,f1_score)\n",
        "        else:\n",
        "            stats_text = \"\\n\\nAccuracy={:0.3f}\".format(accuracy)\n",
        "    else:\n",
        "        stats_text = \"\"\n",
        "\n",
        "\n",
        "    # SET FIGURE PARAMETERS ACCORDING TO OTHER ARGUMENTS\n",
        "    if figsize==None:\n",
        "        #Get default figure size if not set\n",
        "        figsize = plt.rcParams.get('figure.figsize')\n",
        "\n",
        "    if xyticks==False:\n",
        "        #Do not show categories if xyticks is False\n",
        "        categories=False\n",
        "\n",
        "\n",
        "    # MAKE THE HEATMAP VISUALIZATION\n",
        "    plt.figure(figsize=figsize)\n",
        "    sns.heatmap(cf,annot=box_labels,fmt=\"\",cmap=cmap,cbar=cbar,xticklabels=categories,yticklabels=categories)\n",
        "\n",
        "    if xyplotlabels:\n",
        "        plt.ylabel('True label')\n",
        "        plt.xlabel('Predicted label' + stats_text)\n",
        "    else:\n",
        "        plt.xlabel(stats_text)\n",
        "    \n",
        "    if title:\n",
        "        plt.title(title)"
      ],
      "id": "NmWIAvthW4D7",
      "execution_count": 64,
      "outputs": []
    },
    {
      "cell_type": "markdown",
      "metadata": {
        "id": "375c4137"
      },
      "source": [
        "### Logistic Regression"
      ],
      "id": "375c4137"
    },
    {
      "cell_type": "code",
      "metadata": {
        "id": "e7918415"
      },
      "source": [
        "clf = LogisticRegression(solver='liblinear').fit(X_train, y_train)"
      ],
      "id": "e7918415",
      "execution_count": 65,
      "outputs": []
    },
    {
      "cell_type": "code",
      "metadata": {
        "id": "d40f4d89"
      },
      "source": [
        "y_val_pred = clf.predict(X_val)"
      ],
      "id": "d40f4d89",
      "execution_count": 66,
      "outputs": []
    },
    {
      "cell_type": "code",
      "metadata": {
        "id": "d5aeeb24"
      },
      "source": [
        "y_val_score = clf.decision_function(X_val)"
      ],
      "id": "d5aeeb24",
      "execution_count": 67,
      "outputs": []
    },
    {
      "cell_type": "code",
      "metadata": {
        "id": "t98kOMAQcYV9"
      },
      "source": [
        "def plot_feature_importance(importance,names,model_type):\n",
        "  \n",
        "    #Create arrays from feature importance and feature names\n",
        "    feature_importance = np.array(importance)\n",
        "    feature_names = np.array(names)\n",
        "\n",
        "    #Create a DataFrame using a Dictionary\n",
        "    data={'feature_names':feature_names,'feature_importance':feature_importance}\n",
        "    fi_df = pd.DataFrame(data)\n",
        "\n",
        "    #Sort the DataFrame in order decreasing feature importance\n",
        "    fi_df.sort_values(by=['feature_importance'], ascending=False,inplace=True)\n",
        "\n",
        "    #Define size of bar plot\n",
        "    plt.figure(figsize=(10,8))\n",
        "    #Plot Searborn bar chart\n",
        "    sns.barplot(x=fi_df['feature_importance'], y=fi_df['feature_names'])\n",
        "    #Add chart labels\n",
        "    plt.title(model_type + 'FEATURE IMPORTANCE')\n",
        "    plt.xlabel('FEATURE IMPORTANCE')\n",
        "    plt.ylabel('FEATURE NAMES')"
      ],
      "id": "t98kOMAQcYV9",
      "execution_count": 68,
      "outputs": []
    },
    {
      "cell_type": "code",
      "metadata": {
        "colab": {
          "base_uri": "https://localhost:8080/",
          "height": 337
        },
        "id": "FQAvpq5EW-2B",
        "outputId": "53665e4c-6cf7-4c38-f3a4-9341ddb88924"
      },
      "source": [
        "cf = confusion_matrix(y_val, y_val_pred)\n",
        "labels = ['True Neg','False Pos','False Neg','True Pos']\n",
        "categories = ['Non-creditworthy', 'creditworthy']\n",
        "make_confusion_matrix(cf, \n",
        "                      group_names=labels,\n",
        "                      categories=categories)"
      ],
      "id": "FQAvpq5EW-2B",
      "execution_count": 69,
      "outputs": [
        {
          "output_type": "display_data",
          "data": {
            "image/png": "[encoded data removed]",
            "text/plain": [
              "<Figure size 432x288 with 2 Axes>"
            ]
          },
          "metadata": {
            "tags": [],
            "needs_background": "light"
          }
        }
      ]
    },
    {
      "cell_type": "code",
      "metadata": {
        "scrolled": true,
        "colab": {
          "base_uri": "https://localhost:8080/"
        },
        "id": "2170bb6f",
        "outputId": "5ae1603c-0341-4f21-9232-2bf2698d32d2"
      },
      "source": [
        "print(classification_report(y_val, y_val_pred, target_names=['Non-Creditworthy', 'Creditworthy']))"
      ],
      "id": "2170bb6f",
      "execution_count": 70,
      "outputs": [
        {
          "output_type": "stream",
          "text": [
            "                  precision    recall  f1-score   support\n",
            "\n",
            "Non-Creditworthy       0.68      0.36      0.47        47\n",
            "    Creditworthy       0.76      0.92      0.83       103\n",
            "\n",
            "        accuracy                           0.75       150\n",
            "       macro avg       0.72      0.64      0.65       150\n",
            "    weighted avg       0.73      0.75      0.72       150\n",
            "\n"
          ],
          "name": "stdout"
        }
      ]
    },
    {
      "cell_type": "code",
      "metadata": {
        "id": "5578c9b0"
      },
      "source": [
        "y_test_pred = clf.predict(X_test)\n",
        "y_test_score = clf.decision_function(X_test)"
      ],
      "id": "5578c9b0",
      "execution_count": 71,
      "outputs": []
    },
    {
      "cell_type": "code",
      "metadata": {
        "colab": {
          "base_uri": "https://localhost:8080/",
          "height": 337
        },
        "id": "01ce2807",
        "outputId": "b05318cc-2c80-470e-8beb-e9d7abe53dd2"
      },
      "source": [
        "cf = confusion_matrix(y, y_test_pred)\n",
        "labels = ['True Neg','False Pos','False Neg','True Pos']\n",
        "categories = ['Non-creditworthy', 'creditworthy']\n",
        "make_confusion_matrix(cf, \n",
        "                      group_names=labels,\n",
        "                      categories=categories)"
      ],
      "id": "01ce2807",
      "execution_count": 72,
      "outputs": [
        {
          "output_type": "display_data",
          "data": {
            "image/png": "[encoded data removed]",
            "text/plain": [
              "<Figure size 432x288 with 2 Axes>"
            ]
          },
          "metadata": {
            "tags": [],
            "needs_background": "light"
          }
        }
      ]
    },
    {
      "cell_type": "code",
      "metadata": {
        "colab": {
          "base_uri": "https://localhost:8080/"
        },
        "id": "6ec42f72",
        "outputId": "3611d052-470f-45d8-baaf-fd0fade9fc21"
      },
      "source": [
        "print(classification_report(y, y_test_pred, target_names=['Non-Creditworthy', 'Creditworthy']))"
      ],
      "id": "6ec42f72",
      "execution_count": 73,
      "outputs": [
        {
          "output_type": "stream",
          "text": [
            "                  precision    recall  f1-score   support\n",
            "\n",
            "Non-Creditworthy       0.35      0.13      0.19       142\n",
            "    Creditworthy       0.72      0.91      0.80       358\n",
            "\n",
            "        accuracy                           0.68       500\n",
            "       macro avg       0.53      0.52      0.49       500\n",
            "    weighted avg       0.62      0.68      0.63       500\n",
            "\n"
          ],
          "name": "stdout"
        }
      ]
    },
    {
      "cell_type": "markdown",
      "metadata": {
        "id": "e89cbdf4"
      },
      "source": [
        "### Decision Tree Classifier"
      ],
      "id": "e89cbdf4"
    },
    {
      "cell_type": "code",
      "metadata": {
        "id": "8e85a6e3"
      },
      "source": [
        "clf = DecisionTreeClassifier().fit(X_train, y_train)"
      ],
      "id": "8e85a6e3",
      "execution_count": 74,
      "outputs": []
    },
    {
      "cell_type": "code",
      "metadata": {
        "colab": {
          "base_uri": "https://localhost:8080/",
          "height": 513
        },
        "id": "I5JLDIVadPVt",
        "outputId": "967c2d0f-33b9-4526-b95e-dbc397c1965e"
      },
      "source": [
        "plot_feature_importance(clf.feature_importances_,X1.columns,'DECISION TREE ')"
      ],
      "id": "I5JLDIVadPVt",
      "execution_count": 75,
      "outputs": [
        {
          "output_type": "display_data",
          "data": {
            "image/png": "[encoded data removed]",
            "text/plain": [
              "<Figure size 720x576 with 1 Axes>"
            ]
          },
          "metadata": {
            "tags": [],
            "needs_background": "light"
          }
        }
      ]
    },
    {
      "cell_type": "code",
      "metadata": {
        "id": "f6482135"
      },
      "source": [
        "y_val_pred = clf.predict(X_val)\n",
        "y_val_score = clf.predict_proba(X_val)"
      ],
      "id": "f6482135",
      "execution_count": 76,
      "outputs": []
    },
    {
      "cell_type": "code",
      "metadata": {
        "colab": {
          "base_uri": "https://localhost:8080/",
          "height": 337
        },
        "id": "ea520231",
        "outputId": "87e818b2-77a1-4c4d-9ac0-5661e0c54d23"
      },
      "source": [
        "cf = confusion_matrix(y_val, y_val_pred)\n",
        "labels = ['True Neg','False Pos','False Neg','True Pos']\n",
        "categories = ['Non-creditworthy', 'creditworthy']\n",
        "make_confusion_matrix(cf, \n",
        "                      group_names=labels,\n",
        "                      categories=categories)"
      ],
      "id": "ea520231",
      "execution_count": 77,
      "outputs": [
        {
          "output_type": "display_data",
          "data": {
            "image/png": "[encoded data removed]",
            "text/plain": [
              "<Figure size 432x288 with 2 Axes>"
            ]
          },
          "metadata": {
            "tags": [],
            "needs_background": "light"
          }
        }
      ]
    },
    {
      "cell_type": "code",
      "metadata": {
        "colab": {
          "base_uri": "https://localhost:8080/"
        },
        "id": "c6ed0ba2",
        "outputId": "51b181c0-76c0-4b31-e70a-c46334f75d47"
      },
      "source": [
        "print(classification_report(y_val, y_val_pred, target_names=['Non-Creditworthy', 'Creditworthy']))"
      ],
      "id": "c6ed0ba2",
      "execution_count": 78,
      "outputs": [
        {
          "output_type": "stream",
          "text": [
            "                  precision    recall  f1-score   support\n",
            "\n",
            "Non-Creditworthy       0.39      0.47      0.43        47\n",
            "    Creditworthy       0.73      0.67      0.70       103\n",
            "\n",
            "        accuracy                           0.61       150\n",
            "       macro avg       0.56      0.57      0.56       150\n",
            "    weighted avg       0.63      0.61      0.61       150\n",
            "\n"
          ],
          "name": "stdout"
        }
      ]
    },
    {
      "cell_type": "code",
      "metadata": {
        "id": "cf47e6b3"
      },
      "source": [
        "y_test_pred = clf.predict(X_test)\n",
        "y_test_score = clf.predict_proba(X_test)"
      ],
      "id": "cf47e6b3",
      "execution_count": 79,
      "outputs": []
    },
    {
      "cell_type": "code",
      "metadata": {
        "colab": {
          "base_uri": "https://localhost:8080/",
          "height": 337
        },
        "id": "38ce67bc",
        "outputId": "d83e568b-22fb-49e7-888f-a6f7da2f51bf"
      },
      "source": [
        "cf = confusion_matrix(y, y_test_pred)\n",
        "labels = ['True Neg','False Pos','False Neg','True Pos']\n",
        "categories = ['Non-creditworthy', 'creditworthy']\n",
        "make_confusion_matrix(cf, \n",
        "                      group_names=labels,\n",
        "                      categories=categories)"
      ],
      "id": "38ce67bc",
      "execution_count": 80,
      "outputs": [
        {
          "output_type": "display_data",
          "data": {
            "image/png": "[encoded data removed]",
            "text/plain": [
              "<Figure size 432x288 with 2 Axes>"
            ]
          },
          "metadata": {
            "tags": [],
            "needs_background": "light"
          }
        }
      ]
    },
    {
      "cell_type": "code",
      "metadata": {
        "colab": {
          "base_uri": "https://localhost:8080/"
        },
        "id": "49d0ba01",
        "outputId": "ac45c071-a44d-488d-ad09-c77fa5a2f322"
      },
      "source": [
        "print(classification_report(y, y_test_pred, target_names=['Non-Creditworthy', 'Creditworthy']))"
      ],
      "id": "49d0ba01",
      "execution_count": 81,
      "outputs": [
        {
          "output_type": "stream",
          "text": [
            "                  precision    recall  f1-score   support\n",
            "\n",
            "Non-Creditworthy       0.27      0.30      0.29       142\n",
            "    Creditworthy       0.71      0.68      0.70       358\n",
            "\n",
            "        accuracy                           0.57       500\n",
            "       macro avg       0.49      0.49      0.49       500\n",
            "    weighted avg       0.59      0.57      0.58       500\n",
            "\n"
          ],
          "name": "stdout"
        }
      ]
    },
    {
      "cell_type": "markdown",
      "metadata": {
        "id": "20a8b167"
      },
      "source": [
        "### Random Forest Classifier"
      ],
      "id": "20a8b167"
    },
    {
      "cell_type": "code",
      "metadata": {
        "id": "a8817c14"
      },
      "source": [
        "clf = RandomForestClassifier(n_estimators=100).fit(X_train, y_train)"
      ],
      "id": "a8817c14",
      "execution_count": 82,
      "outputs": []
    },
    {
      "cell_type": "code",
      "metadata": {
        "colab": {
          "base_uri": "https://localhost:8080/",
          "height": 513
        },
        "id": "iTUgMYQ0dToK",
        "outputId": "83b808b8-31f8-4d1c-847d-31ff6b2eb5d0"
      },
      "source": [
        "plot_feature_importance(clf.feature_importances_,X1.columns,'RANDOM FOREST ')"
      ],
      "id": "iTUgMYQ0dToK",
      "execution_count": 83,
      "outputs": [
        {
          "output_type": "display_data",
          "data": {
            "image/png": "[encoded data removed]",
            "text/plain": [
              "<Figure size 720x576 with 1 Axes>"
            ]
          },
          "metadata": {
            "tags": [],
            "needs_background": "light"
          }
        }
      ]
    },
    {
      "cell_type": "code",
      "metadata": {
        "id": "5cf7a2df"
      },
      "source": [
        "y_val_pred = clf.predict(X_val)\n",
        "y_val_score = clf.predict_proba(X_val)"
      ],
      "id": "5cf7a2df",
      "execution_count": 84,
      "outputs": []
    },
    {
      "cell_type": "code",
      "metadata": {
        "colab": {
          "base_uri": "https://localhost:8080/",
          "height": 337
        },
        "id": "2eef0514",
        "outputId": "2f336e56-9bc3-4644-8b9a-befcc386ee2f"
      },
      "source": [
        "cf = confusion_matrix(y_val, y_val_pred)\n",
        "labels = ['True Neg','False Pos','False Neg','True Pos']\n",
        "categories = ['Non-creditworthy', 'creditworthy']\n",
        "make_confusion_matrix(cf, \n",
        "                      group_names=labels,\n",
        "                      categories=categories)"
      ],
      "id": "2eef0514",
      "execution_count": 85,
      "outputs": [
        {
          "output_type": "display_data",
          "data": {
            "image/png": "[encoded data removed]",
            "text/plain": [
              "<Figure size 432x288 with 2 Axes>"
            ]
          },
          "metadata": {
            "tags": [],
            "needs_background": "light"
          }
        }
      ]
    },
    {
      "cell_type": "code",
      "metadata": {
        "colab": {
          "base_uri": "https://localhost:8080/"
        },
        "id": "6f03c995",
        "outputId": "aa4dc5ae-e92c-4566-9162-b490c8a44593"
      },
      "source": [
        "print(classification_report(y_val, y_val_pred, target_names=['Non-Creditworthy', 'Creditworthy']))"
      ],
      "id": "6f03c995",
      "execution_count": 86,
      "outputs": [
        {
          "output_type": "stream",
          "text": [
            "                  precision    recall  f1-score   support\n",
            "\n",
            "Non-Creditworthy       0.65      0.36      0.47        47\n",
            "    Creditworthy       0.76      0.91      0.83       103\n",
            "\n",
            "        accuracy                           0.74       150\n",
            "       macro avg       0.71      0.64      0.65       150\n",
            "    weighted avg       0.73      0.74      0.71       150\n",
            "\n"
          ],
          "name": "stdout"
        }
      ]
    },
    {
      "cell_type": "code",
      "metadata": {
        "id": "e5f21d99"
      },
      "source": [
        "y_test_pred = clf.predict(X_test)\n",
        "y_test_score = clf.predict_proba(X_test)"
      ],
      "id": "e5f21d99",
      "execution_count": 87,
      "outputs": []
    },
    {
      "cell_type": "code",
      "metadata": {
        "colab": {
          "base_uri": "https://localhost:8080/",
          "height": 341
        },
        "id": "daa16534",
        "outputId": "3a3dd95d-6f82-46a0-a611-ec641c9678c3"
      },
      "source": [
        "cf = confusion_matrix(y, y_test_pred)\n",
        "labels = ['True Neg','False Pos','False Neg','True Pos']\n",
        "categories = ['Non-creditworthy', 'creditworthy']\n",
        "make_confusion_matrix(cf, \n",
        "                      group_names=labels,\n",
        "                      categories=categories)"
      ],
      "id": "daa16534",
      "execution_count": 88,
      "outputs": [
        {
          "output_type": "display_data",
          "data": {
            "image/png": "[encoded data removed]",
            "text/plain": [
              "<Figure size 432x288 with 2 Axes>"
            ]
          },
          "metadata": {
            "tags": [],
            "needs_background": "light"
          }
        }
      ]
    },
    {
      "cell_type": "code",
      "metadata": {
        "colab": {
          "base_uri": "https://localhost:8080/"
        },
        "id": "60e46ca7",
        "outputId": "e63ae919-20e1-45e9-acbd-580d83d6eb0d"
      },
      "source": [
        "print(classification_report(y, y_test_pred, target_names=['Non-Creditworthy', 'Creditworthy']))"
      ],
      "id": "60e46ca7",
      "execution_count": 89,
      "outputs": [
        {
          "output_type": "stream",
          "text": [
            "                  precision    recall  f1-score   support\n",
            "\n",
            "Non-Creditworthy       0.36      0.23      0.28       142\n",
            "    Creditworthy       0.73      0.84      0.78       358\n",
            "\n",
            "        accuracy                           0.67       500\n",
            "       macro avg       0.55      0.53      0.53       500\n",
            "    weighted avg       0.63      0.67      0.64       500\n",
            "\n"
          ],
          "name": "stdout"
        }
      ]
    },
    {
      "cell_type": "markdown",
      "metadata": {
        "id": "1e5973ea"
      },
      "source": [
        "### AdaBoost Classifier"
      ],
      "id": "1e5973ea"
    },
    {
      "cell_type": "code",
      "metadata": {
        "id": "40315c2b"
      },
      "source": [
        "clf = AdaBoostClassifier().fit(X_train, y_train)"
      ],
      "id": "40315c2b",
      "execution_count": 90,
      "outputs": []
    },
    {
      "cell_type": "code",
      "metadata": {
        "colab": {
          "base_uri": "https://localhost:8080/",
          "height": 513
        },
        "id": "3TDF5mqMdblp",
        "outputId": "b01bea44-76ce-40b0-9074-3cfdbcc1bf46"
      },
      "source": [
        "plot_feature_importance(clf.feature_importances_,X1.columns,'ADABOOST ')"
      ],
      "id": "3TDF5mqMdblp",
      "execution_count": 91,
      "outputs": [
        {
          "output_type": "display_data",
          "data": {
            "image/png": "[encoded data removed]",
            "text/plain": [
              "<Figure size 720x576 with 1 Axes>"
            ]
          },
          "metadata": {
            "tags": [],
            "needs_background": "light"
          }
        }
      ]
    },
    {
      "cell_type": "code",
      "metadata": {
        "id": "b28e0fec"
      },
      "source": [
        "y_val_pred = clf.predict(X_val)\n",
        "y_val_score = clf.predict_proba(X_val)"
      ],
      "id": "b28e0fec",
      "execution_count": 92,
      "outputs": []
    },
    {
      "cell_type": "code",
      "metadata": {
        "colab": {
          "base_uri": "https://localhost:8080/",
          "height": 337
        },
        "id": "22e5ec4d",
        "outputId": "77a6312c-8225-4b1a-819a-b38b104ebc5a"
      },
      "source": [
        "cf = confusion_matrix(y_val, y_val_pred)\n",
        "labels = ['True Neg','False Pos','False Neg','True Pos']\n",
        "categories = ['Non-creditworthy', 'creditworthy']\n",
        "make_confusion_matrix(cf, \n",
        "                      group_names=labels,\n",
        "                      categories=categories)"
      ],
      "id": "22e5ec4d",
      "execution_count": 93,
      "outputs": [
        {
          "output_type": "display_data",
          "data": {
            "image/png": "[encoded data removed]",
            "text/plain": [
              "<Figure size 432x288 with 2 Axes>"
            ]
          },
          "metadata": {
            "tags": [],
            "needs_background": "light"
          }
        }
      ]
    },
    {
      "cell_type": "code",
      "metadata": {
        "colab": {
          "base_uri": "https://localhost:8080/"
        },
        "id": "d76d3619",
        "outputId": "d261b2f0-2050-44cf-fa91-c09fd43daade"
      },
      "source": [
        "print(classification_report(y_val, y_val_pred, target_names=['Non-Creditworthy', 'Creditworthy']))"
      ],
      "id": "d76d3619",
      "execution_count": 94,
      "outputs": [
        {
          "output_type": "stream",
          "text": [
            "                  precision    recall  f1-score   support\n",
            "\n",
            "Non-Creditworthy       0.66      0.45      0.53        47\n",
            "    Creditworthy       0.78      0.89      0.83       103\n",
            "\n",
            "        accuracy                           0.75       150\n",
            "       macro avg       0.72      0.67      0.68       150\n",
            "    weighted avg       0.74      0.75      0.74       150\n",
            "\n"
          ],
          "name": "stdout"
        }
      ]
    },
    {
      "cell_type": "code",
      "metadata": {
        "id": "f407e423"
      },
      "source": [
        "y_test_pred = clf.predict(X_test)\n",
        "y_test_score = clf.predict_proba(X_test)"
      ],
      "id": "f407e423",
      "execution_count": 95,
      "outputs": []
    },
    {
      "cell_type": "code",
      "metadata": {
        "colab": {
          "base_uri": "https://localhost:8080/",
          "height": 337
        },
        "id": "5a361a63",
        "outputId": "675bb916-b50b-47c5-b5b6-72d6684da871"
      },
      "source": [
        "cf = confusion_matrix(y, y_test_pred)\n",
        "labels = ['True Neg','False Pos','False Neg','True Pos']\n",
        "categories = ['Non-creditworthy', 'creditworthy']\n",
        "make_confusion_matrix(cf, \n",
        "                      group_names=labels,\n",
        "                      categories=categories)"
      ],
      "id": "5a361a63",
      "execution_count": 96,
      "outputs": [
        {
          "output_type": "display_data",
          "data": {
            "image/png": "[encoded data removed]",
            "text/plain": [
              "<Figure size 432x288 with 2 Axes>"
            ]
          },
          "metadata": {
            "tags": [],
            "needs_background": "light"
          }
        }
      ]
    },
    {
      "cell_type": "code",
      "metadata": {
        "colab": {
          "base_uri": "https://localhost:8080/"
        },
        "id": "f38c5590",
        "outputId": "fe0d9649-3b5a-4c74-bfc0-71da40c6a1e8"
      },
      "source": [
        "print(classification_report(y, y_test_pred, target_names=['Non-Creditworthy', 'Creditworthy']))"
      ],
      "id": "f38c5590",
      "execution_count": 97,
      "outputs": [
        {
          "output_type": "stream",
          "text": [
            "                  precision    recall  f1-score   support\n",
            "\n",
            "Non-Creditworthy       0.29      0.23      0.26       142\n",
            "    Creditworthy       0.72      0.77      0.74       358\n",
            "\n",
            "        accuracy                           0.62       500\n",
            "       macro avg       0.50      0.50      0.50       500\n",
            "    weighted avg       0.59      0.62      0.60       500\n",
            "\n"
          ],
          "name": "stdout"
        }
      ]
    },
    {
      "cell_type": "markdown",
      "metadata": {
        "id": "4bfc2e23"
      },
      "source": [
        "### XGBoost"
      ],
      "id": "4bfc2e23"
    },
    {
      "cell_type": "code",
      "metadata": {
        "id": "1af725c1"
      },
      "source": [
        "clf = XGBClassifier(learning_rate = 0.001, n_estimators=200, random_state=random_state).fit(X_train, y_train)"
      ],
      "id": "1af725c1",
      "execution_count": 98,
      "outputs": []
    },
    {
      "cell_type": "code",
      "metadata": {
        "colab": {
          "base_uri": "https://localhost:8080/",
          "height": 513
        },
        "id": "eaHdqmY3de9m",
        "outputId": "5c93a761-0a16-44b6-bf9a-85c1e3002bb4"
      },
      "source": [
        "plot_feature_importance(clf.feature_importances_,X1.columns,'XGBOOST ')"
      ],
      "id": "eaHdqmY3de9m",
      "execution_count": 99,
      "outputs": [
        {
          "output_type": "display_data",
          "data": {
            "image/png": "[encoded data removed]",
            "text/plain": [
              "<Figure size 720x576 with 1 Axes>"
            ]
          },
          "metadata": {
            "tags": [],
            "needs_background": "light"
          }
        }
      ]
    },
    {
      "cell_type": "code",
      "metadata": {
        "id": "4a13e378"
      },
      "source": [
        "y_val_pred = clf.predict(X_val)\n",
        "y_val_score = clf.predict_proba(X_val)"
      ],
      "id": "4a13e378",
      "execution_count": 100,
      "outputs": []
    },
    {
      "cell_type": "code",
      "metadata": {
        "colab": {
          "base_uri": "https://localhost:8080/",
          "height": 337
        },
        "id": "f2c61af1",
        "outputId": "ead7e306-f189-4c7d-adb1-e96165d9795e"
      },
      "source": [
        "cf = confusion_matrix(y_val, y_val_pred)\n",
        "labels = ['True Neg','False Pos','False Neg','True Pos']\n",
        "categories = ['Non-creditworthy', 'creditworthy']\n",
        "make_confusion_matrix(cf, \n",
        "                      group_names=labels,\n",
        "                      categories=categories)"
      ],
      "id": "f2c61af1",
      "execution_count": 101,
      "outputs": [
        {
          "output_type": "display_data",
          "data": {
            "image/png": "[encoded data removed]",
            "text/plain": [
              "<Figure size 432x288 with 2 Axes>"
            ]
          },
          "metadata": {
            "tags": [],
            "needs_background": "light"
          }
        }
      ]
    },
    {
      "cell_type": "code",
      "metadata": {
        "colab": {
          "base_uri": "https://localhost:8080/"
        },
        "id": "0b60336c",
        "outputId": "29c168b2-d058-4a3c-bbc5-974cfcc1bb26"
      },
      "source": [
        "print(classification_report(y_val, y_val_pred, target_names=['Non-Creditworthy', 'Creditworthy']))"
      ],
      "id": "0b60336c",
      "execution_count": 102,
      "outputs": [
        {
          "output_type": "stream",
          "text": [
            "                  precision    recall  f1-score   support\n",
            "\n",
            "Non-Creditworthy       0.56      0.53      0.54        47\n",
            "    Creditworthy       0.79      0.81      0.80       103\n",
            "\n",
            "        accuracy                           0.72       150\n",
            "       macro avg       0.67      0.67      0.67       150\n",
            "    weighted avg       0.72      0.72      0.72       150\n",
            "\n"
          ],
          "name": "stdout"
        }
      ]
    },
    {
      "cell_type": "code",
      "metadata": {
        "id": "4646cf0f"
      },
      "source": [
        "y_test_pred = clf.predict(X_test)\n",
        "y_test_score = clf.predict_proba(X_test)"
      ],
      "id": "4646cf0f",
      "execution_count": 103,
      "outputs": []
    },
    {
      "cell_type": "code",
      "metadata": {
        "colab": {
          "base_uri": "https://localhost:8080/",
          "height": 337
        },
        "id": "9092bfff",
        "outputId": "6aa12694-31e4-4fc4-a4d1-56f943e82d0c"
      },
      "source": [
        "cf = confusion_matrix(y, y_test_pred)\n",
        "labels = ['True Neg','False Pos','False Neg','True Pos']\n",
        "categories = ['Non-creditworthy', 'creditworthy']\n",
        "make_confusion_matrix(cf, \n",
        "                      group_names=labels,\n",
        "                      categories=categories)"
      ],
      "id": "9092bfff",
      "execution_count": 104,
      "outputs": [
        {
          "output_type": "display_data",
          "data": {
            "image/png": "[encoded data removed]",
            "text/plain": [
              "<Figure size 432x288 with 2 Axes>"
            ]
          },
          "metadata": {
            "tags": [],
            "needs_background": "light"
          }
        }
      ]
    },
    {
      "cell_type": "code",
      "metadata": {
        "colab": {
          "base_uri": "https://localhost:8080/"
        },
        "id": "b1601b72",
        "outputId": "eef2700b-2c95-4e9b-8e5d-9d90d8237799"
      },
      "source": [
        "print(classification_report(y, y_test_pred, target_names=['Non-Creditworthy', 'Creditworthy']))"
      ],
      "id": "b1601b72",
      "execution_count": 105,
      "outputs": [
        {
          "output_type": "stream",
          "text": [
            "                  precision    recall  f1-score   support\n",
            "\n",
            "Non-Creditworthy       0.34      0.26      0.30       142\n",
            "    Creditworthy       0.73      0.80      0.77       358\n",
            "\n",
            "        accuracy                           0.65       500\n",
            "       macro avg       0.54      0.53      0.53       500\n",
            "    weighted avg       0.62      0.65      0.63       500\n",
            "\n"
          ],
          "name": "stdout"
        }
      ]
    }
  ]
}