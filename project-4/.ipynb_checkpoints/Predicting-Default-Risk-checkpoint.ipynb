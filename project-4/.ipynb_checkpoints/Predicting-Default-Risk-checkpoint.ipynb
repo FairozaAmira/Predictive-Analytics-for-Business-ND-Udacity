{
 "cells": [
  {
   "cell_type": "code",
   "execution_count": 1,
   "id": "adopted-housing",
   "metadata": {},
   "outputs": [],
   "source": [
    "import pandas as pd\n",
    "import numpy as np\n",
    "import matplotlib.pyplot as plt\n",
    "import seaborn as sns\n",
    "\n",
    "from sklearn.model_selection import StratifiedShuffleSplit, RepeatedStratifiedKFold,KFold,train_test_split, StratifiedKFold, cross_val_score, cross_val_predict\n",
    "from sklearn.metrics import classification_report, accuracy_score,confusion_matrix, roc_curve, auc, roc_auc_score, plot_confusion_matrix, plot_roc_curve\n",
    "from sklearn.ensemble import IsolationForest, ExtraTreesClassifier, RandomForestClassifier, AdaBoostClassifier\n",
    "from sklearn.neighbors import LocalOutlierFactor \n",
    "from sklearn.feature_selection import SelectKBest, chi2, RFE, f_classif, SelectFromModel\n",
    "from sklearn.linear_model import LogisticRegression, LassoCV\n",
    "from sklearn.decomposition import PCA\n",
    "from sklearn.preprocessing import label_binarize, StandardScaler, MinMaxScaler, RobustScaler, PowerTransformer\n",
    "from sklearn.tree import DecisionTreeClassifier\n",
    "\n",
    "from xgboost import XGBClassifier\n",
    "\n",
    "import statsmodels.api as sm\n",
    "\n",
    "from functools import reduce\n",
    "\n",
    "%matplotlib inline"
   ]
  },
  {
   "cell_type": "code",
   "execution_count": 2,
   "id": "protective-vegetable",
   "metadata": {},
   "outputs": [
    {
     "data": {
      "text/html": [
       "<div>\n",
       "<style scoped>\n",
       "    .dataframe tbody tr th:only-of-type {\n",
       "        vertical-align: middle;\n",
       "    }\n",
       "\n",
       "    .dataframe tbody tr th {\n",
       "        vertical-align: top;\n",
       "    }\n",
       "\n",
       "    .dataframe thead th {\n",
       "        text-align: right;\n",
       "    }\n",
       "</style>\n",
       "<table border=\"1\" class=\"dataframe\">\n",
       "  <thead>\n",
       "    <tr style=\"text-align: right;\">\n",
       "      <th></th>\n",
       "      <th>Credit-Application-Result</th>\n",
       "      <th>Account-Balance</th>\n",
       "      <th>Duration-of-Credit-Month</th>\n",
       "      <th>Payment-Status-of-Previous-Credit</th>\n",
       "      <th>Purpose</th>\n",
       "      <th>Credit-Amount</th>\n",
       "      <th>Value-Savings-Stocks</th>\n",
       "      <th>Length-of-current-employment</th>\n",
       "      <th>Instalment-per-cent</th>\n",
       "      <th>Guarantors</th>\n",
       "      <th>Duration-in-Current-address</th>\n",
       "      <th>Most-valuable-available-asset</th>\n",
       "      <th>Age-years</th>\n",
       "      <th>Concurrent-Credits</th>\n",
       "      <th>Type-of-apartment</th>\n",
       "      <th>No-of-Credits-at-this-Bank</th>\n",
       "      <th>Occupation</th>\n",
       "      <th>No-of-dependents</th>\n",
       "      <th>Telephone</th>\n",
       "      <th>Foreign-Worker</th>\n",
       "    </tr>\n",
       "  </thead>\n",
       "  <tbody>\n",
       "    <tr>\n",
       "      <th>0</th>\n",
       "      <td>Creditworthy</td>\n",
       "      <td>Some Balance</td>\n",
       "      <td>4</td>\n",
       "      <td>Paid Up</td>\n",
       "      <td>Other</td>\n",
       "      <td>1494</td>\n",
       "      <td>£100-£1000</td>\n",
       "      <td>&lt; 1yr</td>\n",
       "      <td>1</td>\n",
       "      <td>None</td>\n",
       "      <td>2.0</td>\n",
       "      <td>1</td>\n",
       "      <td>NaN</td>\n",
       "      <td>Other Banks/Depts</td>\n",
       "      <td>2</td>\n",
       "      <td>1</td>\n",
       "      <td>1</td>\n",
       "      <td>2</td>\n",
       "      <td>1</td>\n",
       "      <td>2</td>\n",
       "    </tr>\n",
       "    <tr>\n",
       "      <th>1</th>\n",
       "      <td>Creditworthy</td>\n",
       "      <td>Some Balance</td>\n",
       "      <td>4</td>\n",
       "      <td>Paid Up</td>\n",
       "      <td>Home Related</td>\n",
       "      <td>1494</td>\n",
       "      <td>£100-£1000</td>\n",
       "      <td>&lt; 1yr</td>\n",
       "      <td>1</td>\n",
       "      <td>None</td>\n",
       "      <td>2.0</td>\n",
       "      <td>1</td>\n",
       "      <td>29.0</td>\n",
       "      <td>Other Banks/Depts</td>\n",
       "      <td>2</td>\n",
       "      <td>1</td>\n",
       "      <td>1</td>\n",
       "      <td>2</td>\n",
       "      <td>1</td>\n",
       "      <td>2</td>\n",
       "    </tr>\n",
       "    <tr>\n",
       "      <th>2</th>\n",
       "      <td>Creditworthy</td>\n",
       "      <td>Some Balance</td>\n",
       "      <td>4</td>\n",
       "      <td>No Problems (in this bank)</td>\n",
       "      <td>Home Related</td>\n",
       "      <td>1544</td>\n",
       "      <td>None</td>\n",
       "      <td>1-4 yrs</td>\n",
       "      <td>2</td>\n",
       "      <td>None</td>\n",
       "      <td>1.0</td>\n",
       "      <td>1</td>\n",
       "      <td>42.0</td>\n",
       "      <td>Other Banks/Depts</td>\n",
       "      <td>2</td>\n",
       "      <td>More than 1</td>\n",
       "      <td>1</td>\n",
       "      <td>2</td>\n",
       "      <td>1</td>\n",
       "      <td>1</td>\n",
       "    </tr>\n",
       "    <tr>\n",
       "      <th>3</th>\n",
       "      <td>Creditworthy</td>\n",
       "      <td>Some Balance</td>\n",
       "      <td>4</td>\n",
       "      <td>No Problems (in this bank)</td>\n",
       "      <td>Home Related</td>\n",
       "      <td>3380</td>\n",
       "      <td>None</td>\n",
       "      <td>1-4 yrs</td>\n",
       "      <td>1</td>\n",
       "      <td>None</td>\n",
       "      <td>1.0</td>\n",
       "      <td>1</td>\n",
       "      <td>37.0</td>\n",
       "      <td>Other Banks/Depts</td>\n",
       "      <td>2</td>\n",
       "      <td>1</td>\n",
       "      <td>1</td>\n",
       "      <td>2</td>\n",
       "      <td>1</td>\n",
       "      <td>1</td>\n",
       "    </tr>\n",
       "    <tr>\n",
       "      <th>4</th>\n",
       "      <td>Creditworthy</td>\n",
       "      <td>No Account</td>\n",
       "      <td>6</td>\n",
       "      <td>Paid Up</td>\n",
       "      <td>Home Related</td>\n",
       "      <td>343</td>\n",
       "      <td>None</td>\n",
       "      <td>&lt; 1yr</td>\n",
       "      <td>4</td>\n",
       "      <td>None</td>\n",
       "      <td>1.0</td>\n",
       "      <td>1</td>\n",
       "      <td>27.0</td>\n",
       "      <td>Other Banks/Depts</td>\n",
       "      <td>2</td>\n",
       "      <td>1</td>\n",
       "      <td>1</td>\n",
       "      <td>1</td>\n",
       "      <td>1</td>\n",
       "      <td>1</td>\n",
       "    </tr>\n",
       "    <tr>\n",
       "      <th>...</th>\n",
       "      <td>...</td>\n",
       "      <td>...</td>\n",
       "      <td>...</td>\n",
       "      <td>...</td>\n",
       "      <td>...</td>\n",
       "      <td>...</td>\n",
       "      <td>...</td>\n",
       "      <td>...</td>\n",
       "      <td>...</td>\n",
       "      <td>...</td>\n",
       "      <td>...</td>\n",
       "      <td>...</td>\n",
       "      <td>...</td>\n",
       "      <td>...</td>\n",
       "      <td>...</td>\n",
       "      <td>...</td>\n",
       "      <td>...</td>\n",
       "      <td>...</td>\n",
       "      <td>...</td>\n",
       "      <td>...</td>\n",
       "    </tr>\n",
       "    <tr>\n",
       "      <th>495</th>\n",
       "      <td>Creditworthy</td>\n",
       "      <td>No Account</td>\n",
       "      <td>60</td>\n",
       "      <td>No Problems (in this bank)</td>\n",
       "      <td>Other</td>\n",
       "      <td>7418</td>\n",
       "      <td>£100-£1000</td>\n",
       "      <td>&lt; 1yr</td>\n",
       "      <td>1</td>\n",
       "      <td>None</td>\n",
       "      <td>1.0</td>\n",
       "      <td>1</td>\n",
       "      <td>NaN</td>\n",
       "      <td>Other Banks/Depts</td>\n",
       "      <td>2</td>\n",
       "      <td>1</td>\n",
       "      <td>1</td>\n",
       "      <td>1</td>\n",
       "      <td>1</td>\n",
       "      <td>1</td>\n",
       "    </tr>\n",
       "    <tr>\n",
       "      <th>496</th>\n",
       "      <td>Creditworthy</td>\n",
       "      <td>No Account</td>\n",
       "      <td>60</td>\n",
       "      <td>No Problems (in this bank)</td>\n",
       "      <td>Home Related</td>\n",
       "      <td>7418</td>\n",
       "      <td>£100-£1000</td>\n",
       "      <td>&lt; 1yr</td>\n",
       "      <td>1</td>\n",
       "      <td>None</td>\n",
       "      <td>1.0</td>\n",
       "      <td>1</td>\n",
       "      <td>27.0</td>\n",
       "      <td>Other Banks/Depts</td>\n",
       "      <td>2</td>\n",
       "      <td>1</td>\n",
       "      <td>1</td>\n",
       "      <td>1</td>\n",
       "      <td>1</td>\n",
       "      <td>1</td>\n",
       "    </tr>\n",
       "    <tr>\n",
       "      <th>497</th>\n",
       "      <td>Creditworthy</td>\n",
       "      <td>No Account</td>\n",
       "      <td>60</td>\n",
       "      <td>No Problems (in this bank)</td>\n",
       "      <td>Home Related</td>\n",
       "      <td>9157</td>\n",
       "      <td>£100-£1000</td>\n",
       "      <td>&lt; 1yr</td>\n",
       "      <td>2</td>\n",
       "      <td>None</td>\n",
       "      <td>NaN</td>\n",
       "      <td>4</td>\n",
       "      <td>27.0</td>\n",
       "      <td>Other Banks/Depts</td>\n",
       "      <td>3</td>\n",
       "      <td>1</td>\n",
       "      <td>1</td>\n",
       "      <td>1</td>\n",
       "      <td>1</td>\n",
       "      <td>1</td>\n",
       "    </tr>\n",
       "    <tr>\n",
       "      <th>498</th>\n",
       "      <td>Creditworthy</td>\n",
       "      <td>Some Balance</td>\n",
       "      <td>60</td>\n",
       "      <td>No Problems (in this bank)</td>\n",
       "      <td>Home Related</td>\n",
       "      <td>13756</td>\n",
       "      <td>£100-£1000</td>\n",
       "      <td>4-7 yrs</td>\n",
       "      <td>2</td>\n",
       "      <td>None</td>\n",
       "      <td>NaN</td>\n",
       "      <td>4</td>\n",
       "      <td>63.0</td>\n",
       "      <td>Other Banks/Depts</td>\n",
       "      <td>3</td>\n",
       "      <td>1</td>\n",
       "      <td>1</td>\n",
       "      <td>1</td>\n",
       "      <td>2</td>\n",
       "      <td>1</td>\n",
       "    </tr>\n",
       "    <tr>\n",
       "      <th>499</th>\n",
       "      <td>Non-Creditworthy</td>\n",
       "      <td>No Account</td>\n",
       "      <td>60</td>\n",
       "      <td>Paid Up</td>\n",
       "      <td>Home Related</td>\n",
       "      <td>14027</td>\n",
       "      <td>None</td>\n",
       "      <td>1-4 yrs</td>\n",
       "      <td>4</td>\n",
       "      <td>None</td>\n",
       "      <td>NaN</td>\n",
       "      <td>4</td>\n",
       "      <td>27.0</td>\n",
       "      <td>Other Banks/Depts</td>\n",
       "      <td>2</td>\n",
       "      <td>1</td>\n",
       "      <td>1</td>\n",
       "      <td>1</td>\n",
       "      <td>2</td>\n",
       "      <td>1</td>\n",
       "    </tr>\n",
       "  </tbody>\n",
       "</table>\n",
       "<p>500 rows × 20 columns</p>\n",
       "</div>"
      ],
      "text/plain": [
       "    Credit-Application-Result Account-Balance  Duration-of-Credit-Month  \\\n",
       "0                Creditworthy    Some Balance                         4   \n",
       "1                Creditworthy    Some Balance                         4   \n",
       "2                Creditworthy    Some Balance                         4   \n",
       "3                Creditworthy    Some Balance                         4   \n",
       "4                Creditworthy      No Account                         6   \n",
       "..                        ...             ...                       ...   \n",
       "495              Creditworthy      No Account                        60   \n",
       "496              Creditworthy      No Account                        60   \n",
       "497              Creditworthy      No Account                        60   \n",
       "498              Creditworthy    Some Balance                        60   \n",
       "499          Non-Creditworthy      No Account                        60   \n",
       "\n",
       "    Payment-Status-of-Previous-Credit       Purpose  Credit-Amount  \\\n",
       "0                             Paid Up         Other           1494   \n",
       "1                             Paid Up  Home Related           1494   \n",
       "2          No Problems (in this bank)  Home Related           1544   \n",
       "3          No Problems (in this bank)  Home Related           3380   \n",
       "4                             Paid Up  Home Related            343   \n",
       "..                                ...           ...            ...   \n",
       "495        No Problems (in this bank)         Other           7418   \n",
       "496        No Problems (in this bank)  Home Related           7418   \n",
       "497        No Problems (in this bank)  Home Related           9157   \n",
       "498        No Problems (in this bank)  Home Related          13756   \n",
       "499                           Paid Up  Home Related          14027   \n",
       "\n",
       "    Value-Savings-Stocks Length-of-current-employment  Instalment-per-cent  \\\n",
       "0             £100-£1000                        < 1yr                    1   \n",
       "1             £100-£1000                        < 1yr                    1   \n",
       "2                   None                      1-4 yrs                    2   \n",
       "3                   None                      1-4 yrs                    1   \n",
       "4                   None                        < 1yr                    4   \n",
       "..                   ...                          ...                  ...   \n",
       "495           £100-£1000                        < 1yr                    1   \n",
       "496           £100-£1000                        < 1yr                    1   \n",
       "497           £100-£1000                        < 1yr                    2   \n",
       "498           £100-£1000                      4-7 yrs                    2   \n",
       "499                 None                      1-4 yrs                    4   \n",
       "\n",
       "    Guarantors  Duration-in-Current-address  Most-valuable-available-asset  \\\n",
       "0         None                          2.0                              1   \n",
       "1         None                          2.0                              1   \n",
       "2         None                          1.0                              1   \n",
       "3         None                          1.0                              1   \n",
       "4         None                          1.0                              1   \n",
       "..         ...                          ...                            ...   \n",
       "495       None                          1.0                              1   \n",
       "496       None                          1.0                              1   \n",
       "497       None                          NaN                              4   \n",
       "498       None                          NaN                              4   \n",
       "499       None                          NaN                              4   \n",
       "\n",
       "     Age-years Concurrent-Credits  Type-of-apartment  \\\n",
       "0          NaN  Other Banks/Depts                  2   \n",
       "1         29.0  Other Banks/Depts                  2   \n",
       "2         42.0  Other Banks/Depts                  2   \n",
       "3         37.0  Other Banks/Depts                  2   \n",
       "4         27.0  Other Banks/Depts                  2   \n",
       "..         ...                ...                ...   \n",
       "495        NaN  Other Banks/Depts                  2   \n",
       "496       27.0  Other Banks/Depts                  2   \n",
       "497       27.0  Other Banks/Depts                  3   \n",
       "498       63.0  Other Banks/Depts                  3   \n",
       "499       27.0  Other Banks/Depts                  2   \n",
       "\n",
       "    No-of-Credits-at-this-Bank  Occupation  No-of-dependents  Telephone  \\\n",
       "0                            1           1                 2          1   \n",
       "1                            1           1                 2          1   \n",
       "2                  More than 1           1                 2          1   \n",
       "3                            1           1                 2          1   \n",
       "4                            1           1                 1          1   \n",
       "..                         ...         ...               ...        ...   \n",
       "495                          1           1                 1          1   \n",
       "496                          1           1                 1          1   \n",
       "497                          1           1                 1          1   \n",
       "498                          1           1                 1          2   \n",
       "499                          1           1                 1          2   \n",
       "\n",
       "     Foreign-Worker  \n",
       "0                 2  \n",
       "1                 2  \n",
       "2                 1  \n",
       "3                 1  \n",
       "4                 1  \n",
       "..              ...  \n",
       "495               1  \n",
       "496               1  \n",
       "497               1  \n",
       "498               1  \n",
       "499               1  \n",
       "\n",
       "[500 rows x 20 columns]"
      ]
     },
     "execution_count": 2,
     "metadata": {},
     "output_type": "execute_result"
    }
   ],
   "source": [
    "df = pd.read_csv(\"credit-data-training.csv\")\n",
    "df"
   ]
  },
  {
   "cell_type": "code",
   "execution_count": 3,
   "id": "macro-winner",
   "metadata": {},
   "outputs": [
    {
     "data": {
      "text/plain": [
       "array(['Creditworthy', 'Non-Creditworthy'], dtype=object)"
      ]
     },
     "execution_count": 3,
     "metadata": {},
     "output_type": "execute_result"
    }
   ],
   "source": [
    "df['Credit-Application-Result'].unique()"
   ]
  },
  {
   "cell_type": "code",
   "execution_count": 4,
   "id": "wrapped-choice",
   "metadata": {},
   "outputs": [],
   "source": [
    "df['Credit-Application-Result'].replace({\"Creditworthy\": 1, \"Non-Creditworthy\": 0}, inplace=True)"
   ]
  },
  {
   "cell_type": "code",
   "execution_count": 5,
   "id": "derived-helicopter",
   "metadata": {},
   "outputs": [
    {
     "data": {
      "text/plain": [
       "array(['Some Balance', 'No Account'], dtype=object)"
      ]
     },
     "execution_count": 5,
     "metadata": {},
     "output_type": "execute_result"
    }
   ],
   "source": [
    "df['Account-Balance'].unique()"
   ]
  },
  {
   "cell_type": "code",
   "execution_count": 6,
   "id": "incident-prime",
   "metadata": {},
   "outputs": [],
   "source": [
    "df['Account-Balance'].replace({'Some Balance': 1, 'No Account': 0}, inplace=True)"
   ]
  },
  {
   "cell_type": "code",
   "execution_count": 7,
   "id": "adjusted-orbit",
   "metadata": {},
   "outputs": [
    {
     "data": {
      "text/plain": [
       "array(['Paid Up', 'No Problems (in this bank)', 'Some Problems'],\n",
       "      dtype=object)"
      ]
     },
     "execution_count": 7,
     "metadata": {},
     "output_type": "execute_result"
    }
   ],
   "source": [
    "df['Payment-Status-of-Previous-Credit'].unique()"
   ]
  },
  {
   "cell_type": "code",
   "execution_count": 8,
   "id": "complicated-finnish",
   "metadata": {},
   "outputs": [],
   "source": [
    "df['Payment-Status-of-Previous-Credit'].replace({'Paid Up': 2, 'No Problems (in this bank)': 1, 'Some Problems': 0}, inplace=True)"
   ]
  },
  {
   "cell_type": "code",
   "execution_count": 9,
   "id": "resistant-addition",
   "metadata": {},
   "outputs": [
    {
     "data": {
      "text/plain": [
       "array(['Other', 'Home Related', 'Used car', 'New car'], dtype=object)"
      ]
     },
     "execution_count": 9,
     "metadata": {},
     "output_type": "execute_result"
    }
   ],
   "source": [
    "df['Purpose'].unique()"
   ]
  },
  {
   "cell_type": "code",
   "execution_count": 10,
   "id": "municipal-samoa",
   "metadata": {},
   "outputs": [],
   "source": [
    "df['Purpose'].replace({\n",
    "                    'New car': 3, \n",
    "                    'Used car': 2,\n",
    "                    'Home Related': 1,\n",
    "                    'Other': 0}, inplace=True)"
   ]
  },
  {
   "cell_type": "code",
   "execution_count": 11,
   "id": "exterior-selection",
   "metadata": {},
   "outputs": [
    {
     "data": {
      "text/plain": [
       "array(['£100-£1000', 'None', '< £100'], dtype=object)"
      ]
     },
     "execution_count": 11,
     "metadata": {},
     "output_type": "execute_result"
    }
   ],
   "source": [
    "df['Value-Savings-Stocks'].unique()"
   ]
  },
  {
   "cell_type": "code",
   "execution_count": 12,
   "id": "conventional-parallel",
   "metadata": {},
   "outputs": [],
   "source": [
    "df['Value-Savings-Stocks'].replace({\n",
    "                    '< £100': 2, \n",
    "                    '£100-£1000': 1,\n",
    "                    'None': 0}, inplace=True)"
   ]
  },
  {
   "cell_type": "code",
   "execution_count": 13,
   "id": "enclosed-moderator",
   "metadata": {
    "scrolled": true
   },
   "outputs": [
    {
     "data": {
      "text/plain": [
       "array(['< 1yr', '1-4 yrs', '4-7 yrs'], dtype=object)"
      ]
     },
     "execution_count": 13,
     "metadata": {},
     "output_type": "execute_result"
    }
   ],
   "source": [
    "df['Length-of-current-employment'].unique()"
   ]
  },
  {
   "cell_type": "code",
   "execution_count": 14,
   "id": "coordinate-arnold",
   "metadata": {},
   "outputs": [],
   "source": [
    "df['Length-of-current-employment'].replace({\n",
    "                    '4-7 yrs': 2, \n",
    "                    '1-4 yrs': 1,\n",
    "                    '< 1yr': 0}, inplace=True)"
   ]
  },
  {
   "cell_type": "code",
   "execution_count": 15,
   "id": "angry-forward",
   "metadata": {},
   "outputs": [
    {
     "data": {
      "text/plain": [
       "array(['Other Banks/Depts'], dtype=object)"
      ]
     },
     "execution_count": 15,
     "metadata": {},
     "output_type": "execute_result"
    }
   ],
   "source": [
    "df['Concurrent-Credits'].unique()"
   ]
  },
  {
   "cell_type": "code",
   "execution_count": 16,
   "id": "variable-forum",
   "metadata": {},
   "outputs": [],
   "source": [
    "df['Concurrent-Credits'].replace({'Other Banks/Depts': 1}, inplace=True)"
   ]
  },
  {
   "cell_type": "code",
   "execution_count": 17,
   "id": "little-panama",
   "metadata": {},
   "outputs": [
    {
     "data": {
      "text/plain": [
       "array(['1', 'More than 1'], dtype=object)"
      ]
     },
     "execution_count": 17,
     "metadata": {},
     "output_type": "execute_result"
    }
   ],
   "source": [
    "df['No-of-Credits-at-this-Bank'].unique()"
   ]
  },
  {
   "cell_type": "code",
   "execution_count": 18,
   "id": "twenty-wound",
   "metadata": {},
   "outputs": [],
   "source": [
    "df['No-of-Credits-at-this-Bank'].replace({'More than 1': 1, '1': 0}, inplace=True)"
   ]
  },
  {
   "cell_type": "code",
   "execution_count": 19,
   "id": "golden-might",
   "metadata": {},
   "outputs": [
    {
     "data": {
      "text/plain": [
       "array(['None', 'Yes'], dtype=object)"
      ]
     },
     "execution_count": 19,
     "metadata": {},
     "output_type": "execute_result"
    }
   ],
   "source": [
    "df[\"Guarantors\"].unique()"
   ]
  },
  {
   "cell_type": "code",
   "execution_count": 20,
   "id": "martial-volunteer",
   "metadata": {},
   "outputs": [],
   "source": [
    "df['Guarantors'].replace({'Yes': 1, 'None': 0}, inplace=True)"
   ]
  },
  {
   "cell_type": "code",
   "execution_count": 21,
   "id": "animal-ecuador",
   "metadata": {
    "scrolled": true
   },
   "outputs": [
    {
     "data": {
      "text/html": [
       "<div>\n",
       "<style scoped>\n",
       "    .dataframe tbody tr th:only-of-type {\n",
       "        vertical-align: middle;\n",
       "    }\n",
       "\n",
       "    .dataframe tbody tr th {\n",
       "        vertical-align: top;\n",
       "    }\n",
       "\n",
       "    .dataframe thead th {\n",
       "        text-align: right;\n",
       "    }\n",
       "</style>\n",
       "<table border=\"1\" class=\"dataframe\">\n",
       "  <thead>\n",
       "    <tr style=\"text-align: right;\">\n",
       "      <th></th>\n",
       "      <th>Credit-Application-Result</th>\n",
       "      <th>Account-Balance</th>\n",
       "      <th>Duration-of-Credit-Month</th>\n",
       "      <th>Payment-Status-of-Previous-Credit</th>\n",
       "      <th>Purpose</th>\n",
       "      <th>Credit-Amount</th>\n",
       "      <th>Value-Savings-Stocks</th>\n",
       "      <th>Length-of-current-employment</th>\n",
       "      <th>Instalment-per-cent</th>\n",
       "      <th>Guarantors</th>\n",
       "      <th>Duration-in-Current-address</th>\n",
       "      <th>Most-valuable-available-asset</th>\n",
       "      <th>Age-years</th>\n",
       "      <th>Concurrent-Credits</th>\n",
       "      <th>Type-of-apartment</th>\n",
       "      <th>No-of-Credits-at-this-Bank</th>\n",
       "      <th>Occupation</th>\n",
       "      <th>No-of-dependents</th>\n",
       "      <th>Telephone</th>\n",
       "      <th>Foreign-Worker</th>\n",
       "    </tr>\n",
       "  </thead>\n",
       "  <tbody>\n",
       "    <tr>\n",
       "      <th>count</th>\n",
       "      <td>500.000000</td>\n",
       "      <td>500.000000</td>\n",
       "      <td>500.00000</td>\n",
       "      <td>500.000000</td>\n",
       "      <td>500.000000</td>\n",
       "      <td>500.000000</td>\n",
       "      <td>500.000000</td>\n",
       "      <td>500.000000</td>\n",
       "      <td>500.000000</td>\n",
       "      <td>500.000000</td>\n",
       "      <td>156.000000</td>\n",
       "      <td>500.000000</td>\n",
       "      <td>488.000000</td>\n",
       "      <td>500.0</td>\n",
       "      <td>500.000000</td>\n",
       "      <td>500.000000</td>\n",
       "      <td>500.0</td>\n",
       "      <td>500.00000</td>\n",
       "      <td>500.000000</td>\n",
       "      <td>500.000000</td>\n",
       "    </tr>\n",
       "    <tr>\n",
       "      <th>mean</th>\n",
       "      <td>0.716000</td>\n",
       "      <td>0.476000</td>\n",
       "      <td>21.43400</td>\n",
       "      <td>1.448000</td>\n",
       "      <td>1.324000</td>\n",
       "      <td>3199.980000</td>\n",
       "      <td>0.500000</td>\n",
       "      <td>0.690000</td>\n",
       "      <td>3.010000</td>\n",
       "      <td>0.086000</td>\n",
       "      <td>2.660256</td>\n",
       "      <td>2.360000</td>\n",
       "      <td>35.637295</td>\n",
       "      <td>1.0</td>\n",
       "      <td>1.928000</td>\n",
       "      <td>0.360000</td>\n",
       "      <td>1.0</td>\n",
       "      <td>1.14600</td>\n",
       "      <td>1.400000</td>\n",
       "      <td>1.038000</td>\n",
       "    </tr>\n",
       "    <tr>\n",
       "      <th>std</th>\n",
       "      <td>0.451388</td>\n",
       "      <td>0.499924</td>\n",
       "      <td>12.30742</td>\n",
       "      <td>0.626163</td>\n",
       "      <td>0.684076</td>\n",
       "      <td>2831.386861</td>\n",
       "      <td>0.665497</td>\n",
       "      <td>0.843399</td>\n",
       "      <td>1.113724</td>\n",
       "      <td>0.280645</td>\n",
       "      <td>1.150017</td>\n",
       "      <td>1.064268</td>\n",
       "      <td>11.501522</td>\n",
       "      <td>0.0</td>\n",
       "      <td>0.539814</td>\n",
       "      <td>0.480481</td>\n",
       "      <td>0.0</td>\n",
       "      <td>0.35346</td>\n",
       "      <td>0.490389</td>\n",
       "      <td>0.191388</td>\n",
       "    </tr>\n",
       "    <tr>\n",
       "      <th>min</th>\n",
       "      <td>0.000000</td>\n",
       "      <td>0.000000</td>\n",
       "      <td>4.00000</td>\n",
       "      <td>0.000000</td>\n",
       "      <td>0.000000</td>\n",
       "      <td>276.000000</td>\n",
       "      <td>0.000000</td>\n",
       "      <td>0.000000</td>\n",
       "      <td>1.000000</td>\n",
       "      <td>0.000000</td>\n",
       "      <td>1.000000</td>\n",
       "      <td>1.000000</td>\n",
       "      <td>19.000000</td>\n",
       "      <td>1.0</td>\n",
       "      <td>1.000000</td>\n",
       "      <td>0.000000</td>\n",
       "      <td>1.0</td>\n",
       "      <td>1.00000</td>\n",
       "      <td>1.000000</td>\n",
       "      <td>1.000000</td>\n",
       "    </tr>\n",
       "    <tr>\n",
       "      <th>25%</th>\n",
       "      <td>0.000000</td>\n",
       "      <td>0.000000</td>\n",
       "      <td>12.00000</td>\n",
       "      <td>1.000000</td>\n",
       "      <td>1.000000</td>\n",
       "      <td>1357.250000</td>\n",
       "      <td>0.000000</td>\n",
       "      <td>0.000000</td>\n",
       "      <td>2.000000</td>\n",
       "      <td>0.000000</td>\n",
       "      <td>2.000000</td>\n",
       "      <td>1.000000</td>\n",
       "      <td>27.000000</td>\n",
       "      <td>1.0</td>\n",
       "      <td>2.000000</td>\n",
       "      <td>0.000000</td>\n",
       "      <td>1.0</td>\n",
       "      <td>1.00000</td>\n",
       "      <td>1.000000</td>\n",
       "      <td>1.000000</td>\n",
       "    </tr>\n",
       "    <tr>\n",
       "      <th>50%</th>\n",
       "      <td>1.000000</td>\n",
       "      <td>0.000000</td>\n",
       "      <td>18.00000</td>\n",
       "      <td>2.000000</td>\n",
       "      <td>1.000000</td>\n",
       "      <td>2236.500000</td>\n",
       "      <td>0.000000</td>\n",
       "      <td>0.000000</td>\n",
       "      <td>3.000000</td>\n",
       "      <td>0.000000</td>\n",
       "      <td>2.000000</td>\n",
       "      <td>3.000000</td>\n",
       "      <td>33.000000</td>\n",
       "      <td>1.0</td>\n",
       "      <td>2.000000</td>\n",
       "      <td>0.000000</td>\n",
       "      <td>1.0</td>\n",
       "      <td>1.00000</td>\n",
       "      <td>1.000000</td>\n",
       "      <td>1.000000</td>\n",
       "    </tr>\n",
       "    <tr>\n",
       "      <th>75%</th>\n",
       "      <td>1.000000</td>\n",
       "      <td>1.000000</td>\n",
       "      <td>24.00000</td>\n",
       "      <td>2.000000</td>\n",
       "      <td>2.000000</td>\n",
       "      <td>3941.500000</td>\n",
       "      <td>1.000000</td>\n",
       "      <td>1.000000</td>\n",
       "      <td>4.000000</td>\n",
       "      <td>0.000000</td>\n",
       "      <td>4.000000</td>\n",
       "      <td>3.000000</td>\n",
       "      <td>42.000000</td>\n",
       "      <td>1.0</td>\n",
       "      <td>2.000000</td>\n",
       "      <td>1.000000</td>\n",
       "      <td>1.0</td>\n",
       "      <td>1.00000</td>\n",
       "      <td>2.000000</td>\n",
       "      <td>1.000000</td>\n",
       "    </tr>\n",
       "    <tr>\n",
       "      <th>max</th>\n",
       "      <td>1.000000</td>\n",
       "      <td>1.000000</td>\n",
       "      <td>60.00000</td>\n",
       "      <td>2.000000</td>\n",
       "      <td>3.000000</td>\n",
       "      <td>18424.000000</td>\n",
       "      <td>2.000000</td>\n",
       "      <td>2.000000</td>\n",
       "      <td>4.000000</td>\n",
       "      <td>1.000000</td>\n",
       "      <td>4.000000</td>\n",
       "      <td>4.000000</td>\n",
       "      <td>75.000000</td>\n",
       "      <td>1.0</td>\n",
       "      <td>3.000000</td>\n",
       "      <td>1.000000</td>\n",
       "      <td>1.0</td>\n",
       "      <td>2.00000</td>\n",
       "      <td>2.000000</td>\n",
       "      <td>2.000000</td>\n",
       "    </tr>\n",
       "  </tbody>\n",
       "</table>\n",
       "</div>"
      ],
      "text/plain": [
       "       Credit-Application-Result  Account-Balance  Duration-of-Credit-Month  \\\n",
       "count                 500.000000       500.000000                 500.00000   \n",
       "mean                    0.716000         0.476000                  21.43400   \n",
       "std                     0.451388         0.499924                  12.30742   \n",
       "min                     0.000000         0.000000                   4.00000   \n",
       "25%                     0.000000         0.000000                  12.00000   \n",
       "50%                     1.000000         0.000000                  18.00000   \n",
       "75%                     1.000000         1.000000                  24.00000   \n",
       "max                     1.000000         1.000000                  60.00000   \n",
       "\n",
       "       Payment-Status-of-Previous-Credit     Purpose  Credit-Amount  \\\n",
       "count                         500.000000  500.000000     500.000000   \n",
       "mean                            1.448000    1.324000    3199.980000   \n",
       "std                             0.626163    0.684076    2831.386861   \n",
       "min                             0.000000    0.000000     276.000000   \n",
       "25%                             1.000000    1.000000    1357.250000   \n",
       "50%                             2.000000    1.000000    2236.500000   \n",
       "75%                             2.000000    2.000000    3941.500000   \n",
       "max                             2.000000    3.000000   18424.000000   \n",
       "\n",
       "       Value-Savings-Stocks  Length-of-current-employment  \\\n",
       "count            500.000000                    500.000000   \n",
       "mean               0.500000                      0.690000   \n",
       "std                0.665497                      0.843399   \n",
       "min                0.000000                      0.000000   \n",
       "25%                0.000000                      0.000000   \n",
       "50%                0.000000                      0.000000   \n",
       "75%                1.000000                      1.000000   \n",
       "max                2.000000                      2.000000   \n",
       "\n",
       "       Instalment-per-cent  Guarantors  Duration-in-Current-address  \\\n",
       "count           500.000000  500.000000                   156.000000   \n",
       "mean              3.010000    0.086000                     2.660256   \n",
       "std               1.113724    0.280645                     1.150017   \n",
       "min               1.000000    0.000000                     1.000000   \n",
       "25%               2.000000    0.000000                     2.000000   \n",
       "50%               3.000000    0.000000                     2.000000   \n",
       "75%               4.000000    0.000000                     4.000000   \n",
       "max               4.000000    1.000000                     4.000000   \n",
       "\n",
       "       Most-valuable-available-asset   Age-years  Concurrent-Credits  \\\n",
       "count                     500.000000  488.000000               500.0   \n",
       "mean                        2.360000   35.637295                 1.0   \n",
       "std                         1.064268   11.501522                 0.0   \n",
       "min                         1.000000   19.000000                 1.0   \n",
       "25%                         1.000000   27.000000                 1.0   \n",
       "50%                         3.000000   33.000000                 1.0   \n",
       "75%                         3.000000   42.000000                 1.0   \n",
       "max                         4.000000   75.000000                 1.0   \n",
       "\n",
       "       Type-of-apartment  No-of-Credits-at-this-Bank  Occupation  \\\n",
       "count         500.000000                  500.000000       500.0   \n",
       "mean            1.928000                    0.360000         1.0   \n",
       "std             0.539814                    0.480481         0.0   \n",
       "min             1.000000                    0.000000         1.0   \n",
       "25%             2.000000                    0.000000         1.0   \n",
       "50%             2.000000                    0.000000         1.0   \n",
       "75%             2.000000                    1.000000         1.0   \n",
       "max             3.000000                    1.000000         1.0   \n",
       "\n",
       "       No-of-dependents   Telephone  Foreign-Worker  \n",
       "count         500.00000  500.000000      500.000000  \n",
       "mean            1.14600    1.400000        1.038000  \n",
       "std             0.35346    0.490389        0.191388  \n",
       "min             1.00000    1.000000        1.000000  \n",
       "25%             1.00000    1.000000        1.000000  \n",
       "50%             1.00000    1.000000        1.000000  \n",
       "75%             1.00000    2.000000        1.000000  \n",
       "max             2.00000    2.000000        2.000000  "
      ]
     },
     "execution_count": 21,
     "metadata": {},
     "output_type": "execute_result"
    }
   ],
   "source": [
    "df.describe()"
   ]
  },
  {
   "cell_type": "markdown",
   "id": "portuguese-class",
   "metadata": {},
   "source": [
    "## Data cleanup\n",
    "\n",
    "**Checking null values**"
   ]
  },
  {
   "cell_type": "code",
   "execution_count": 22,
   "id": "honey-excerpt",
   "metadata": {
    "scrolled": true
   },
   "outputs": [
    {
     "data": {
      "text/plain": [
       "Credit-Application-Result              0\n",
       "Account-Balance                        0\n",
       "Duration-of-Credit-Month               0\n",
       "Payment-Status-of-Previous-Credit      0\n",
       "Purpose                                0\n",
       "Credit-Amount                          0\n",
       "Value-Savings-Stocks                   0\n",
       "Length-of-current-employment           0\n",
       "Instalment-per-cent                    0\n",
       "Guarantors                             0\n",
       "Duration-in-Current-address          344\n",
       "Most-valuable-available-asset          0\n",
       "Age-years                             12\n",
       "Concurrent-Credits                     0\n",
       "Type-of-apartment                      0\n",
       "No-of-Credits-at-this-Bank             0\n",
       "Occupation                             0\n",
       "No-of-dependents                       0\n",
       "Telephone                              0\n",
       "Foreign-Worker                         0\n",
       "dtype: int64"
      ]
     },
     "execution_count": 22,
     "metadata": {},
     "output_type": "execute_result"
    }
   ],
   "source": [
    "df.isnull().sum()"
   ]
  },
  {
   "cell_type": "code",
   "execution_count": 23,
   "id": "august-posting",
   "metadata": {},
   "outputs": [],
   "source": [
    "df = df.fillna(round(df.median()))"
   ]
  },
  {
   "cell_type": "markdown",
   "id": "primary-theater",
   "metadata": {},
   "source": [
    "### One Hot Encoding"
   ]
  },
  {
   "cell_type": "code",
   "execution_count": 24,
   "id": "renewable-roman",
   "metadata": {},
   "outputs": [],
   "source": [
    "# df = pd.get_dummies(df)"
   ]
  },
  {
   "cell_type": "code",
   "execution_count": 25,
   "id": "persistent-disclaimer",
   "metadata": {},
   "outputs": [
    {
     "name": "stdout",
     "output_type": "stream",
     "text": [
      "<class 'pandas.core.frame.DataFrame'>\n",
      "RangeIndex: 500 entries, 0 to 499\n",
      "Data columns (total 20 columns):\n",
      " #   Column                             Non-Null Count  Dtype  \n",
      "---  ------                             --------------  -----  \n",
      " 0   Credit-Application-Result          500 non-null    int64  \n",
      " 1   Account-Balance                    500 non-null    int64  \n",
      " 2   Duration-of-Credit-Month           500 non-null    int64  \n",
      " 3   Payment-Status-of-Previous-Credit  500 non-null    int64  \n",
      " 4   Purpose                            500 non-null    int64  \n",
      " 5   Credit-Amount                      500 non-null    int64  \n",
      " 6   Value-Savings-Stocks               500 non-null    int64  \n",
      " 7   Length-of-current-employment       500 non-null    int64  \n",
      " 8   Instalment-per-cent                500 non-null    int64  \n",
      " 9   Guarantors                         500 non-null    int64  \n",
      " 10  Duration-in-Current-address        500 non-null    float64\n",
      " 11  Most-valuable-available-asset      500 non-null    int64  \n",
      " 12  Age-years                          500 non-null    float64\n",
      " 13  Concurrent-Credits                 500 non-null    int64  \n",
      " 14  Type-of-apartment                  500 non-null    int64  \n",
      " 15  No-of-Credits-at-this-Bank         500 non-null    int64  \n",
      " 16  Occupation                         500 non-null    int64  \n",
      " 17  No-of-dependents                   500 non-null    int64  \n",
      " 18  Telephone                          500 non-null    int64  \n",
      " 19  Foreign-Worker                     500 non-null    int64  \n",
      "dtypes: float64(2), int64(18)\n",
      "memory usage: 78.2 KB\n"
     ]
    }
   ],
   "source": [
    "df.info()"
   ]
  },
  {
   "cell_type": "markdown",
   "id": "acting-calvin",
   "metadata": {},
   "source": [
    "### Features Selection"
   ]
  },
  {
   "cell_type": "code",
   "execution_count": 26,
   "id": "unavailable-hobby",
   "metadata": {},
   "outputs": [
    {
     "data": {
      "image/png": "[encoded data removed]",
      "text/plain": [
       "<Figure size 864x864 with 2 Axes>"
      ]
     },
     "metadata": {
      "needs_background": "light"
     },
     "output_type": "display_data"
    }
   ],
   "source": [
    "plt.figure(figsize=(12,12)) \n",
    "sns.heatmap(df.corr(),annot=True,cmap='cubehelix_r')\n",
    "plt.show()"
   ]
  },
  {
   "cell_type": "code",
   "execution_count": 27,
   "id": "resistant-livestock",
   "metadata": {},
   "outputs": [],
   "source": [
    "corr = df.corr()\n",
    "#Correlation with output variable\n",
    "cor_target = abs(corr[\"Credit-Application-Result\"])\n",
    "#Selecting highly correlated features\n",
    "relevant_features = cor_target[cor_target>=0.09]\n",
    "df_corr = pd.DataFrame(relevant_features)"
   ]
  },
  {
   "cell_type": "code",
   "execution_count": 28,
   "id": "variable-fifth",
   "metadata": {},
   "outputs": [
    {
     "data": {
      "text/html": [
       "<div>\n",
       "<style scoped>\n",
       "    .dataframe tbody tr th:only-of-type {\n",
       "        vertical-align: middle;\n",
       "    }\n",
       "\n",
       "    .dataframe tbody tr th {\n",
       "        vertical-align: top;\n",
       "    }\n",
       "\n",
       "    .dataframe thead th {\n",
       "        text-align: right;\n",
       "    }\n",
       "</style>\n",
       "<table border=\"1\" class=\"dataframe\">\n",
       "  <thead>\n",
       "    <tr style=\"text-align: right;\">\n",
       "      <th></th>\n",
       "      <th>features</th>\n",
       "      <th>Corr</th>\n",
       "    </tr>\n",
       "  </thead>\n",
       "  <tbody>\n",
       "    <tr>\n",
       "      <th>0</th>\n",
       "      <td>Credit-Application-Result</td>\n",
       "      <td>1.000000</td>\n",
       "    </tr>\n",
       "    <tr>\n",
       "      <th>1</th>\n",
       "      <td>Account-Balance</td>\n",
       "      <td>0.316080</td>\n",
       "    </tr>\n",
       "    <tr>\n",
       "      <th>2</th>\n",
       "      <td>Duration-of-Credit-Month</td>\n",
       "      <td>0.202504</td>\n",
       "    </tr>\n",
       "    <tr>\n",
       "      <th>5</th>\n",
       "      <td>Credit-Amount</td>\n",
       "      <td>0.201946</td>\n",
       "    </tr>\n",
       "    <tr>\n",
       "      <th>7</th>\n",
       "      <td>Most-valuable-available-asset</td>\n",
       "      <td>0.141332</td>\n",
       "    </tr>\n",
       "    <tr>\n",
       "      <th>6</th>\n",
       "      <td>Value-Savings-Stocks</td>\n",
       "      <td>0.133424</td>\n",
       "    </tr>\n",
       "    <tr>\n",
       "      <th>3</th>\n",
       "      <td>Payment-Status-of-Previous-Credit</td>\n",
       "      <td>0.096541</td>\n",
       "    </tr>\n",
       "    <tr>\n",
       "      <th>4</th>\n",
       "      <td>Purpose</td>\n",
       "      <td>0.090912</td>\n",
       "    </tr>\n",
       "  </tbody>\n",
       "</table>\n",
       "</div>"
      ],
      "text/plain": [
       "                            features      Corr\n",
       "0          Credit-Application-Result  1.000000\n",
       "1                    Account-Balance  0.316080\n",
       "2           Duration-of-Credit-Month  0.202504\n",
       "5                      Credit-Amount  0.201946\n",
       "7      Most-valuable-available-asset  0.141332\n",
       "6               Value-Savings-Stocks  0.133424\n",
       "3  Payment-Status-of-Previous-Credit  0.096541\n",
       "4                            Purpose  0.090912"
      ]
     },
     "execution_count": 28,
     "metadata": {},
     "output_type": "execute_result"
    }
   ],
   "source": [
    "df_corr = df_corr.reset_index()\n",
    "df_corr = df_corr.rename(columns = {'Credit-Application-Result' : 'Corr', 'index': 'features'})\n",
    "df_corr = df_corr.sort_values(['Corr'], ascending=False)\n",
    "df_corr"
   ]
  },
  {
   "cell_type": "code",
   "execution_count": 29,
   "id": "silent-incident",
   "metadata": {},
   "outputs": [
    {
     "name": "stdout",
     "output_type": "stream",
     "text": [
      "(500, 19)\n",
      "(500,)\n"
     ]
    }
   ],
   "source": [
    "X = df.drop(columns=['Credit-Application-Result'])\n",
    "y = df['Credit-Application-Result']\n",
    "\n",
    "print(X.shape)\n",
    "print(y.shape)"
   ]
  },
  {
   "cell_type": "code",
   "execution_count": 30,
   "id": "functional-amazon",
   "metadata": {},
   "outputs": [],
   "source": [
    "X = X.dropna(axis=1, how='any')"
   ]
  },
  {
   "cell_type": "markdown",
   "id": "purple-sentence",
   "metadata": {},
   "source": [
    "#### Extra Trees Classifier"
   ]
  },
  {
   "cell_type": "code",
   "execution_count": 31,
   "id": "twenty-question",
   "metadata": {
    "scrolled": true
   },
   "outputs": [],
   "source": [
    "model = ExtraTreesClassifier()\n",
    "model.fit(X, y)\n",
    "\n",
    "df_ext=pd.DataFrame(model.feature_importances_,X.columns, columns=[\"extratrees\"])\n",
    "df_ext = df_ext.sort_values(['extratrees'], ascending=False)"
   ]
  },
  {
   "cell_type": "code",
   "execution_count": 32,
   "id": "offshore-bridges",
   "metadata": {},
   "outputs": [],
   "source": [
    "df_ext =  df_ext[df_ext > 0.05]"
   ]
  },
  {
   "cell_type": "code",
   "execution_count": 33,
   "id": "essential-provision",
   "metadata": {},
   "outputs": [],
   "source": [
    "df_ext = df_ext.dropna(how='all')"
   ]
  },
  {
   "cell_type": "code",
   "execution_count": 34,
   "id": "removable-lawrence",
   "metadata": {},
   "outputs": [
    {
     "data": {
      "text/html": [
       "<div>\n",
       "<style scoped>\n",
       "    .dataframe tbody tr th:only-of-type {\n",
       "        vertical-align: middle;\n",
       "    }\n",
       "\n",
       "    .dataframe tbody tr th {\n",
       "        vertical-align: top;\n",
       "    }\n",
       "\n",
       "    .dataframe thead th {\n",
       "        text-align: right;\n",
       "    }\n",
       "</style>\n",
       "<table border=\"1\" class=\"dataframe\">\n",
       "  <thead>\n",
       "    <tr style=\"text-align: right;\">\n",
       "      <th></th>\n",
       "      <th>features</th>\n",
       "      <th>EXT</th>\n",
       "    </tr>\n",
       "  </thead>\n",
       "  <tbody>\n",
       "    <tr>\n",
       "      <th>0</th>\n",
       "      <td>Credit-Amount</td>\n",
       "      <td>0.122306</td>\n",
       "    </tr>\n",
       "    <tr>\n",
       "      <th>1</th>\n",
       "      <td>Duration-of-Credit-Month</td>\n",
       "      <td>0.110298</td>\n",
       "    </tr>\n",
       "    <tr>\n",
       "      <th>2</th>\n",
       "      <td>Age-years</td>\n",
       "      <td>0.095708</td>\n",
       "    </tr>\n",
       "    <tr>\n",
       "      <th>3</th>\n",
       "      <td>Account-Balance</td>\n",
       "      <td>0.090700</td>\n",
       "    </tr>\n",
       "    <tr>\n",
       "      <th>4</th>\n",
       "      <td>Payment-Status-of-Previous-Credit</td>\n",
       "      <td>0.077645</td>\n",
       "    </tr>\n",
       "    <tr>\n",
       "      <th>5</th>\n",
       "      <td>Instalment-per-cent</td>\n",
       "      <td>0.066995</td>\n",
       "    </tr>\n",
       "    <tr>\n",
       "      <th>6</th>\n",
       "      <td>Most-valuable-available-asset</td>\n",
       "      <td>0.064022</td>\n",
       "    </tr>\n",
       "    <tr>\n",
       "      <th>7</th>\n",
       "      <td>Value-Savings-Stocks</td>\n",
       "      <td>0.057788</td>\n",
       "    </tr>\n",
       "  </tbody>\n",
       "</table>\n",
       "</div>"
      ],
      "text/plain": [
       "                            features       EXT\n",
       "0                      Credit-Amount  0.122306\n",
       "1           Duration-of-Credit-Month  0.110298\n",
       "2                          Age-years  0.095708\n",
       "3                    Account-Balance  0.090700\n",
       "4  Payment-Status-of-Previous-Credit  0.077645\n",
       "5                Instalment-per-cent  0.066995\n",
       "6      Most-valuable-available-asset  0.064022\n",
       "7               Value-Savings-Stocks  0.057788"
      ]
     },
     "execution_count": 34,
     "metadata": {},
     "output_type": "execute_result"
    }
   ],
   "source": [
    "df_ext = df_ext.reset_index()\n",
    "df_ext = df_ext.rename(columns = {'index': 'features', 'extratrees' : 'EXT'})\n",
    "df_ext"
   ]
  },
  {
   "cell_type": "code",
   "execution_count": 35,
   "id": "classified-harvey",
   "metadata": {},
   "outputs": [
    {
     "data": {
      "text/html": [
       "<div>\n",
       "<style scoped>\n",
       "    .dataframe tbody tr th:only-of-type {\n",
       "        vertical-align: middle;\n",
       "    }\n",
       "\n",
       "    .dataframe tbody tr th {\n",
       "        vertical-align: top;\n",
       "    }\n",
       "\n",
       "    .dataframe thead th {\n",
       "        text-align: right;\n",
       "    }\n",
       "</style>\n",
       "<table border=\"1\" class=\"dataframe\">\n",
       "  <thead>\n",
       "    <tr style=\"text-align: right;\">\n",
       "      <th></th>\n",
       "      <th>features</th>\n",
       "      <th>Corr</th>\n",
       "      <th>EXT</th>\n",
       "    </tr>\n",
       "  </thead>\n",
       "  <tbody>\n",
       "    <tr>\n",
       "      <th>1</th>\n",
       "      <td>Account-Balance</td>\n",
       "      <td>0.316080</td>\n",
       "      <td>0.090700</td>\n",
       "    </tr>\n",
       "    <tr>\n",
       "      <th>2</th>\n",
       "      <td>Duration-of-Credit-Month</td>\n",
       "      <td>0.202504</td>\n",
       "      <td>0.110298</td>\n",
       "    </tr>\n",
       "    <tr>\n",
       "      <th>3</th>\n",
       "      <td>Credit-Amount</td>\n",
       "      <td>0.201946</td>\n",
       "      <td>0.122306</td>\n",
       "    </tr>\n",
       "    <tr>\n",
       "      <th>4</th>\n",
       "      <td>Most-valuable-available-asset</td>\n",
       "      <td>0.141332</td>\n",
       "      <td>0.064022</td>\n",
       "    </tr>\n",
       "    <tr>\n",
       "      <th>5</th>\n",
       "      <td>Value-Savings-Stocks</td>\n",
       "      <td>0.133424</td>\n",
       "      <td>0.057788</td>\n",
       "    </tr>\n",
       "    <tr>\n",
       "      <th>6</th>\n",
       "      <td>Payment-Status-of-Previous-Credit</td>\n",
       "      <td>0.096541</td>\n",
       "      <td>0.077645</td>\n",
       "    </tr>\n",
       "  </tbody>\n",
       "</table>\n",
       "</div>"
      ],
      "text/plain": [
       "                            features      Corr       EXT\n",
       "1                    Account-Balance  0.316080  0.090700\n",
       "2           Duration-of-Credit-Month  0.202504  0.110298\n",
       "3                      Credit-Amount  0.201946  0.122306\n",
       "4      Most-valuable-available-asset  0.141332  0.064022\n",
       "5               Value-Savings-Stocks  0.133424  0.057788\n",
       "6  Payment-Status-of-Previous-Credit  0.096541  0.077645"
      ]
     },
     "execution_count": 35,
     "metadata": {},
     "output_type": "execute_result"
    }
   ],
   "source": [
    "df_features = reduce(lambda x,y: pd.merge(x,y, on='features', how='outer'), [df_corr, df_ext])\n",
    "df_features = df_features.dropna()\n",
    "df_features"
   ]
  },
  {
   "cell_type": "code",
   "execution_count": 36,
   "id": "indonesian-grave",
   "metadata": {},
   "outputs": [
    {
     "data": {
      "text/plain": [
       "['Account-Balance',\n",
       " 'Duration-of-Credit-Month',\n",
       " 'Credit-Amount',\n",
       " 'Most-valuable-available-asset',\n",
       " 'Value-Savings-Stocks',\n",
       " 'Payment-Status-of-Previous-Credit',\n",
       " 'Credit-Application-Result']"
      ]
     },
     "execution_count": 36,
     "metadata": {},
     "output_type": "execute_result"
    }
   ],
   "source": [
    "fs_list = df_features.iloc[:,0].tolist()\n",
    "b = [\"Credit-Application-Result\"]\n",
    "fs_list += b \n",
    "fs_list"
   ]
  },
  {
   "cell_type": "code",
   "execution_count": 37,
   "id": "affiliated-pollution",
   "metadata": {},
   "outputs": [
    {
     "data": {
      "text/html": [
       "<div>\n",
       "<style scoped>\n",
       "    .dataframe tbody tr th:only-of-type {\n",
       "        vertical-align: middle;\n",
       "    }\n",
       "\n",
       "    .dataframe tbody tr th {\n",
       "        vertical-align: top;\n",
       "    }\n",
       "\n",
       "    .dataframe thead th {\n",
       "        text-align: right;\n",
       "    }\n",
       "</style>\n",
       "<table border=\"1\" class=\"dataframe\">\n",
       "  <thead>\n",
       "    <tr style=\"text-align: right;\">\n",
       "      <th></th>\n",
       "      <th>Credit-Application-Result</th>\n",
       "      <th>Account-Balance</th>\n",
       "      <th>Duration-of-Credit-Month</th>\n",
       "      <th>Payment-Status-of-Previous-Credit</th>\n",
       "      <th>Credit-Amount</th>\n",
       "      <th>Value-Savings-Stocks</th>\n",
       "      <th>Most-valuable-available-asset</th>\n",
       "    </tr>\n",
       "  </thead>\n",
       "  <tbody>\n",
       "    <tr>\n",
       "      <th>0</th>\n",
       "      <td>1</td>\n",
       "      <td>1</td>\n",
       "      <td>4</td>\n",
       "      <td>2</td>\n",
       "      <td>1494</td>\n",
       "      <td>1</td>\n",
       "      <td>1</td>\n",
       "    </tr>\n",
       "    <tr>\n",
       "      <th>1</th>\n",
       "      <td>1</td>\n",
       "      <td>1</td>\n",
       "      <td>4</td>\n",
       "      <td>2</td>\n",
       "      <td>1494</td>\n",
       "      <td>1</td>\n",
       "      <td>1</td>\n",
       "    </tr>\n",
       "    <tr>\n",
       "      <th>2</th>\n",
       "      <td>1</td>\n",
       "      <td>1</td>\n",
       "      <td>4</td>\n",
       "      <td>1</td>\n",
       "      <td>1544</td>\n",
       "      <td>0</td>\n",
       "      <td>1</td>\n",
       "    </tr>\n",
       "    <tr>\n",
       "      <th>3</th>\n",
       "      <td>1</td>\n",
       "      <td>1</td>\n",
       "      <td>4</td>\n",
       "      <td>1</td>\n",
       "      <td>3380</td>\n",
       "      <td>0</td>\n",
       "      <td>1</td>\n",
       "    </tr>\n",
       "    <tr>\n",
       "      <th>4</th>\n",
       "      <td>1</td>\n",
       "      <td>0</td>\n",
       "      <td>6</td>\n",
       "      <td>2</td>\n",
       "      <td>343</td>\n",
       "      <td>0</td>\n",
       "      <td>1</td>\n",
       "    </tr>\n",
       "    <tr>\n",
       "      <th>...</th>\n",
       "      <td>...</td>\n",
       "      <td>...</td>\n",
       "      <td>...</td>\n",
       "      <td>...</td>\n",
       "      <td>...</td>\n",
       "      <td>...</td>\n",
       "      <td>...</td>\n",
       "    </tr>\n",
       "    <tr>\n",
       "      <th>495</th>\n",
       "      <td>1</td>\n",
       "      <td>0</td>\n",
       "      <td>60</td>\n",
       "      <td>1</td>\n",
       "      <td>7418</td>\n",
       "      <td>1</td>\n",
       "      <td>1</td>\n",
       "    </tr>\n",
       "    <tr>\n",
       "      <th>496</th>\n",
       "      <td>1</td>\n",
       "      <td>0</td>\n",
       "      <td>60</td>\n",
       "      <td>1</td>\n",
       "      <td>7418</td>\n",
       "      <td>1</td>\n",
       "      <td>1</td>\n",
       "    </tr>\n",
       "    <tr>\n",
       "      <th>497</th>\n",
       "      <td>1</td>\n",
       "      <td>0</td>\n",
       "      <td>60</td>\n",
       "      <td>1</td>\n",
       "      <td>9157</td>\n",
       "      <td>1</td>\n",
       "      <td>4</td>\n",
       "    </tr>\n",
       "    <tr>\n",
       "      <th>498</th>\n",
       "      <td>1</td>\n",
       "      <td>1</td>\n",
       "      <td>60</td>\n",
       "      <td>1</td>\n",
       "      <td>13756</td>\n",
       "      <td>1</td>\n",
       "      <td>4</td>\n",
       "    </tr>\n",
       "    <tr>\n",
       "      <th>499</th>\n",
       "      <td>0</td>\n",
       "      <td>0</td>\n",
       "      <td>60</td>\n",
       "      <td>2</td>\n",
       "      <td>14027</td>\n",
       "      <td>0</td>\n",
       "      <td>4</td>\n",
       "    </tr>\n",
       "  </tbody>\n",
       "</table>\n",
       "<p>500 rows × 7 columns</p>\n",
       "</div>"
      ],
      "text/plain": [
       "     Credit-Application-Result  Account-Balance  Duration-of-Credit-Month  \\\n",
       "0                            1                1                         4   \n",
       "1                            1                1                         4   \n",
       "2                            1                1                         4   \n",
       "3                            1                1                         4   \n",
       "4                            1                0                         6   \n",
       "..                         ...              ...                       ...   \n",
       "495                          1                0                        60   \n",
       "496                          1                0                        60   \n",
       "497                          1                0                        60   \n",
       "498                          1                1                        60   \n",
       "499                          0                0                        60   \n",
       "\n",
       "     Payment-Status-of-Previous-Credit  Credit-Amount  Value-Savings-Stocks  \\\n",
       "0                                    2           1494                     1   \n",
       "1                                    2           1494                     1   \n",
       "2                                    1           1544                     0   \n",
       "3                                    1           3380                     0   \n",
       "4                                    2            343                     0   \n",
       "..                                 ...            ...                   ...   \n",
       "495                                  1           7418                     1   \n",
       "496                                  1           7418                     1   \n",
       "497                                  1           9157                     1   \n",
       "498                                  1          13756                     1   \n",
       "499                                  2          14027                     0   \n",
       "\n",
       "     Most-valuable-available-asset  \n",
       "0                                1  \n",
       "1                                1  \n",
       "2                                1  \n",
       "3                                1  \n",
       "4                                1  \n",
       "..                             ...  \n",
       "495                              1  \n",
       "496                              1  \n",
       "497                              4  \n",
       "498                              4  \n",
       "499                              4  \n",
       "\n",
       "[500 rows x 7 columns]"
      ]
     },
     "execution_count": 37,
     "metadata": {},
     "output_type": "execute_result"
    }
   ],
   "source": [
    "df.drop(df.columns.difference(fs_list), 1, inplace=True)\n",
    "df"
   ]
  },
  {
   "cell_type": "code",
   "execution_count": 38,
   "id": "traditional-pressure",
   "metadata": {},
   "outputs": [
    {
     "name": "stdout",
     "output_type": "stream",
     "text": [
      "(500, 6)\n",
      "(500,)\n",
      "<class 'pandas.core.frame.DataFrame'>\n",
      "RangeIndex: 500 entries, 0 to 499\n",
      "Data columns (total 7 columns):\n",
      " #   Column                             Non-Null Count  Dtype\n",
      "---  ------                             --------------  -----\n",
      " 0   Credit-Application-Result          500 non-null    int64\n",
      " 1   Account-Balance                    500 non-null    int64\n",
      " 2   Duration-of-Credit-Month           500 non-null    int64\n",
      " 3   Payment-Status-of-Previous-Credit  500 non-null    int64\n",
      " 4   Credit-Amount                      500 non-null    int64\n",
      " 5   Value-Savings-Stocks               500 non-null    int64\n",
      " 6   Most-valuable-available-asset      500 non-null    int64\n",
      "dtypes: int64(7)\n",
      "memory usage: 27.5 KB\n",
      "None\n"
     ]
    }
   ],
   "source": [
    "X1 = df.drop(columns=['Credit-Application-Result'])\n",
    "y1 = df['Credit-Application-Result']\n",
    "\n",
    "print(X1.shape)\n",
    "print(y1.shape)\n",
    "\n",
    "print(df.info())\n"
   ]
  },
  {
   "cell_type": "code",
   "execution_count": 39,
   "id": "ultimate-geography",
   "metadata": {},
   "outputs": [],
   "source": [
    "X = np.array(X1)\n",
    "y = np.array(y1)"
   ]
  },
  {
   "cell_type": "markdown",
   "id": "comfortable-radio",
   "metadata": {},
   "source": [
    "**Check whether the data is balanced or not**"
   ]
  },
  {
   "cell_type": "code",
   "execution_count": 40,
   "id": "limiting-mauritius",
   "metadata": {},
   "outputs": [
    {
     "name": "stdout",
     "output_type": "stream",
     "text": [
      "0.39664804469273746\n",
      "positive:358\n",
      "negative:142\n"
     ]
    }
   ],
   "source": [
    "positive = df[df[\"Credit-Application-Result\"]== 1]\n",
    "negative = df[df[\"Credit-Application-Result\"]== 0]\n",
    "\n",
    "ratio = float(len(negative) / len(positive))\n",
    "print(ratio)\n",
    "\n",
    "\n",
    "print(\"positive:{}\".format(len(positive)))\n",
    "print(\"negative:{}\".format(len(negative)))"
   ]
  },
  {
   "cell_type": "code",
   "execution_count": 41,
   "id": "american-rubber",
   "metadata": {},
   "outputs": [],
   "source": [
    "random_state = 1\n",
    "X_train, X_val, y_train,y_val = train_test_split(X,y, test_size = 0.2, random_state=random_state)"
   ]
  },
  {
   "cell_type": "code",
   "execution_count": 42,
   "id": "valid-lindsay",
   "metadata": {},
   "outputs": [
    {
     "name": "stdout",
     "output_type": "stream",
     "text": [
      "                                 OLS Regression Results                                \n",
      "=======================================================================================\n",
      "Dep. Variable:                      y   R-squared (uncentered):                   0.716\n",
      "Model:                            OLS   Adj. R-squared (uncentered):              0.713\n",
      "Method:                 Least Squares   F-statistic:                              207.9\n",
      "Date:                Fri, 18 Jun 2021   Prob (F-statistic):                   1.10e-131\n",
      "Time:                        12:57:00   Log-Likelihood:                         -310.95\n",
      "No. Observations:                 500   AIC:                                      633.9\n",
      "Df Residuals:                     494   BIC:                                      659.2\n",
      "Df Model:                           6                                                  \n",
      "Covariance Type:            nonrobust                                                  \n",
      "==============================================================================\n",
      "                 coef    std err          t      P>|t|      [0.025      0.975]\n",
      "------------------------------------------------------------------------------\n",
      "x1             0.3365      0.040      8.370      0.000       0.258       0.416\n",
      "x2             0.0022      0.002      1.125      0.261      -0.002       0.006\n",
      "x3             0.2325      0.024      9.638      0.000       0.185       0.280\n",
      "x4         -1.322e-05   8.97e-06     -1.473      0.141   -3.09e-05    4.41e-06\n",
      "x5             0.1043      0.031      3.403      0.001       0.044       0.164\n",
      "x6             0.0502      0.018      2.792      0.005       0.015       0.085\n",
      "==============================================================================\n",
      "Omnibus:                       36.072   Durbin-Watson:                   1.752\n",
      "Prob(Omnibus):                  0.000   Jarque-Bera (JB):               36.303\n",
      "Skew:                          -0.612   Prob(JB):                     1.31e-08\n",
      "Kurtosis:                       2.503   Cond. No.                     8.72e+03\n",
      "==============================================================================\n",
      "\n",
      "Notes:\n",
      "[1] R² is computed without centering (uncentered) since the model does not contain a constant.\n",
      "[2] Standard Errors assume that the covariance matrix of the errors is correctly specified.\n",
      "[3] The condition number is large, 8.72e+03. This might indicate that there are\n",
      "strong multicollinearity or other numerical problems.\n"
     ]
    }
   ],
   "source": [
    "model = sm.OLS(y, X)\n",
    "fit = model.fit()\n",
    "print(fit.summary())"
   ]
  },
  {
   "cell_type": "markdown",
   "id": "radio-hobby",
   "metadata": {},
   "source": [
    "### Provided test dataset"
   ]
  },
  {
   "cell_type": "code",
   "execution_count": 43,
   "id": "fitted-admission",
   "metadata": {
    "scrolled": true
   },
   "outputs": [
    {
     "data": {
      "text/html": [
       "<div>\n",
       "<style scoped>\n",
       "    .dataframe tbody tr th:only-of-type {\n",
       "        vertical-align: middle;\n",
       "    }\n",
       "\n",
       "    .dataframe tbody tr th {\n",
       "        vertical-align: top;\n",
       "    }\n",
       "\n",
       "    .dataframe thead th {\n",
       "        text-align: right;\n",
       "    }\n",
       "</style>\n",
       "<table border=\"1\" class=\"dataframe\">\n",
       "  <thead>\n",
       "    <tr style=\"text-align: right;\">\n",
       "      <th></th>\n",
       "      <th>Account-Balance</th>\n",
       "      <th>Duration-of-Credit-Month</th>\n",
       "      <th>Payment-Status-of-Previous-Credit</th>\n",
       "      <th>Purpose</th>\n",
       "      <th>Credit-Amount</th>\n",
       "      <th>Value-Savings-Stocks</th>\n",
       "      <th>Length-of-current-employment</th>\n",
       "      <th>Instalment-per-cent</th>\n",
       "      <th>Guarantors</th>\n",
       "      <th>Duration-in-Current-address</th>\n",
       "      <th>Most-valuable-available-asset</th>\n",
       "      <th>Age-years</th>\n",
       "      <th>Concurrent-Credits</th>\n",
       "      <th>Type-of-apartment</th>\n",
       "      <th>No-of-Credits-at-this-Bank</th>\n",
       "      <th>Occupation</th>\n",
       "      <th>No-of-dependents</th>\n",
       "      <th>Telephone</th>\n",
       "      <th>Foreign-Worker</th>\n",
       "    </tr>\n",
       "  </thead>\n",
       "  <tbody>\n",
       "    <tr>\n",
       "      <th>0</th>\n",
       "      <td>No Account</td>\n",
       "      <td>9</td>\n",
       "      <td>No Problems (in this bank)</td>\n",
       "      <td>Home Related</td>\n",
       "      <td>2799</td>\n",
       "      <td>None</td>\n",
       "      <td>&lt; 1yr</td>\n",
       "      <td>2</td>\n",
       "      <td>None</td>\n",
       "      <td>2</td>\n",
       "      <td>1</td>\n",
       "      <td>36</td>\n",
       "      <td>Other Banks/Depts</td>\n",
       "      <td>1</td>\n",
       "      <td>More than 1</td>\n",
       "      <td>1</td>\n",
       "      <td>2</td>\n",
       "      <td>1</td>\n",
       "      <td>1</td>\n",
       "    </tr>\n",
       "    <tr>\n",
       "      <th>1</th>\n",
       "      <td>No Account</td>\n",
       "      <td>12</td>\n",
       "      <td>No Problems (in this bank)</td>\n",
       "      <td>Home Related</td>\n",
       "      <td>2122</td>\n",
       "      <td>None</td>\n",
       "      <td>&lt; 1yr</td>\n",
       "      <td>3</td>\n",
       "      <td>None</td>\n",
       "      <td>2</td>\n",
       "      <td>1</td>\n",
       "      <td>39</td>\n",
       "      <td>Other Banks/Depts</td>\n",
       "      <td>1</td>\n",
       "      <td>More than 1</td>\n",
       "      <td>1</td>\n",
       "      <td>2</td>\n",
       "      <td>1</td>\n",
       "      <td>2</td>\n",
       "    </tr>\n",
       "    <tr>\n",
       "      <th>2</th>\n",
       "      <td>No Account</td>\n",
       "      <td>24</td>\n",
       "      <td>Paid Up</td>\n",
       "      <td>Home Related</td>\n",
       "      <td>3758</td>\n",
       "      <td>£100-£1000</td>\n",
       "      <td>&lt; 1yr</td>\n",
       "      <td>1</td>\n",
       "      <td>None</td>\n",
       "      <td>4</td>\n",
       "      <td>4</td>\n",
       "      <td>23</td>\n",
       "      <td>Other Banks/Depts</td>\n",
       "      <td>1</td>\n",
       "      <td>1</td>\n",
       "      <td>1</td>\n",
       "      <td>1</td>\n",
       "      <td>1</td>\n",
       "      <td>1</td>\n",
       "    </tr>\n",
       "    <tr>\n",
       "      <th>3</th>\n",
       "      <td>No Account</td>\n",
       "      <td>11</td>\n",
       "      <td>No Problems (in this bank)</td>\n",
       "      <td>Home Related</td>\n",
       "      <td>3905</td>\n",
       "      <td>None</td>\n",
       "      <td>&lt; 1yr</td>\n",
       "      <td>2</td>\n",
       "      <td>None</td>\n",
       "      <td>2</td>\n",
       "      <td>1</td>\n",
       "      <td>36</td>\n",
       "      <td>Other Banks/Depts</td>\n",
       "      <td>1</td>\n",
       "      <td>More than 1</td>\n",
       "      <td>1</td>\n",
       "      <td>2</td>\n",
       "      <td>1</td>\n",
       "      <td>1</td>\n",
       "    </tr>\n",
       "    <tr>\n",
       "      <th>4</th>\n",
       "      <td>No Account</td>\n",
       "      <td>6</td>\n",
       "      <td>No Problems (in this bank)</td>\n",
       "      <td>Home Related</td>\n",
       "      <td>1957</td>\n",
       "      <td>None</td>\n",
       "      <td>1-4 yrs</td>\n",
       "      <td>1</td>\n",
       "      <td>None</td>\n",
       "      <td>4</td>\n",
       "      <td>3</td>\n",
       "      <td>31</td>\n",
       "      <td>Other Banks/Depts</td>\n",
       "      <td>2</td>\n",
       "      <td>1</td>\n",
       "      <td>1</td>\n",
       "      <td>1</td>\n",
       "      <td>1</td>\n",
       "      <td>1</td>\n",
       "    </tr>\n",
       "    <tr>\n",
       "      <th>...</th>\n",
       "      <td>...</td>\n",
       "      <td>...</td>\n",
       "      <td>...</td>\n",
       "      <td>...</td>\n",
       "      <td>...</td>\n",
       "      <td>...</td>\n",
       "      <td>...</td>\n",
       "      <td>...</td>\n",
       "      <td>...</td>\n",
       "      <td>...</td>\n",
       "      <td>...</td>\n",
       "      <td>...</td>\n",
       "      <td>...</td>\n",
       "      <td>...</td>\n",
       "      <td>...</td>\n",
       "      <td>...</td>\n",
       "      <td>...</td>\n",
       "      <td>...</td>\n",
       "      <td>...</td>\n",
       "    </tr>\n",
       "    <tr>\n",
       "      <th>495</th>\n",
       "      <td>No Account</td>\n",
       "      <td>18</td>\n",
       "      <td>No Problems (in this bank)</td>\n",
       "      <td>Home Related</td>\n",
       "      <td>3966</td>\n",
       "      <td>None</td>\n",
       "      <td>4-7 yrs</td>\n",
       "      <td>1</td>\n",
       "      <td>None</td>\n",
       "      <td>4</td>\n",
       "      <td>1</td>\n",
       "      <td>33</td>\n",
       "      <td>Other Banks/Depts</td>\n",
       "      <td>1</td>\n",
       "      <td>More than 1</td>\n",
       "      <td>1</td>\n",
       "      <td>1</td>\n",
       "      <td>2</td>\n",
       "      <td>1</td>\n",
       "    </tr>\n",
       "    <tr>\n",
       "      <th>496</th>\n",
       "      <td>No Account</td>\n",
       "      <td>12</td>\n",
       "      <td>Some Problems</td>\n",
       "      <td>Home Related</td>\n",
       "      <td>6199</td>\n",
       "      <td>None</td>\n",
       "      <td>&lt; 1yr</td>\n",
       "      <td>4</td>\n",
       "      <td>None</td>\n",
       "      <td>2</td>\n",
       "      <td>2</td>\n",
       "      <td>28</td>\n",
       "      <td>Other Banks/Depts</td>\n",
       "      <td>1</td>\n",
       "      <td>More than 1</td>\n",
       "      <td>1</td>\n",
       "      <td>1</td>\n",
       "      <td>2</td>\n",
       "      <td>1</td>\n",
       "    </tr>\n",
       "    <tr>\n",
       "      <th>497</th>\n",
       "      <td>No Account</td>\n",
       "      <td>24</td>\n",
       "      <td>Paid Up</td>\n",
       "      <td>Home Related</td>\n",
       "      <td>1987</td>\n",
       "      <td>None</td>\n",
       "      <td>&lt; 1yr</td>\n",
       "      <td>2</td>\n",
       "      <td>None</td>\n",
       "      <td>4</td>\n",
       "      <td>1</td>\n",
       "      <td>21</td>\n",
       "      <td>Other Banks/Depts</td>\n",
       "      <td>1</td>\n",
       "      <td>1</td>\n",
       "      <td>1</td>\n",
       "      <td>2</td>\n",
       "      <td>1</td>\n",
       "      <td>1</td>\n",
       "    </tr>\n",
       "    <tr>\n",
       "      <th>498</th>\n",
       "      <td>No Account</td>\n",
       "      <td>24</td>\n",
       "      <td>Paid Up</td>\n",
       "      <td>Home Related</td>\n",
       "      <td>2303</td>\n",
       "      <td>None</td>\n",
       "      <td>4-7 yrs</td>\n",
       "      <td>4</td>\n",
       "      <td>Yes</td>\n",
       "      <td>1</td>\n",
       "      <td>1</td>\n",
       "      <td>45</td>\n",
       "      <td>Other Banks/Depts</td>\n",
       "      <td>2</td>\n",
       "      <td>1</td>\n",
       "      <td>1</td>\n",
       "      <td>1</td>\n",
       "      <td>1</td>\n",
       "      <td>1</td>\n",
       "    </tr>\n",
       "    <tr>\n",
       "      <th>499</th>\n",
       "      <td>No Account</td>\n",
       "      <td>30</td>\n",
       "      <td>Paid Up</td>\n",
       "      <td>Used car</td>\n",
       "      <td>6350</td>\n",
       "      <td>£100-£1000</td>\n",
       "      <td>4-7 yrs</td>\n",
       "      <td>4</td>\n",
       "      <td>None</td>\n",
       "      <td>4</td>\n",
       "      <td>2</td>\n",
       "      <td>31</td>\n",
       "      <td>Other Banks/Depts</td>\n",
       "      <td>2</td>\n",
       "      <td>1</td>\n",
       "      <td>1</td>\n",
       "      <td>1</td>\n",
       "      <td>1</td>\n",
       "      <td>1</td>\n",
       "    </tr>\n",
       "  </tbody>\n",
       "</table>\n",
       "<p>500 rows × 19 columns</p>\n",
       "</div>"
      ],
      "text/plain": [
       "    Account-Balance  Duration-of-Credit-Month  \\\n",
       "0        No Account                         9   \n",
       "1        No Account                        12   \n",
       "2        No Account                        24   \n",
       "3        No Account                        11   \n",
       "4        No Account                         6   \n",
       "..              ...                       ...   \n",
       "495      No Account                        18   \n",
       "496      No Account                        12   \n",
       "497      No Account                        24   \n",
       "498      No Account                        24   \n",
       "499      No Account                        30   \n",
       "\n",
       "    Payment-Status-of-Previous-Credit       Purpose  Credit-Amount  \\\n",
       "0          No Problems (in this bank)  Home Related           2799   \n",
       "1          No Problems (in this bank)  Home Related           2122   \n",
       "2                             Paid Up  Home Related           3758   \n",
       "3          No Problems (in this bank)  Home Related           3905   \n",
       "4          No Problems (in this bank)  Home Related           1957   \n",
       "..                                ...           ...            ...   \n",
       "495        No Problems (in this bank)  Home Related           3966   \n",
       "496                     Some Problems  Home Related           6199   \n",
       "497                           Paid Up  Home Related           1987   \n",
       "498                           Paid Up  Home Related           2303   \n",
       "499                           Paid Up      Used car           6350   \n",
       "\n",
       "    Value-Savings-Stocks Length-of-current-employment  Instalment-per-cent  \\\n",
       "0                   None                        < 1yr                    2   \n",
       "1                   None                        < 1yr                    3   \n",
       "2             £100-£1000                        < 1yr                    1   \n",
       "3                   None                        < 1yr                    2   \n",
       "4                   None                      1-4 yrs                    1   \n",
       "..                   ...                          ...                  ...   \n",
       "495                 None                      4-7 yrs                    1   \n",
       "496                 None                        < 1yr                    4   \n",
       "497                 None                        < 1yr                    2   \n",
       "498                 None                      4-7 yrs                    4   \n",
       "499           £100-£1000                      4-7 yrs                    4   \n",
       "\n",
       "    Guarantors  Duration-in-Current-address  Most-valuable-available-asset  \\\n",
       "0         None                            2                              1   \n",
       "1         None                            2                              1   \n",
       "2         None                            4                              4   \n",
       "3         None                            2                              1   \n",
       "4         None                            4                              3   \n",
       "..         ...                          ...                            ...   \n",
       "495       None                            4                              1   \n",
       "496       None                            2                              2   \n",
       "497       None                            4                              1   \n",
       "498        Yes                            1                              1   \n",
       "499       None                            4                              2   \n",
       "\n",
       "     Age-years Concurrent-Credits  Type-of-apartment  \\\n",
       "0           36  Other Banks/Depts                  1   \n",
       "1           39  Other Banks/Depts                  1   \n",
       "2           23  Other Banks/Depts                  1   \n",
       "3           36  Other Banks/Depts                  1   \n",
       "4           31  Other Banks/Depts                  2   \n",
       "..         ...                ...                ...   \n",
       "495         33  Other Banks/Depts                  1   \n",
       "496         28  Other Banks/Depts                  1   \n",
       "497         21  Other Banks/Depts                  1   \n",
       "498         45  Other Banks/Depts                  2   \n",
       "499         31  Other Banks/Depts                  2   \n",
       "\n",
       "    No-of-Credits-at-this-Bank  Occupation  No-of-dependents  Telephone  \\\n",
       "0                  More than 1           1                 2          1   \n",
       "1                  More than 1           1                 2          1   \n",
       "2                            1           1                 1          1   \n",
       "3                  More than 1           1                 2          1   \n",
       "4                            1           1                 1          1   \n",
       "..                         ...         ...               ...        ...   \n",
       "495                More than 1           1                 1          2   \n",
       "496                More than 1           1                 1          2   \n",
       "497                          1           1                 2          1   \n",
       "498                          1           1                 1          1   \n",
       "499                          1           1                 1          1   \n",
       "\n",
       "     Foreign-Worker  \n",
       "0                 1  \n",
       "1                 2  \n",
       "2                 1  \n",
       "3                 1  \n",
       "4                 1  \n",
       "..              ...  \n",
       "495               1  \n",
       "496               1  \n",
       "497               1  \n",
       "498               1  \n",
       "499               1  \n",
       "\n",
       "[500 rows x 19 columns]"
      ]
     },
     "execution_count": 43,
     "metadata": {},
     "output_type": "execute_result"
    }
   ],
   "source": [
    "df_test = pd.read_csv(\"customers-to-score.csv\")\n",
    "df_test"
   ]
  },
  {
   "cell_type": "code",
   "execution_count": 44,
   "id": "norwegian-phrase",
   "metadata": {},
   "outputs": [
    {
     "data": {
      "text/plain": [
       "array(['No Account', 'Some Balance'], dtype=object)"
      ]
     },
     "execution_count": 44,
     "metadata": {},
     "output_type": "execute_result"
    }
   ],
   "source": [
    "df_test['Account-Balance'].unique()"
   ]
  },
  {
   "cell_type": "code",
   "execution_count": 45,
   "id": "olive-labor",
   "metadata": {},
   "outputs": [],
   "source": [
    "df_test['Account-Balance'].replace({'Some Balance': 1, 'No Account': 0}, inplace=True)"
   ]
  },
  {
   "cell_type": "code",
   "execution_count": 46,
   "id": "sensitive-photographer",
   "metadata": {},
   "outputs": [
    {
     "data": {
      "text/plain": [
       "array(['No Problems (in this bank)', 'Paid Up', 'Some Problems'],\n",
       "      dtype=object)"
      ]
     },
     "execution_count": 46,
     "metadata": {},
     "output_type": "execute_result"
    }
   ],
   "source": [
    "df_test['Payment-Status-of-Previous-Credit'].unique()"
   ]
  },
  {
   "cell_type": "code",
   "execution_count": 47,
   "id": "spanish-business",
   "metadata": {},
   "outputs": [],
   "source": [
    "df_test['Payment-Status-of-Previous-Credit'].replace({'Paid Up': 2, 'No Problems (in this bank)': 1, 'Some Problems': 0}, inplace=True)"
   ]
  },
  {
   "cell_type": "code",
   "execution_count": 48,
   "id": "shared-working",
   "metadata": {},
   "outputs": [
    {
     "data": {
      "text/plain": [
       "array(['Home Related', 'New car', 'Used car'], dtype=object)"
      ]
     },
     "execution_count": 48,
     "metadata": {},
     "output_type": "execute_result"
    }
   ],
   "source": [
    "df_test[\"Purpose\"].unique()"
   ]
  },
  {
   "cell_type": "code",
   "execution_count": 49,
   "id": "filled-murray",
   "metadata": {},
   "outputs": [],
   "source": [
    "df_test['Purpose'].replace({\n",
    "                    'New car': 3, \n",
    "                    'Used car': 2,\n",
    "                    'Home Related': 1,\n",
    "                    'Other': 0}, inplace=True)"
   ]
  },
  {
   "cell_type": "code",
   "execution_count": 50,
   "id": "published-girlfriend",
   "metadata": {
    "scrolled": true
   },
   "outputs": [
    {
     "data": {
      "text/plain": [
       "array(['None', '£100-£1000', '< £100'], dtype=object)"
      ]
     },
     "execution_count": 50,
     "metadata": {},
     "output_type": "execute_result"
    }
   ],
   "source": [
    "df_test['Value-Savings-Stocks'].unique()"
   ]
  },
  {
   "cell_type": "code",
   "execution_count": 51,
   "id": "fundamental-edward",
   "metadata": {},
   "outputs": [],
   "source": [
    "df_test['Value-Savings-Stocks'].replace({\n",
    "                    '< £100': 2, \n",
    "                    '£100-£1000': 1,\n",
    "                    'None': 0}, inplace=True)"
   ]
  },
  {
   "cell_type": "code",
   "execution_count": 52,
   "id": "suffering-compensation",
   "metadata": {},
   "outputs": [
    {
     "data": {
      "text/plain": [
       "array(['< 1yr', '1-4 yrs', '4-7 yrs'], dtype=object)"
      ]
     },
     "execution_count": 52,
     "metadata": {},
     "output_type": "execute_result"
    }
   ],
   "source": [
    "df_test['Length-of-current-employment'].unique()"
   ]
  },
  {
   "cell_type": "code",
   "execution_count": 53,
   "id": "legitimate-shanghai",
   "metadata": {},
   "outputs": [],
   "source": [
    "df_test['Length-of-current-employment'].replace({\n",
    "                    '4-7 yrs': 2, \n",
    "                    '1-4 yrs': 1,\n",
    "                    '< 1yr': 0}, inplace=True)"
   ]
  },
  {
   "cell_type": "code",
   "execution_count": 54,
   "id": "burning-chess",
   "metadata": {},
   "outputs": [],
   "source": [
    "df_test['Concurrent-Credits'].replace({'Other Banks/Depts': 1}, inplace=True)"
   ]
  },
  {
   "cell_type": "code",
   "execution_count": 55,
   "id": "hidden-burke",
   "metadata": {},
   "outputs": [],
   "source": [
    "df_test['No-of-Credits-at-this-Bank'].replace({'More than 1': 1, '1': 0}, inplace=True)"
   ]
  },
  {
   "cell_type": "code",
   "execution_count": 56,
   "id": "ready-jerusalem",
   "metadata": {},
   "outputs": [],
   "source": [
    "df_test['Guarantors'].replace({'Yes': 1, 'None': 0}, inplace=True)"
   ]
  },
  {
   "cell_type": "code",
   "execution_count": 57,
   "id": "circular-establishment",
   "metadata": {},
   "outputs": [
    {
     "name": "stdout",
     "output_type": "stream",
     "text": [
      "<class 'pandas.core.frame.DataFrame'>\n",
      "RangeIndex: 500 entries, 0 to 499\n",
      "Data columns (total 19 columns):\n",
      " #   Column                             Non-Null Count  Dtype\n",
      "---  ------                             --------------  -----\n",
      " 0   Account-Balance                    500 non-null    int64\n",
      " 1   Duration-of-Credit-Month           500 non-null    int64\n",
      " 2   Payment-Status-of-Previous-Credit  500 non-null    int64\n",
      " 3   Purpose                            500 non-null    int64\n",
      " 4   Credit-Amount                      500 non-null    int64\n",
      " 5   Value-Savings-Stocks               500 non-null    int64\n",
      " 6   Length-of-current-employment       500 non-null    int64\n",
      " 7   Instalment-per-cent                500 non-null    int64\n",
      " 8   Guarantors                         500 non-null    int64\n",
      " 9   Duration-in-Current-address        500 non-null    int64\n",
      " 10  Most-valuable-available-asset      500 non-null    int64\n",
      " 11  Age-years                          500 non-null    int64\n",
      " 12  Concurrent-Credits                 500 non-null    int64\n",
      " 13  Type-of-apartment                  500 non-null    int64\n",
      " 14  No-of-Credits-at-this-Bank         500 non-null    int64\n",
      " 15  Occupation                         500 non-null    int64\n",
      " 16  No-of-dependents                   500 non-null    int64\n",
      " 17  Telephone                          500 non-null    int64\n",
      " 18  Foreign-Worker                     500 non-null    int64\n",
      "dtypes: int64(19)\n",
      "memory usage: 74.3 KB\n"
     ]
    }
   ],
   "source": [
    "df_test.info()"
   ]
  },
  {
   "cell_type": "code",
   "execution_count": 58,
   "id": "threatened-purpose",
   "metadata": {},
   "outputs": [
    {
     "name": "stdout",
     "output_type": "stream",
     "text": [
      "<class 'pandas.core.frame.DataFrame'>\n",
      "RangeIndex: 500 entries, 0 to 499\n",
      "Data columns (total 6 columns):\n",
      " #   Column                             Non-Null Count  Dtype\n",
      "---  ------                             --------------  -----\n",
      " 0   Account-Balance                    500 non-null    int64\n",
      " 1   Duration-of-Credit-Month           500 non-null    int64\n",
      " 2   Payment-Status-of-Previous-Credit  500 non-null    int64\n",
      " 3   Credit-Amount                      500 non-null    int64\n",
      " 4   Value-Savings-Stocks               500 non-null    int64\n",
      " 5   Most-valuable-available-asset      500 non-null    int64\n",
      "dtypes: int64(6)\n",
      "memory usage: 23.6 KB\n"
     ]
    }
   ],
   "source": [
    "df_test.drop(df_test.columns.difference(fs_list), 1, inplace=True)\n",
    "df_test.info()"
   ]
  },
  {
   "cell_type": "code",
   "execution_count": 59,
   "id": "negative-watershed",
   "metadata": {},
   "outputs": [],
   "source": [
    "X_test = np.array(df_test)"
   ]
  },
  {
   "cell_type": "markdown",
   "id": "canadian-documentary",
   "metadata": {},
   "source": [
    "## Machine Learning Training\n",
    "\n",
    "### Logistic Regression\n"
   ]
  },
  {
   "cell_type": "code",
   "execution_count": 60,
   "id": "interracial-stick",
   "metadata": {},
   "outputs": [],
   "source": [
    "clf = LogisticRegression().fit(X_train, y_train)"
   ]
  },
  {
   "cell_type": "code",
   "execution_count": 61,
   "id": "legendary-theater",
   "metadata": {},
   "outputs": [],
   "source": [
    "y_val_pred = clf.predict(X_val)"
   ]
  },
  {
   "cell_type": "code",
   "execution_count": 62,
   "id": "referenced-sugar",
   "metadata": {},
   "outputs": [],
   "source": [
    "y_val_score = clf.decision_function(X_val)"
   ]
  },
  {
   "cell_type": "code",
   "execution_count": 63,
   "id": "unique-interim",
   "metadata": {},
   "outputs": [
    {
     "data": {
      "text/plain": [
       "<AxesSubplot:>"
      ]
     },
     "execution_count": 63,
     "metadata": {},
     "output_type": "execute_result"
    },
    {
     "data": {
      "image/png": "[encoded data removed]",
      "text/plain": [
       "<Figure size 432x288 with 2 Axes>"
      ]
     },
     "metadata": {
      "needs_background": "light"
     },
     "output_type": "display_data"
    }
   ],
   "source": [
    "cf = confusion_matrix(y_val, y_val_pred)\n",
    "sns.heatmap(cf, annot=True)"
   ]
  },
  {
   "cell_type": "code",
   "execution_count": 64,
   "id": "tender-contamination",
   "metadata": {
    "scrolled": true
   },
   "outputs": [
    {
     "name": "stdout",
     "output_type": "stream",
     "text": [
      "                  precision    recall  f1-score   support\n",
      "\n",
      "Non-Creditworthy       0.70      0.42      0.53        33\n",
      "    Creditworthy       0.76      0.91      0.83        67\n",
      "\n",
      "        accuracy                           0.75       100\n",
      "       macro avg       0.73      0.67      0.68       100\n",
      "    weighted avg       0.74      0.75      0.73       100\n",
      "\n"
     ]
    }
   ],
   "source": [
    "print(classification_report(y_val, y_val_pred, target_names=['Non-Creditworthy', 'Creditworthy']))"
   ]
  },
  {
   "cell_type": "code",
   "execution_count": 65,
   "id": "central-disabled",
   "metadata": {
    "scrolled": true
   },
   "outputs": [
    {
     "data": {
      "text/plain": [
       "<sklearn.metrics._plot.roc_curve.RocCurveDisplay at 0x28e3a4ef610>"
      ]
     },
     "execution_count": 65,
     "metadata": {},
     "output_type": "execute_result"
    },
    {
     "data": {
      "image/png": "[encoded data removed]",
      "text/plain": [
       "<Figure size 432x288 with 1 Axes>"
      ]
     },
     "metadata": {
      "needs_background": "light"
     },
     "output_type": "display_data"
    }
   ],
   "source": [
    "plot_roc_curve(clf, X_val, y_val)  "
   ]
  },
  {
   "cell_type": "code",
   "execution_count": 66,
   "id": "iraqi-private",
   "metadata": {},
   "outputs": [],
   "source": [
    "y_test_pred = clf.predict(X_test)\n",
    "y_test_score = clf.decision_function(X_test)"
   ]
  },
  {
   "cell_type": "code",
   "execution_count": 67,
   "id": "worthy-clear",
   "metadata": {},
   "outputs": [
    {
     "data": {
      "text/plain": [
       "<AxesSubplot:>"
      ]
     },
     "execution_count": 67,
     "metadata": {},
     "output_type": "execute_result"
    },
    {
     "data": {
      "image/png": "[encoded data removed]",
      "text/plain": [
       "<Figure size 432x288 with 2 Axes>"
      ]
     },
     "metadata": {
      "needs_background": "light"
     },
     "output_type": "display_data"
    }
   ],
   "source": [
    "cf = confusion_matrix(y, y_test_pred)\n",
    "sns.heatmap(cf, annot=True, fmt='d')"
   ]
  },
  {
   "cell_type": "code",
   "execution_count": 68,
   "id": "greater-return",
   "metadata": {},
   "outputs": [
    {
     "name": "stdout",
     "output_type": "stream",
     "text": [
      "                  precision    recall  f1-score   support\n",
      "\n",
      "Non-Creditworthy       0.41      0.17      0.24       142\n",
      "    Creditworthy       0.73      0.90      0.81       358\n",
      "\n",
      "        accuracy                           0.69       500\n",
      "       macro avg       0.57      0.54      0.52       500\n",
      "    weighted avg       0.64      0.69      0.65       500\n",
      "\n"
     ]
    }
   ],
   "source": [
    "print(classification_report(y, y_test_pred, target_names=['Non-Creditworthy', 'Creditworthy']))"
   ]
  },
  {
   "cell_type": "markdown",
   "id": "alternative-playing",
   "metadata": {},
   "source": [
    "### Decision Tree Classifier"
   ]
  },
  {
   "cell_type": "code",
   "execution_count": 69,
   "id": "immune-lafayette",
   "metadata": {},
   "outputs": [],
   "source": [
    "clf = DecisionTreeClassifier().fit(X_train, y_train)"
   ]
  },
  {
   "cell_type": "code",
   "execution_count": 70,
   "id": "imported-perception",
   "metadata": {},
   "outputs": [],
   "source": [
    "y_val_pred = clf.predict(X_val)\n",
    "y_val_score = clf.predict_proba(X_val)"
   ]
  },
  {
   "cell_type": "code",
   "execution_count": 71,
   "id": "golden-pastor",
   "metadata": {},
   "outputs": [
    {
     "data": {
      "text/plain": [
       "<AxesSubplot:>"
      ]
     },
     "execution_count": 71,
     "metadata": {},
     "output_type": "execute_result"
    },
    {
     "data": {
      "image/png": "[encoded data removed]",
      "text/plain": [
       "<Figure size 432x288 with 2 Axes>"
      ]
     },
     "metadata": {
      "needs_background": "light"
     },
     "output_type": "display_data"
    }
   ],
   "source": [
    "cf = confusion_matrix(y_val, y_val_pred)\n",
    "sns.heatmap(cf, annot=True, fmt='d')"
   ]
  },
  {
   "cell_type": "code",
   "execution_count": 72,
   "id": "effective-palestine",
   "metadata": {},
   "outputs": [
    {
     "name": "stdout",
     "output_type": "stream",
     "text": [
      "                  precision    recall  f1-score   support\n",
      "\n",
      "Non-Creditworthy       0.55      0.52      0.53        33\n",
      "    Creditworthy       0.77      0.79      0.78        67\n",
      "\n",
      "        accuracy                           0.70       100\n",
      "       macro avg       0.66      0.65      0.66       100\n",
      "    weighted avg       0.70      0.70      0.70       100\n",
      "\n"
     ]
    }
   ],
   "source": [
    "print(classification_report(y_val, y_val_pred, target_names=['Non-Creditworthy', 'Creditworthy']))"
   ]
  },
  {
   "cell_type": "code",
   "execution_count": 73,
   "id": "protected-stopping",
   "metadata": {
    "scrolled": true
   },
   "outputs": [
    {
     "data": {
      "text/plain": [
       "<sklearn.metrics._plot.roc_curve.RocCurveDisplay at 0x28e3a5b6880>"
      ]
     },
     "execution_count": 73,
     "metadata": {},
     "output_type": "execute_result"
    },
    {
     "data": {
      "image/png": "[encoded data removed]",
      "text/plain": [
       "<Figure size 432x288 with 1 Axes>"
      ]
     },
     "metadata": {
      "needs_background": "light"
     },
     "output_type": "display_data"
    }
   ],
   "source": [
    "plot_roc_curve(clf, X_val, y_val) "
   ]
  },
  {
   "cell_type": "code",
   "execution_count": 74,
   "id": "supported-hostel",
   "metadata": {},
   "outputs": [],
   "source": [
    "y_test_pred = clf.predict(X_test)\n",
    "y_test_score = clf.predict_proba(X_test)"
   ]
  },
  {
   "cell_type": "code",
   "execution_count": 75,
   "id": "consistent-reservation",
   "metadata": {},
   "outputs": [
    {
     "data": {
      "text/plain": [
       "<AxesSubplot:>"
      ]
     },
     "execution_count": 75,
     "metadata": {},
     "output_type": "execute_result"
    },
    {
     "data": {
      "image/png": "[encoded data removed]",
      "text/plain": [
       "<Figure size 432x288 with 2 Axes>"
      ]
     },
     "metadata": {
      "needs_background": "light"
     },
     "output_type": "display_data"
    }
   ],
   "source": [
    "cf = confusion_matrix(y, y_test_pred)\n",
    "sns.heatmap(cf, annot=True, fmt='d')"
   ]
  },
  {
   "cell_type": "code",
   "execution_count": 76,
   "id": "inappropriate-debate",
   "metadata": {},
   "outputs": [
    {
     "name": "stdout",
     "output_type": "stream",
     "text": [
      "                  precision    recall  f1-score   support\n",
      "\n",
      "Non-Creditworthy       0.30      0.27      0.28       142\n",
      "    Creditworthy       0.72      0.76      0.74       358\n",
      "\n",
      "        accuracy                           0.62       500\n",
      "       macro avg       0.51      0.51      0.51       500\n",
      "    weighted avg       0.60      0.62      0.61       500\n",
      "\n"
     ]
    }
   ],
   "source": [
    "print(classification_report(y, y_test_pred, target_names=['Non-Creditworthy', 'Creditworthy']))"
   ]
  },
  {
   "cell_type": "markdown",
   "id": "quantitative-wallpaper",
   "metadata": {},
   "source": [
    "### Random Forest Classifier"
   ]
  },
  {
   "cell_type": "code",
   "execution_count": 77,
   "id": "comparative-electric",
   "metadata": {},
   "outputs": [],
   "source": [
    "clf = RandomForestClassifier(n_estimators=100).fit(X_train, y_train)"
   ]
  },
  {
   "cell_type": "code",
   "execution_count": 78,
   "id": "interesting-hampton",
   "metadata": {},
   "outputs": [],
   "source": [
    "y_val_pred = clf.predict(X_val)\n",
    "y_val_score = clf.predict_proba(X_val)"
   ]
  },
  {
   "cell_type": "code",
   "execution_count": 79,
   "id": "linear-tactics",
   "metadata": {},
   "outputs": [
    {
     "data": {
      "text/plain": [
       "<AxesSubplot:>"
      ]
     },
     "execution_count": 79,
     "metadata": {},
     "output_type": "execute_result"
    },
    {
     "data": {
      "image/png": "[encoded data removed]",
      "text/plain": [
       "<Figure size 432x288 with 2 Axes>"
      ]
     },
     "metadata": {
      "needs_background": "light"
     },
     "output_type": "display_data"
    }
   ],
   "source": [
    "cf = confusion_matrix(y_val, y_val_pred)\n",
    "sns.heatmap(cf, annot=True, fmt='d')"
   ]
  },
  {
   "cell_type": "code",
   "execution_count": 80,
   "id": "primary-criminal",
   "metadata": {},
   "outputs": [
    {
     "name": "stdout",
     "output_type": "stream",
     "text": [
      "                  precision    recall  f1-score   support\n",
      "\n",
      "Non-Creditworthy       0.61      0.58      0.59        33\n",
      "    Creditworthy       0.80      0.82      0.81        67\n",
      "\n",
      "        accuracy                           0.74       100\n",
      "       macro avg       0.71      0.70      0.70       100\n",
      "    weighted avg       0.74      0.74      0.74       100\n",
      "\n"
     ]
    }
   ],
   "source": [
    "print(classification_report(y_val, y_val_pred, target_names=['Non-Creditworthy', 'Creditworthy']))"
   ]
  },
  {
   "cell_type": "code",
   "execution_count": 81,
   "id": "lasting-training",
   "metadata": {},
   "outputs": [
    {
     "data": {
      "text/plain": [
       "<sklearn.metrics._plot.roc_curve.RocCurveDisplay at 0x28e3a4cf670>"
      ]
     },
     "execution_count": 81,
     "metadata": {},
     "output_type": "execute_result"
    },
    {
     "data": {
      "image/png": "[encoded data removed]",
      "text/plain": [
       "<Figure size 432x288 with 1 Axes>"
      ]
     },
     "metadata": {
      "needs_background": "light"
     },
     "output_type": "display_data"
    }
   ],
   "source": [
    "plot_roc_curve(clf, X_val, y_val) "
   ]
  },
  {
   "cell_type": "code",
   "execution_count": 82,
   "id": "agricultural-german",
   "metadata": {},
   "outputs": [],
   "source": [
    "y_test_pred = clf.predict(X_test)\n",
    "y_test_score = clf.predict_proba(X_test)"
   ]
  },
  {
   "cell_type": "code",
   "execution_count": 83,
   "id": "fatty-truck",
   "metadata": {},
   "outputs": [
    {
     "data": {
      "text/plain": [
       "<AxesSubplot:>"
      ]
     },
     "execution_count": 83,
     "metadata": {},
     "output_type": "execute_result"
    },
    {
     "data": {
      "image/png": "[encoded data removed]",
      "text/plain": [
       "<Figure size 432x288 with 2 Axes>"
      ]
     },
     "metadata": {
      "needs_background": "light"
     },
     "output_type": "display_data"
    }
   ],
   "source": [
    "cf = confusion_matrix(y, y_test_pred)\n",
    "sns.heatmap(cf, annot=True, fmt='d')"
   ]
  },
  {
   "cell_type": "code",
   "execution_count": 84,
   "id": "interested-planner",
   "metadata": {},
   "outputs": [
    {
     "name": "stdout",
     "output_type": "stream",
     "text": [
      "                  precision    recall  f1-score   support\n",
      "\n",
      "Non-Creditworthy       0.36      0.26      0.30       142\n",
      "    Creditworthy       0.73      0.81      0.77       358\n",
      "\n",
      "        accuracy                           0.66       500\n",
      "       macro avg       0.55      0.54      0.54       500\n",
      "    weighted avg       0.63      0.66      0.64       500\n",
      "\n"
     ]
    }
   ],
   "source": [
    "print(classification_report(y, y_test_pred, target_names=['Non-Creditworthy', 'Creditworthy']))"
   ]
  },
  {
   "cell_type": "markdown",
   "id": "under-expansion",
   "metadata": {},
   "source": [
    "### AdaBoost Classifier"
   ]
  },
  {
   "cell_type": "code",
   "execution_count": 85,
   "id": "comparable-president",
   "metadata": {},
   "outputs": [],
   "source": [
    "clf = AdaBoostClassifier().fit(X_train, y_train)"
   ]
  },
  {
   "cell_type": "code",
   "execution_count": 86,
   "id": "final-briefs",
   "metadata": {},
   "outputs": [],
   "source": [
    "y_val_pred = clf.predict(X_val)\n",
    "y_val_score = clf.predict_proba(X_val)"
   ]
  },
  {
   "cell_type": "code",
   "execution_count": 87,
   "id": "welsh-horizon",
   "metadata": {},
   "outputs": [
    {
     "data": {
      "text/plain": [
       "<AxesSubplot:>"
      ]
     },
     "execution_count": 87,
     "metadata": {},
     "output_type": "execute_result"
    },
    {
     "data": {
      "image/png": "[encoded data removed]",
      "text/plain": [
       "<Figure size 432x288 with 2 Axes>"
      ]
     },
     "metadata": {
      "needs_background": "light"
     },
     "output_type": "display_data"
    }
   ],
   "source": [
    "cf = confusion_matrix(y_val, y_val_pred)\n",
    "sns.heatmap(cf, annot=True, fmt='d')"
   ]
  },
  {
   "cell_type": "code",
   "execution_count": 88,
   "id": "composite-accessory",
   "metadata": {},
   "outputs": [
    {
     "name": "stdout",
     "output_type": "stream",
     "text": [
      "                  precision    recall  f1-score   support\n",
      "\n",
      "Non-Creditworthy       0.67      0.48      0.56        33\n",
      "    Creditworthy       0.78      0.88      0.83        67\n",
      "\n",
      "        accuracy                           0.75       100\n",
      "       macro avg       0.72      0.68      0.69       100\n",
      "    weighted avg       0.74      0.75      0.74       100\n",
      "\n"
     ]
    }
   ],
   "source": [
    "print(classification_report(y_val, y_val_pred, target_names=['Non-Creditworthy', 'Creditworthy']))"
   ]
  },
  {
   "cell_type": "code",
   "execution_count": 89,
   "id": "thermal-curtis",
   "metadata": {},
   "outputs": [
    {
     "data": {
      "text/plain": [
       "<sklearn.metrics._plot.roc_curve.RocCurveDisplay at 0x28e3aab0460>"
      ]
     },
     "execution_count": 89,
     "metadata": {},
     "output_type": "execute_result"
    },
    {
     "data": {
      "image/png": "[encoded data removed]",
      "text/plain": [
       "<Figure size 432x288 with 1 Axes>"
      ]
     },
     "metadata": {
      "needs_background": "light"
     },
     "output_type": "display_data"
    }
   ],
   "source": [
    "plot_roc_curve(clf, X_val, y_val)"
   ]
  },
  {
   "cell_type": "code",
   "execution_count": 90,
   "id": "entire-adapter",
   "metadata": {},
   "outputs": [],
   "source": [
    "y_test_pred = clf.predict(X_test)\n",
    "y_test_score = clf.predict_proba(X_test)"
   ]
  },
  {
   "cell_type": "code",
   "execution_count": 91,
   "id": "loaded-magazine",
   "metadata": {},
   "outputs": [
    {
     "data": {
      "text/plain": [
       "<AxesSubplot:>"
      ]
     },
     "execution_count": 91,
     "metadata": {},
     "output_type": "execute_result"
    },
    {
     "data": {
      "image/png": "[encoded data removed]",
      "text/plain": [
       "<Figure size 432x288 with 2 Axes>"
      ]
     },
     "metadata": {
      "needs_background": "light"
     },
     "output_type": "display_data"
    }
   ],
   "source": [
    "cf = confusion_matrix(y, y_test_pred)\n",
    "sns.heatmap(cf, annot=True, fmt='d')"
   ]
  },
  {
   "cell_type": "code",
   "execution_count": 92,
   "id": "internal-opposition",
   "metadata": {},
   "outputs": [
    {
     "name": "stdout",
     "output_type": "stream",
     "text": [
      "                  precision    recall  f1-score   support\n",
      "\n",
      "Non-Creditworthy       0.31      0.23      0.26       142\n",
      "    Creditworthy       0.72      0.80      0.76       358\n",
      "\n",
      "        accuracy                           0.64       500\n",
      "       macro avg       0.52      0.51      0.51       500\n",
      "    weighted avg       0.61      0.64      0.62       500\n",
      "\n"
     ]
    }
   ],
   "source": [
    "print(classification_report(y, y_test_pred, target_names=['Non-Creditworthy', 'Creditworthy']))"
   ]
  },
  {
   "cell_type": "markdown",
   "id": "prompt-number",
   "metadata": {},
   "source": [
    "### XGBoost"
   ]
  },
  {
   "cell_type": "code",
   "execution_count": 93,
   "id": "inappropriate-elizabeth",
   "metadata": {},
   "outputs": [
    {
     "name": "stdout",
     "output_type": "stream",
     "text": [
      "[12:57:04] WARNING: C:/Users/Administrator/workspace/xgboost-win64_release_1.3.0/src/learner.cc:1061: Starting in XGBoost 1.3.0, the default evaluation metric used with the objective 'binary:logistic' was changed from 'error' to 'logloss'. Explicitly set eval_metric if you'd like to restore the old behavior.\n"
     ]
    },
    {
     "name": "stderr",
     "output_type": "stream",
     "text": [
      "C:\\Users\\hamzahf\\.conda\\envs\\ML\\lib\\site-packages\\xgboost-1.3.2-py3.8-win-amd64.egg\\xgboost\\sklearn.py:888: UserWarning: The use of label encoder in XGBClassifier is deprecated and will be removed in a future release. To remove this warning, do the following: 1) Pass option use_label_encoder=False when constructing XGBClassifier object; and 2) Encode your labels (y) as integers starting with 0, i.e. 0, 1, 2, ..., [num_class - 1].\n",
      "  warnings.warn(label_encoder_deprecation_msg, UserWarning)\n"
     ]
    }
   ],
   "source": [
    "clf = XGBClassifier(learning_rate = 0.001, n_estimators=200, random_state=random_state).fit(X_train, y_train)"
   ]
  },
  {
   "cell_type": "code",
   "execution_count": 94,
   "id": "handed-ontario",
   "metadata": {},
   "outputs": [],
   "source": [
    "y_val_pred = clf.predict(X_val)\n",
    "y_val_score = clf.predict_proba(X_val)"
   ]
  },
  {
   "cell_type": "code",
   "execution_count": 95,
   "id": "inner-leonard",
   "metadata": {},
   "outputs": [
    {
     "data": {
      "text/plain": [
       "<AxesSubplot:>"
      ]
     },
     "execution_count": 95,
     "metadata": {},
     "output_type": "execute_result"
    },
    {
     "data": {
      "image/png": "[encoded data removed]",
      "text/plain": [
       "<Figure size 432x288 with 2 Axes>"
      ]
     },
     "metadata": {
      "needs_background": "light"
     },
     "output_type": "display_data"
    }
   ],
   "source": [
    "cf = confusion_matrix(y_val, y_val_pred)\n",
    "sns.heatmap(cf, annot=True, fmt='d')"
   ]
  },
  {
   "cell_type": "code",
   "execution_count": 96,
   "id": "decimal-garden",
   "metadata": {},
   "outputs": [
    {
     "name": "stdout",
     "output_type": "stream",
     "text": [
      "                  precision    recall  f1-score   support\n",
      "\n",
      "Non-Creditworthy       0.68      0.45      0.55        33\n",
      "    Creditworthy       0.77      0.90      0.83        67\n",
      "\n",
      "        accuracy                           0.75       100\n",
      "       macro avg       0.73      0.68      0.69       100\n",
      "    weighted avg       0.74      0.75      0.73       100\n",
      "\n"
     ]
    }
   ],
   "source": [
    "print(classification_report(y_val, y_val_pred, target_names=['Non-Creditworthy', 'Creditworthy']))"
   ]
  },
  {
   "cell_type": "code",
   "execution_count": 97,
   "id": "extra-freight",
   "metadata": {},
   "outputs": [
    {
     "data": {
      "text/plain": [
       "<sklearn.metrics._plot.roc_curve.RocCurveDisplay at 0x28e3aa35040>"
      ]
     },
     "execution_count": 97,
     "metadata": {},
     "output_type": "execute_result"
    },
    {
     "data": {
      "image/png": "[encoded data removed]",
      "text/plain": [
       "<Figure size 432x288 with 1 Axes>"
      ]
     },
     "metadata": {
      "needs_background": "light"
     },
     "output_type": "display_data"
    }
   ],
   "source": [
    "plot_roc_curve(clf, X_val, y_val)"
   ]
  },
  {
   "cell_type": "code",
   "execution_count": 98,
   "id": "scheduled-fishing",
   "metadata": {},
   "outputs": [],
   "source": [
    "y_test_pred = clf.predict(X_test)\n",
    "y_test_score = clf.predict_proba(X_test)"
   ]
  },
  {
   "cell_type": "code",
   "execution_count": 99,
   "id": "democratic-press",
   "metadata": {},
   "outputs": [
    {
     "data": {
      "text/plain": [
       "<AxesSubplot:>"
      ]
     },
     "execution_count": 99,
     "metadata": {},
     "output_type": "execute_result"
    },
    {
     "data": {
      "image/png": "[encoded data removed]",
      "text/plain": [
       "<Figure size 432x288 with 2 Axes>"
      ]
     },
     "metadata": {
      "needs_background": "light"
     },
     "output_type": "display_data"
    }
   ],
   "source": [
    "cf = confusion_matrix(y, y_test_pred)\n",
    "sns.heatmap(cf, annot=True, fmt='d')"
   ]
  },
  {
   "cell_type": "code",
   "execution_count": 100,
   "id": "classified-subcommittee",
   "metadata": {},
   "outputs": [
    {
     "name": "stdout",
     "output_type": "stream",
     "text": [
      "                  precision    recall  f1-score   support\n",
      "\n",
      "Non-Creditworthy       0.38      0.18      0.25       142\n",
      "    Creditworthy       0.73      0.88      0.80       358\n",
      "\n",
      "        accuracy                           0.68       500\n",
      "       macro avg       0.55      0.53      0.52       500\n",
      "    weighted avg       0.63      0.68      0.64       500\n",
      "\n"
     ]
    }
   ],
   "source": [
    "print(classification_report(y, y_test_pred, target_names=['Non-Creditworthy', 'Creditworthy']))"
   ]
  }
 ],
 "metadata": {
  "kernelspec": {
   "display_name": "Python 3",
   "language": "python",
   "name": "python3"
  },
  "language_info": {
   "codemirror_mode": {
    "name": "ipython",
    "version": 3
   },
   "file_extension": ".py",
   "mimetype": "text/x-python",
   "name": "python",
   "nbconvert_exporter": "python",
   "pygments_lexer": "ipython3",
   "version": "3.8.5"
  }
 },
 "nbformat": 4,
 "nbformat_minor": 5
}
