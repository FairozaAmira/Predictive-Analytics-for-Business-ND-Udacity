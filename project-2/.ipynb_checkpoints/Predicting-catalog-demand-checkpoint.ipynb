{
 "cells": [
  {
   "cell_type": "markdown",
   "id": "representative-pixel",
   "metadata": {},
   "source": [
    "# Project 2: Predicting Catalog Demand\n",
    "\n",
    "**The Business Problem** <br/>\n",
    "You recently started working for a company that manufactures and sells high-end home goods. Last year the company sent out its first print catalog, and is preparing to send out this year's catalog in the coming months. The company has 250 new customers from their mailing list that they want to send the catalog to.\n",
    "\n",
    "Your manager has been asked to determine how much profit the company can expect from sending a catalog to these customers. You, the business analyst, are assigned to help your manager run the numbers. While fairly knowledgeable about data analysis, your manager is not very familiar with predictive models.\n",
    "\n",
    "You’ve been asked to predict the expected profit from these 250 new customers. Management does not want to send the catalog out to these new customers unless the expected profit contribution exceeds $10,000.\n",
    "\n",
    "**Details**\n",
    "\n",
    "<ol>\n",
    "<li>The costs of printing and distributing is USD6.50 per catalog. </li>\n",
    "<li>The average gross margin (price - cost) on all products sold through the catalog is 50%. </li>\n",
    "<li>Make sure to multiply your revenue by the gross margin first before you subtract out the $6.50 cost when calculating your profit. </li> \n",
    "<li>Write a short report with your recommendations outlining your reasons why the company should go with your recommendations to your manager. </li>\n",
    "</ol>\n"
   ]
  },
  {
   "cell_type": "markdown",
   "id": "standard-print",
   "metadata": {},
   "source": [
    "## Step 1: Business and Data Understanding\n",
    "\n",
    "1.     What decisions needs to be made?\n",
    "\n",
    "Sales manager need to answer the question of whether to send the catalog can be sent to 250 customers or not, based on the expected profit.\n",
    " \n",
    "2.     What data is needed to inform those decisions?\n",
    "\n",
    "The previous sales data, which is from `p1-customers.xlsx`.The data is as below.\n",
    "```\n",
    "Customer_Segment            \n",
    "Customer_ID                \n",
    "Address                    \n",
    "City                       \n",
    "State                       \n",
    "ZIP                       \n",
    "Avg_Sale_Amount            \n",
    "Store_Number                \n",
    "Responded_to_Last_Catalog   \n",
    "Avg_Num_Products_Purchased    \n",
    "#_Years_as_Customer  \n",
    "```\n",
    "So, we need to find which column (features) that actually contributed to the `Avg_Sale_Amount`.\n"
   ]
  },
  {
   "cell_type": "code",
   "execution_count": 1,
   "id": "selective-playing",
   "metadata": {},
   "outputs": [],
   "source": [
    "# import necessary libraries\n",
    "\n",
    "import pandas as pd\n",
    "import numpy as np\n",
    "import matplotlib.pyplot as plt\n",
    "import seaborn as sns\n",
    "import statsmodels.api as sm\n",
    "from sklearn.linear_model import LinearRegression \n",
    "from sklearn.model_selection import train_test_split \n",
    "\n",
    "%matplotlib inline"
   ]
  },
  {
   "cell_type": "code",
   "execution_count": 2,
   "id": "upset-elder",
   "metadata": {},
   "outputs": [
    {
     "data": {
      "text/html": [
       "<div>\n",
       "<style scoped>\n",
       "    .dataframe tbody tr th:only-of-type {\n",
       "        vertical-align: middle;\n",
       "    }\n",
       "\n",
       "    .dataframe tbody tr th {\n",
       "        vertical-align: top;\n",
       "    }\n",
       "\n",
       "    .dataframe thead th {\n",
       "        text-align: right;\n",
       "    }\n",
       "</style>\n",
       "<table border=\"1\" class=\"dataframe\">\n",
       "  <thead>\n",
       "    <tr style=\"text-align: right;\">\n",
       "      <th></th>\n",
       "      <th>Customer_Segment</th>\n",
       "      <th>Customer_ID</th>\n",
       "      <th>Address</th>\n",
       "      <th>City</th>\n",
       "      <th>State</th>\n",
       "      <th>ZIP</th>\n",
       "      <th>Avg_Sale_Amount</th>\n",
       "      <th>Store_Number</th>\n",
       "      <th>Responded_to_Last_Catalog</th>\n",
       "      <th>Avg_Num_Products_Purchased</th>\n",
       "      <th>#_Years_as_Customer</th>\n",
       "    </tr>\n",
       "    <tr>\n",
       "      <th>Name</th>\n",
       "      <th></th>\n",
       "      <th></th>\n",
       "      <th></th>\n",
       "      <th></th>\n",
       "      <th></th>\n",
       "      <th></th>\n",
       "      <th></th>\n",
       "      <th></th>\n",
       "      <th></th>\n",
       "      <th></th>\n",
       "      <th></th>\n",
       "    </tr>\n",
       "  </thead>\n",
       "  <tbody>\n",
       "    <tr>\n",
       "      <th>Pamela Wright</th>\n",
       "      <td>Store Mailing List</td>\n",
       "      <td>2</td>\n",
       "      <td>376 S Jasmine St</td>\n",
       "      <td>Denver</td>\n",
       "      <td>CO</td>\n",
       "      <td>80224</td>\n",
       "      <td>227.90</td>\n",
       "      <td>100</td>\n",
       "      <td>No</td>\n",
       "      <td>1</td>\n",
       "      <td>6</td>\n",
       "    </tr>\n",
       "    <tr>\n",
       "      <th>Danell Valdez</th>\n",
       "      <td>Store Mailing List</td>\n",
       "      <td>7</td>\n",
       "      <td>12066 E Lake Cir</td>\n",
       "      <td>Greenwood Village</td>\n",
       "      <td>CO</td>\n",
       "      <td>80111</td>\n",
       "      <td>55.00</td>\n",
       "      <td>105</td>\n",
       "      <td>Yes</td>\n",
       "      <td>1</td>\n",
       "      <td>6</td>\n",
       "    </tr>\n",
       "    <tr>\n",
       "      <th>Jessica Rinehart</th>\n",
       "      <td>Store Mailing List</td>\n",
       "      <td>8</td>\n",
       "      <td>7225 S Gaylord St</td>\n",
       "      <td>Centennial</td>\n",
       "      <td>CO</td>\n",
       "      <td>80122</td>\n",
       "      <td>212.57</td>\n",
       "      <td>101</td>\n",
       "      <td>No</td>\n",
       "      <td>1</td>\n",
       "      <td>3</td>\n",
       "    </tr>\n",
       "    <tr>\n",
       "      <th>Nancy Clark</th>\n",
       "      <td>Store Mailing List</td>\n",
       "      <td>9</td>\n",
       "      <td>4497 Cornish Way</td>\n",
       "      <td>Denver</td>\n",
       "      <td>CO</td>\n",
       "      <td>80239</td>\n",
       "      <td>195.31</td>\n",
       "      <td>105</td>\n",
       "      <td>Yes</td>\n",
       "      <td>1</td>\n",
       "      <td>6</td>\n",
       "    </tr>\n",
       "    <tr>\n",
       "      <th>Andrea Brun</th>\n",
       "      <td>Store Mailing List</td>\n",
       "      <td>10</td>\n",
       "      <td>2316 E 5th Ave</td>\n",
       "      <td>Denver</td>\n",
       "      <td>CO</td>\n",
       "      <td>80206</td>\n",
       "      <td>110.55</td>\n",
       "      <td>100</td>\n",
       "      <td>Yes</td>\n",
       "      <td>1</td>\n",
       "      <td>2</td>\n",
       "    </tr>\n",
       "  </tbody>\n",
       "</table>\n",
       "</div>"
      ],
      "text/plain": [
       "                    Customer_Segment  Customer_ID            Address  \\\n",
       "Name                                                                   \n",
       "Pamela Wright     Store Mailing List            2   376 S Jasmine St   \n",
       "Danell Valdez     Store Mailing List            7   12066 E Lake Cir   \n",
       "Jessica Rinehart  Store Mailing List            8  7225 S Gaylord St   \n",
       "Nancy Clark       Store Mailing List            9   4497 Cornish Way   \n",
       "Andrea Brun       Store Mailing List           10     2316 E 5th Ave   \n",
       "\n",
       "                               City State    ZIP  Avg_Sale_Amount  \\\n",
       "Name                                                                \n",
       "Pamela Wright                Denver    CO  80224           227.90   \n",
       "Danell Valdez     Greenwood Village    CO  80111            55.00   \n",
       "Jessica Rinehart         Centennial    CO  80122           212.57   \n",
       "Nancy Clark                  Denver    CO  80239           195.31   \n",
       "Andrea Brun                  Denver    CO  80206           110.55   \n",
       "\n",
       "                  Store_Number Responded_to_Last_Catalog  \\\n",
       "Name                                                       \n",
       "Pamela Wright              100                        No   \n",
       "Danell Valdez              105                       Yes   \n",
       "Jessica Rinehart           101                        No   \n",
       "Nancy Clark                105                       Yes   \n",
       "Andrea Brun                100                       Yes   \n",
       "\n",
       "                  Avg_Num_Products_Purchased  #_Years_as_Customer  \n",
       "Name                                                               \n",
       "Pamela Wright                              1                    6  \n",
       "Danell Valdez                              1                    6  \n",
       "Jessica Rinehart                           1                    3  \n",
       "Nancy Clark                                1                    6  \n",
       "Andrea Brun                                1                    2  "
      ]
     },
     "execution_count": 2,
     "metadata": {},
     "output_type": "execute_result"
    }
   ],
   "source": [
    "df = pd.read_excel('p1-customers.xlsx',index_col = 0)\n",
    "df.head()"
   ]
  },
  {
   "cell_type": "code",
   "execution_count": 3,
   "id": "educated-albuquerque",
   "metadata": {},
   "outputs": [
    {
     "data": {
      "text/html": [
       "<div>\n",
       "<style scoped>\n",
       "    .dataframe tbody tr th:only-of-type {\n",
       "        vertical-align: middle;\n",
       "    }\n",
       "\n",
       "    .dataframe tbody tr th {\n",
       "        vertical-align: top;\n",
       "    }\n",
       "\n",
       "    .dataframe thead th {\n",
       "        text-align: right;\n",
       "    }\n",
       "</style>\n",
       "<table border=\"1\" class=\"dataframe\">\n",
       "  <thead>\n",
       "    <tr style=\"text-align: right;\">\n",
       "      <th></th>\n",
       "      <th>Customer_ID</th>\n",
       "      <th>ZIP</th>\n",
       "      <th>Avg_Sale_Amount</th>\n",
       "      <th>Store_Number</th>\n",
       "      <th>Avg_Num_Products_Purchased</th>\n",
       "      <th>#_Years_as_Customer</th>\n",
       "    </tr>\n",
       "  </thead>\n",
       "  <tbody>\n",
       "    <tr>\n",
       "      <th>count</th>\n",
       "      <td>2375.000000</td>\n",
       "      <td>2375.000000</td>\n",
       "      <td>2375.000000</td>\n",
       "      <td>2375.000000</td>\n",
       "      <td>2375.000000</td>\n",
       "      <td>2375.000000</td>\n",
       "    </tr>\n",
       "    <tr>\n",
       "      <th>mean</th>\n",
       "      <td>1647.845474</td>\n",
       "      <td>80123.333474</td>\n",
       "      <td>399.774093</td>\n",
       "      <td>104.297684</td>\n",
       "      <td>3.347368</td>\n",
       "      <td>4.500632</td>\n",
       "    </tr>\n",
       "    <tr>\n",
       "      <th>std</th>\n",
       "      <td>962.728105</td>\n",
       "      <td>107.255770</td>\n",
       "      <td>340.115808</td>\n",
       "      <td>2.837240</td>\n",
       "      <td>2.738568</td>\n",
       "      <td>2.309986</td>\n",
       "    </tr>\n",
       "    <tr>\n",
       "      <th>min</th>\n",
       "      <td>2.000000</td>\n",
       "      <td>80002.000000</td>\n",
       "      <td>1.220000</td>\n",
       "      <td>100.000000</td>\n",
       "      <td>1.000000</td>\n",
       "      <td>1.000000</td>\n",
       "    </tr>\n",
       "    <tr>\n",
       "      <th>25%</th>\n",
       "      <td>820.500000</td>\n",
       "      <td>80014.000000</td>\n",
       "      <td>168.925000</td>\n",
       "      <td>101.000000</td>\n",
       "      <td>1.000000</td>\n",
       "      <td>2.000000</td>\n",
       "    </tr>\n",
       "    <tr>\n",
       "      <th>50%</th>\n",
       "      <td>1629.000000</td>\n",
       "      <td>80123.000000</td>\n",
       "      <td>281.320000</td>\n",
       "      <td>105.000000</td>\n",
       "      <td>3.000000</td>\n",
       "      <td>5.000000</td>\n",
       "    </tr>\n",
       "    <tr>\n",
       "      <th>75%</th>\n",
       "      <td>2492.500000</td>\n",
       "      <td>80221.000000</td>\n",
       "      <td>572.400000</td>\n",
       "      <td>107.000000</td>\n",
       "      <td>5.000000</td>\n",
       "      <td>6.000000</td>\n",
       "    </tr>\n",
       "    <tr>\n",
       "      <th>max</th>\n",
       "      <td>3335.000000</td>\n",
       "      <td>80640.000000</td>\n",
       "      <td>2963.490000</td>\n",
       "      <td>109.000000</td>\n",
       "      <td>26.000000</td>\n",
       "      <td>8.000000</td>\n",
       "    </tr>\n",
       "  </tbody>\n",
       "</table>\n",
       "</div>"
      ],
      "text/plain": [
       "       Customer_ID           ZIP  Avg_Sale_Amount  Store_Number  \\\n",
       "count  2375.000000   2375.000000      2375.000000   2375.000000   \n",
       "mean   1647.845474  80123.333474       399.774093    104.297684   \n",
       "std     962.728105    107.255770       340.115808      2.837240   \n",
       "min       2.000000  80002.000000         1.220000    100.000000   \n",
       "25%     820.500000  80014.000000       168.925000    101.000000   \n",
       "50%    1629.000000  80123.000000       281.320000    105.000000   \n",
       "75%    2492.500000  80221.000000       572.400000    107.000000   \n",
       "max    3335.000000  80640.000000      2963.490000    109.000000   \n",
       "\n",
       "       Avg_Num_Products_Purchased  #_Years_as_Customer  \n",
       "count                 2375.000000          2375.000000  \n",
       "mean                     3.347368             4.500632  \n",
       "std                      2.738568             2.309986  \n",
       "min                      1.000000             1.000000  \n",
       "25%                      1.000000             2.000000  \n",
       "50%                      3.000000             5.000000  \n",
       "75%                      5.000000             6.000000  \n",
       "max                     26.000000             8.000000  "
      ]
     },
     "execution_count": 3,
     "metadata": {},
     "output_type": "execute_result"
    }
   ],
   "source": [
    "df.describe()"
   ]
  },
  {
   "cell_type": "code",
   "execution_count": 4,
   "id": "equipped-warrant",
   "metadata": {
    "scrolled": true
   },
   "outputs": [
    {
     "name": "stdout",
     "output_type": "stream",
     "text": [
      "<class 'pandas.core.frame.DataFrame'>\n",
      "Index: 2375 entries, Pamela Wright to Elissa Engledow\n",
      "Data columns (total 11 columns):\n",
      " #   Column                      Non-Null Count  Dtype  \n",
      "---  ------                      --------------  -----  \n",
      " 0   Customer_Segment            2375 non-null   object \n",
      " 1   Customer_ID                 2375 non-null   int64  \n",
      " 2   Address                     2375 non-null   object \n",
      " 3   City                        2375 non-null   object \n",
      " 4   State                       2375 non-null   object \n",
      " 5   ZIP                         2375 non-null   int64  \n",
      " 6   Avg_Sale_Amount             2375 non-null   float64\n",
      " 7   Store_Number                2375 non-null   int64  \n",
      " 8   Responded_to_Last_Catalog   2375 non-null   object \n",
      " 9   Avg_Num_Products_Purchased  2375 non-null   int64  \n",
      " 10  #_Years_as_Customer         2375 non-null   int64  \n",
      "dtypes: float64(1), int64(5), object(5)\n",
      "memory usage: 222.7+ KB\n"
     ]
    }
   ],
   "source": [
    "df.info()"
   ]
  },
  {
   "cell_type": "markdown",
   "id": "confident-mounting",
   "metadata": {},
   "source": [
    "## Step 2: Analysis, Modeling, and Validation\n",
    "\n",
    "1.     How and why did you select the predictor variables in your model? You must explain how your continuous predictor variables you’ve chosen have a linear relationship with the target variable. Please refer back to the “Multiple Linear Regression with Excel” lesson to help you explore your data and use scatterplots to search for linear relationships. You must include scatterplots in your answer.\n",
    "\n",
    "Please refer to section `Features Engineering` for this answer.\n",
    "\n",
    "2.     Explain why you believe your linear model is a good model. You must justify your reasoning using the statistical results that your regression model created. For each variable you selected, please justify how each variable is a good fit for your model by using the p-values and R-squared values that your model produced.\n",
    "\n",
    "Please refer to the `Modeling` section for this answer. The p-value is less than 0.05 and adjusted R-square is 0.837. Thus, our model is believed to be a good fit.\n",
    "\n",
    "3. \tWhat is the best linear regression equation based on the available data? Each coefficient should have no more than 2 digits after the decimal (ex: 1.28)\n",
    "\n",
    "$ Avg_Sale_Amount = 220.18 + 66.97 \\times Avg_Num_Products_Purchased + 83.28 \\times Customer_CreditCardOnly - 66.08 \\times Customer_LoyaltyClubOnly + 365.12 \\times Customer_LoyaltyClubCreditCard - 162.14 \\times Customer_StoreMailingList $"
   ]
  },
  {
   "cell_type": "markdown",
   "id": "naval-playlist",
   "metadata": {},
   "source": [
    "### Data Cleaning\n",
    "\n",
    "Applying the One Hot Encoding"
   ]
  },
  {
   "cell_type": "code",
   "execution_count": 5,
   "id": "fresh-society",
   "metadata": {},
   "outputs": [
    {
     "data": {
      "text/plain": [
       "array(['Store Mailing List', 'Loyalty Club and Credit Card',\n",
       "       'Loyalty Club Only', 'Credit Card Only'], dtype=object)"
      ]
     },
     "execution_count": 5,
     "metadata": {},
     "output_type": "execute_result"
    }
   ],
   "source": [
    "df['Customer_Segment'].unique()"
   ]
  },
  {
   "cell_type": "code",
   "execution_count": 6,
   "id": "turned-administrator",
   "metadata": {},
   "outputs": [
    {
     "data": {
      "text/plain": [
       "array(['No', 'Yes'], dtype=object)"
      ]
     },
     "execution_count": 6,
     "metadata": {},
     "output_type": "execute_result"
    }
   ],
   "source": [
    "df[\"Responded_to_Last_Catalog\"].unique()"
   ]
  },
  {
   "cell_type": "code",
   "execution_count": 7,
   "id": "functional-opportunity",
   "metadata": {},
   "outputs": [],
   "source": [
    "df[\"Responded_to_Last_Catalog\"].replace({\"Yes\": 1, \"No\": 0}, inplace=True)"
   ]
  },
  {
   "cell_type": "code",
   "execution_count": 8,
   "id": "stretch-superior",
   "metadata": {},
   "outputs": [
    {
     "data": {
      "text/html": [
       "<div>\n",
       "<style scoped>\n",
       "    .dataframe tbody tr th:only-of-type {\n",
       "        vertical-align: middle;\n",
       "    }\n",
       "\n",
       "    .dataframe tbody tr th {\n",
       "        vertical-align: top;\n",
       "    }\n",
       "\n",
       "    .dataframe thead th {\n",
       "        text-align: right;\n",
       "    }\n",
       "</style>\n",
       "<table border=\"1\" class=\"dataframe\">\n",
       "  <thead>\n",
       "    <tr style=\"text-align: right;\">\n",
       "      <th></th>\n",
       "      <th>Credit Card Only</th>\n",
       "      <th>Loyalty Club Only</th>\n",
       "      <th>Loyalty Club and Credit Card</th>\n",
       "      <th>Store Mailing List</th>\n",
       "    </tr>\n",
       "    <tr>\n",
       "      <th>Name</th>\n",
       "      <th></th>\n",
       "      <th></th>\n",
       "      <th></th>\n",
       "      <th></th>\n",
       "    </tr>\n",
       "  </thead>\n",
       "  <tbody>\n",
       "    <tr>\n",
       "      <th>Pamela Wright</th>\n",
       "      <td>0</td>\n",
       "      <td>0</td>\n",
       "      <td>0</td>\n",
       "      <td>1</td>\n",
       "    </tr>\n",
       "    <tr>\n",
       "      <th>Danell Valdez</th>\n",
       "      <td>0</td>\n",
       "      <td>0</td>\n",
       "      <td>0</td>\n",
       "      <td>1</td>\n",
       "    </tr>\n",
       "    <tr>\n",
       "      <th>Jessica Rinehart</th>\n",
       "      <td>0</td>\n",
       "      <td>0</td>\n",
       "      <td>0</td>\n",
       "      <td>1</td>\n",
       "    </tr>\n",
       "    <tr>\n",
       "      <th>Nancy Clark</th>\n",
       "      <td>0</td>\n",
       "      <td>0</td>\n",
       "      <td>0</td>\n",
       "      <td>1</td>\n",
       "    </tr>\n",
       "    <tr>\n",
       "      <th>Andrea Brun</th>\n",
       "      <td>0</td>\n",
       "      <td>0</td>\n",
       "      <td>0</td>\n",
       "      <td>1</td>\n",
       "    </tr>\n",
       "  </tbody>\n",
       "</table>\n",
       "</div>"
      ],
      "text/plain": [
       "                  Credit Card Only  Loyalty Club Only  \\\n",
       "Name                                                    \n",
       "Pamela Wright                    0                  0   \n",
       "Danell Valdez                    0                  0   \n",
       "Jessica Rinehart                 0                  0   \n",
       "Nancy Clark                      0                  0   \n",
       "Andrea Brun                      0                  0   \n",
       "\n",
       "                  Loyalty Club and Credit Card  Store Mailing List  \n",
       "Name                                                                \n",
       "Pamela Wright                                0                   1  \n",
       "Danell Valdez                                0                   1  \n",
       "Jessica Rinehart                             0                   1  \n",
       "Nancy Clark                                  0                   1  \n",
       "Andrea Brun                                  0                   1  "
      ]
     },
     "execution_count": 8,
     "metadata": {},
     "output_type": "execute_result"
    }
   ],
   "source": [
    "df_Customer_Segment = pd.get_dummies(df['Customer_Segment'])\n",
    "df_Customer_Segment.head()"
   ]
  },
  {
   "cell_type": "code",
   "execution_count": 9,
   "id": "sensitive-barrier",
   "metadata": {},
   "outputs": [
    {
     "data": {
      "text/plain": [
       "array([0, 1], dtype=uint8)"
      ]
     },
     "execution_count": 9,
     "metadata": {},
     "output_type": "execute_result"
    }
   ],
   "source": [
    "df_Customer_Segment['Credit Card Only'].unique()"
   ]
  },
  {
   "cell_type": "code",
   "execution_count": 10,
   "id": "recognized-olive",
   "metadata": {},
   "outputs": [],
   "source": [
    "df_Customer_Segment = df_Customer_Segment.rename(columns={\n",
    "                            \"Credit Card Only\" : \"Customer_CreditCardOnly\",\n",
    "                            \"Loyalty Club Only\": \"Customer_LoyaltyClubOnly\",\n",
    "                            \"Loyalty Club and Credit Card\": \"Customer_LoyaltyClubCreditCard\",\n",
    "                            \"Store Mailing List\": \"Customer_StoreMailingList\"\n",
    "})"
   ]
  },
  {
   "cell_type": "code",
   "execution_count": 11,
   "id": "graphic-blond",
   "metadata": {},
   "outputs": [
    {
     "data": {
      "text/html": [
       "<div>\n",
       "<style scoped>\n",
       "    .dataframe tbody tr th:only-of-type {\n",
       "        vertical-align: middle;\n",
       "    }\n",
       "\n",
       "    .dataframe tbody tr th {\n",
       "        vertical-align: top;\n",
       "    }\n",
       "\n",
       "    .dataframe thead th {\n",
       "        text-align: right;\n",
       "    }\n",
       "</style>\n",
       "<table border=\"1\" class=\"dataframe\">\n",
       "  <thead>\n",
       "    <tr style=\"text-align: right;\">\n",
       "      <th></th>\n",
       "      <th>Customer_Segment</th>\n",
       "      <th>Customer_ID</th>\n",
       "      <th>Address</th>\n",
       "      <th>City</th>\n",
       "      <th>State</th>\n",
       "      <th>ZIP</th>\n",
       "      <th>Avg_Sale_Amount</th>\n",
       "      <th>Store_Number</th>\n",
       "      <th>Responded_to_Last_Catalog</th>\n",
       "      <th>Avg_Num_Products_Purchased</th>\n",
       "      <th>#_Years_as_Customer</th>\n",
       "      <th>Customer_CreditCardOnly</th>\n",
       "      <th>Customer_LoyaltyClubOnly</th>\n",
       "      <th>Customer_LoyaltyClubCreditCard</th>\n",
       "      <th>Customer_StoreMailingList</th>\n",
       "    </tr>\n",
       "    <tr>\n",
       "      <th>Name</th>\n",
       "      <th></th>\n",
       "      <th></th>\n",
       "      <th></th>\n",
       "      <th></th>\n",
       "      <th></th>\n",
       "      <th></th>\n",
       "      <th></th>\n",
       "      <th></th>\n",
       "      <th></th>\n",
       "      <th></th>\n",
       "      <th></th>\n",
       "      <th></th>\n",
       "      <th></th>\n",
       "      <th></th>\n",
       "      <th></th>\n",
       "    </tr>\n",
       "  </thead>\n",
       "  <tbody>\n",
       "    <tr>\n",
       "      <th>Pamela Wright</th>\n",
       "      <td>Store Mailing List</td>\n",
       "      <td>2</td>\n",
       "      <td>376 S Jasmine St</td>\n",
       "      <td>Denver</td>\n",
       "      <td>CO</td>\n",
       "      <td>80224</td>\n",
       "      <td>227.90</td>\n",
       "      <td>100</td>\n",
       "      <td>0</td>\n",
       "      <td>1</td>\n",
       "      <td>6</td>\n",
       "      <td>0</td>\n",
       "      <td>0</td>\n",
       "      <td>0</td>\n",
       "      <td>1</td>\n",
       "    </tr>\n",
       "    <tr>\n",
       "      <th>Danell Valdez</th>\n",
       "      <td>Store Mailing List</td>\n",
       "      <td>7</td>\n",
       "      <td>12066 E Lake Cir</td>\n",
       "      <td>Greenwood Village</td>\n",
       "      <td>CO</td>\n",
       "      <td>80111</td>\n",
       "      <td>55.00</td>\n",
       "      <td>105</td>\n",
       "      <td>1</td>\n",
       "      <td>1</td>\n",
       "      <td>6</td>\n",
       "      <td>0</td>\n",
       "      <td>0</td>\n",
       "      <td>0</td>\n",
       "      <td>1</td>\n",
       "    </tr>\n",
       "    <tr>\n",
       "      <th>Jessica Rinehart</th>\n",
       "      <td>Store Mailing List</td>\n",
       "      <td>8</td>\n",
       "      <td>7225 S Gaylord St</td>\n",
       "      <td>Centennial</td>\n",
       "      <td>CO</td>\n",
       "      <td>80122</td>\n",
       "      <td>212.57</td>\n",
       "      <td>101</td>\n",
       "      <td>0</td>\n",
       "      <td>1</td>\n",
       "      <td>3</td>\n",
       "      <td>0</td>\n",
       "      <td>0</td>\n",
       "      <td>0</td>\n",
       "      <td>1</td>\n",
       "    </tr>\n",
       "    <tr>\n",
       "      <th>Nancy Clark</th>\n",
       "      <td>Store Mailing List</td>\n",
       "      <td>9</td>\n",
       "      <td>4497 Cornish Way</td>\n",
       "      <td>Denver</td>\n",
       "      <td>CO</td>\n",
       "      <td>80239</td>\n",
       "      <td>195.31</td>\n",
       "      <td>105</td>\n",
       "      <td>1</td>\n",
       "      <td>1</td>\n",
       "      <td>6</td>\n",
       "      <td>0</td>\n",
       "      <td>0</td>\n",
       "      <td>0</td>\n",
       "      <td>1</td>\n",
       "    </tr>\n",
       "    <tr>\n",
       "      <th>Andrea Brun</th>\n",
       "      <td>Store Mailing List</td>\n",
       "      <td>10</td>\n",
       "      <td>2316 E 5th Ave</td>\n",
       "      <td>Denver</td>\n",
       "      <td>CO</td>\n",
       "      <td>80206</td>\n",
       "      <td>110.55</td>\n",
       "      <td>100</td>\n",
       "      <td>1</td>\n",
       "      <td>1</td>\n",
       "      <td>2</td>\n",
       "      <td>0</td>\n",
       "      <td>0</td>\n",
       "      <td>0</td>\n",
       "      <td>1</td>\n",
       "    </tr>\n",
       "  </tbody>\n",
       "</table>\n",
       "</div>"
      ],
      "text/plain": [
       "                    Customer_Segment  Customer_ID            Address  \\\n",
       "Name                                                                   \n",
       "Pamela Wright     Store Mailing List            2   376 S Jasmine St   \n",
       "Danell Valdez     Store Mailing List            7   12066 E Lake Cir   \n",
       "Jessica Rinehart  Store Mailing List            8  7225 S Gaylord St   \n",
       "Nancy Clark       Store Mailing List            9   4497 Cornish Way   \n",
       "Andrea Brun       Store Mailing List           10     2316 E 5th Ave   \n",
       "\n",
       "                               City State    ZIP  Avg_Sale_Amount  \\\n",
       "Name                                                                \n",
       "Pamela Wright                Denver    CO  80224           227.90   \n",
       "Danell Valdez     Greenwood Village    CO  80111            55.00   \n",
       "Jessica Rinehart         Centennial    CO  80122           212.57   \n",
       "Nancy Clark                  Denver    CO  80239           195.31   \n",
       "Andrea Brun                  Denver    CO  80206           110.55   \n",
       "\n",
       "                  Store_Number  Responded_to_Last_Catalog  \\\n",
       "Name                                                        \n",
       "Pamela Wright              100                          0   \n",
       "Danell Valdez              105                          1   \n",
       "Jessica Rinehart           101                          0   \n",
       "Nancy Clark                105                          1   \n",
       "Andrea Brun                100                          1   \n",
       "\n",
       "                  Avg_Num_Products_Purchased  #_Years_as_Customer  \\\n",
       "Name                                                                \n",
       "Pamela Wright                              1                    6   \n",
       "Danell Valdez                              1                    6   \n",
       "Jessica Rinehart                           1                    3   \n",
       "Nancy Clark                                1                    6   \n",
       "Andrea Brun                                1                    2   \n",
       "\n",
       "                  Customer_CreditCardOnly  Customer_LoyaltyClubOnly  \\\n",
       "Name                                                                  \n",
       "Pamela Wright                           0                         0   \n",
       "Danell Valdez                           0                         0   \n",
       "Jessica Rinehart                        0                         0   \n",
       "Nancy Clark                             0                         0   \n",
       "Andrea Brun                             0                         0   \n",
       "\n",
       "                  Customer_LoyaltyClubCreditCard  Customer_StoreMailingList  \n",
       "Name                                                                         \n",
       "Pamela Wright                                  0                          1  \n",
       "Danell Valdez                                  0                          1  \n",
       "Jessica Rinehart                               0                          1  \n",
       "Nancy Clark                                    0                          1  \n",
       "Andrea Brun                                    0                          1  "
      ]
     },
     "execution_count": 11,
     "metadata": {},
     "output_type": "execute_result"
    }
   ],
   "source": [
    "df1 = pd.concat([df, df_Customer_Segment], axis = 1)\n",
    "df1.head()"
   ]
  },
  {
   "cell_type": "code",
   "execution_count": 12,
   "id": "friendly-emission",
   "metadata": {},
   "outputs": [],
   "source": [
    "df1 = df1.drop(columns=['Customer_Segment'])"
   ]
  },
  {
   "cell_type": "code",
   "execution_count": 13,
   "id": "small-genetics",
   "metadata": {},
   "outputs": [
    {
     "data": {
      "text/plain": [
       "array(['Denver', 'Greenwood Village', 'Centennial', 'Lakewood', 'Arvada',\n",
       "       'Broomfield', 'Aurora', 'Englewood', 'Westminster', 'Northglenn',\n",
       "       'Littleton', 'Parker', 'Superior', 'Thornton', 'Brighton',\n",
       "       'Golden', 'Wheat Ridge', 'Castle Pines', 'Highlands Ranch',\n",
       "       'Edgewater', 'Commerce City', 'Boulder', 'Morrison', 'Lafayette',\n",
       "       'Louisville', 'Henderson', 'Lone Tree'], dtype=object)"
      ]
     },
     "execution_count": 13,
     "metadata": {},
     "output_type": "execute_result"
    }
   ],
   "source": [
    "df1['City'].unique()"
   ]
  },
  {
   "cell_type": "code",
   "execution_count": 14,
   "id": "oriented-resolution",
   "metadata": {},
   "outputs": [
    {
     "data": {
      "text/plain": [
       "array(['CO'], dtype=object)"
      ]
     },
     "execution_count": 14,
     "metadata": {},
     "output_type": "execute_result"
    }
   ],
   "source": [
    "df1['State'].unique()"
   ]
  },
  {
   "cell_type": "markdown",
   "id": "surprising-warrior",
   "metadata": {},
   "source": [
    "### Features Engineering"
   ]
  },
  {
   "cell_type": "code",
   "execution_count": 15,
   "id": "fleet-external",
   "metadata": {
    "scrolled": true
   },
   "outputs": [
    {
     "data": {
      "image/png": "[encoded data removed]",
      "text/plain": [
       "<Figure size 864x864 with 2 Axes>"
      ]
     },
     "metadata": {
      "needs_background": "light"
     },
     "output_type": "display_data"
    }
   ],
   "source": [
    "plt.figure(figsize=(12,12)) \n",
    "sns.heatmap(df1.corr(),annot=True,cmap='cubehelix_r')\n",
    "plt.show()"
   ]
  },
  {
   "cell_type": "code",
   "execution_count": 16,
   "id": "missing-steering",
   "metadata": {},
   "outputs": [],
   "source": [
    "corr = df1.corr()\n",
    "#Correlation with output variable\n",
    "cor_target = abs(corr[\"Avg_Sale_Amount\"])\n",
    "#Selecting highly correlated features\n",
    "relevant_features = cor_target[cor_target>=0.1]\n",
    "df_corr = pd.DataFrame(relevant_features)"
   ]
  },
  {
   "cell_type": "code",
   "execution_count": 17,
   "id": "first-lease",
   "metadata": {},
   "outputs": [
    {
     "data": {
      "text/html": [
       "<div>\n",
       "<style scoped>\n",
       "    .dataframe tbody tr th:only-of-type {\n",
       "        vertical-align: middle;\n",
       "    }\n",
       "\n",
       "    .dataframe tbody tr th {\n",
       "        vertical-align: top;\n",
       "    }\n",
       "\n",
       "    .dataframe thead th {\n",
       "        text-align: right;\n",
       "    }\n",
       "</style>\n",
       "<table border=\"1\" class=\"dataframe\">\n",
       "  <thead>\n",
       "    <tr style=\"text-align: right;\">\n",
       "      <th></th>\n",
       "      <th>index</th>\n",
       "      <th>Corr</th>\n",
       "    </tr>\n",
       "  </thead>\n",
       "  <tbody>\n",
       "    <tr>\n",
       "      <th>0</th>\n",
       "      <td>Avg_Sale_Amount</td>\n",
       "      <td>1.000000</td>\n",
       "    </tr>\n",
       "    <tr>\n",
       "      <th>2</th>\n",
       "      <td>Avg_Num_Products_Purchased</td>\n",
       "      <td>0.855754</td>\n",
       "    </tr>\n",
       "    <tr>\n",
       "      <th>5</th>\n",
       "      <td>Customer_StoreMailingList</td>\n",
       "      <td>0.666655</td>\n",
       "    </tr>\n",
       "    <tr>\n",
       "      <th>4</th>\n",
       "      <td>Customer_LoyaltyClubCreditCard</td>\n",
       "      <td>0.591488</td>\n",
       "    </tr>\n",
       "    <tr>\n",
       "      <th>3</th>\n",
       "      <td>Customer_CreditCardOnly</td>\n",
       "      <td>0.426358</td>\n",
       "    </tr>\n",
       "    <tr>\n",
       "      <th>1</th>\n",
       "      <td>Responded_to_Last_Catalog</td>\n",
       "      <td>0.199358</td>\n",
       "    </tr>\n",
       "  </tbody>\n",
       "</table>\n",
       "</div>"
      ],
      "text/plain": [
       "                            index      Corr\n",
       "0                 Avg_Sale_Amount  1.000000\n",
       "2      Avg_Num_Products_Purchased  0.855754\n",
       "5       Customer_StoreMailingList  0.666655\n",
       "4  Customer_LoyaltyClubCreditCard  0.591488\n",
       "3         Customer_CreditCardOnly  0.426358\n",
       "1       Responded_to_Last_Catalog  0.199358"
      ]
     },
     "execution_count": 17,
     "metadata": {},
     "output_type": "execute_result"
    }
   ],
   "source": [
    "df_corr = df_corr.reset_index()\n",
    "df_corr = df_corr.rename(columns = {'Avg_Sale_Amount' : 'Corr'})\n",
    "df_corr = df_corr.sort_values(['Corr'], ascending=False)\n",
    "df_corr"
   ]
  },
  {
   "cell_type": "markdown",
   "id": "preceding-velvet",
   "metadata": {},
   "source": [
    "Only the above features are selected to train the model.\n",
    "\n",
    "### Data Visualization"
   ]
  },
  {
   "cell_type": "code",
   "execution_count": 18,
   "id": "requested-restoration",
   "metadata": {},
   "outputs": [
    {
     "name": "stderr",
     "output_type": "stream",
     "text": [
      "<ipython-input-18-0471fda19c55>:3: MatplotlibDeprecationWarning: savefig() got unexpected keyword argument \"papertype\" which is no longer supported as of 3.3 and will become an error two minor releases later\n",
      "  plt.savefig(\"Years\", dpi=None, facecolor='w', edgecolor='w',\n"
     ]
    },
    {
     "data": {
      "image/png": "[encoded data removed]",
      "text/plain": [
       "<Figure size 576x432 with 1 Axes>"
      ]
     },
     "metadata": {
      "needs_background": "light"
     },
     "output_type": "display_data"
    }
   ],
   "source": [
    "plt.figure(figsize=(8,6))\n",
    "sns.scatterplot(data = df1, x = 'Avg_Num_Products_Purchased', y = 'Avg_Sale_Amount', hue = '#_Years_as_Customer')\n",
    "plt.savefig(\"Years\", dpi=None, facecolor='w', edgecolor='w',\n",
    "        orientation='portrait', papertype=None, format=None,\n",
    "        transparent=False, bbox_inches=None, pad_inches=0.1, metadata=None)"
   ]
  },
  {
   "cell_type": "code",
   "execution_count": 19,
   "id": "compound-norfolk",
   "metadata": {},
   "outputs": [
    {
     "name": "stderr",
     "output_type": "stream",
     "text": [
      "<ipython-input-19-6e79512fa7ed>:3: MatplotlibDeprecationWarning: savefig() got unexpected keyword argument \"papertype\" which is no longer supported as of 3.3 and will become an error two minor releases later\n",
      "  plt.savefig(\"CustomerSegment\", dpi=None, facecolor='w', edgecolor='w',\n"
     ]
    },
    {
     "data": {
      "image/png": "[encoded data removed]",
      "text/plain": [
       "<Figure size 576x432 with 1 Axes>"
      ]
     },
     "metadata": {
      "needs_background": "light"
     },
     "output_type": "display_data"
    }
   ],
   "source": [
    "plt.figure(figsize=(8,6))\n",
    "sns.scatterplot(data = df, x = 'Avg_Num_Products_Purchased', y = 'Avg_Sale_Amount', hue = 'Customer_Segment')\n",
    "plt.savefig(\"CustomerSegment\", dpi=None, facecolor='w', edgecolor='w',\n",
    "        orientation='portrait', papertype=None, format=None,\n",
    "        transparent=False, bbox_inches=None, pad_inches=0.1, metadata=None)"
   ]
  },
  {
   "cell_type": "code",
   "execution_count": 20,
   "id": "embedded-manchester",
   "metadata": {
    "scrolled": true
   },
   "outputs": [
    {
     "name": "stderr",
     "output_type": "stream",
     "text": [
      "<ipython-input-20-b520323e84a6>:6: MatplotlibDeprecationWarning: savefig() got unexpected keyword argument \"papertype\" which is no longer supported as of 3.3 and will become an error two minor releases later\n",
      "  plt.savefig(\"AvgSales\", dpi=None, facecolor='w', edgecolor='w',\n"
     ]
    },
    {
     "data": {
      "image/png": "[encoded data removed]",
      "text/plain": [
       "<Figure size 576x432 with 1 Axes>"
      ]
     },
     "metadata": {
      "needs_background": "light"
     },
     "output_type": "display_data"
    }
   ],
   "source": [
    "plt.figure(figsize=(8, 6))\n",
    "ax = plt.scatter(df1['Avg_Num_Products_Purchased'], df1['Avg_Sale_Amount'])\n",
    "plt.title(\"Scatterplot of Average Number of Products Purchased versus Average Sale Amount\")\n",
    "plt.xlabel(\"Avg_Num_Products_Purchased\")\n",
    "plt.ylabel(\"Average_Sale_Amount\")\n",
    "plt.savefig(\"AvgSales\", dpi=None, facecolor='w', edgecolor='w',\n",
    "        orientation='portrait', papertype=None, format=None,\n",
    "        transparent=False, bbox_inches=None, pad_inches=0.1, metadata=None)\n",
    "plt.show()"
   ]
  },
  {
   "cell_type": "code",
   "execution_count": 21,
   "id": "monetary-graphics",
   "metadata": {},
   "outputs": [
    {
     "name": "stdout",
     "output_type": "stream",
     "text": [
      "<class 'pandas.core.frame.DataFrame'>\n",
      "Index: 2375 entries, Pamela Wright to Elissa Engledow\n",
      "Data columns (total 14 columns):\n",
      " #   Column                          Non-Null Count  Dtype  \n",
      "---  ------                          --------------  -----  \n",
      " 0   Customer_ID                     2375 non-null   int64  \n",
      " 1   Address                         2375 non-null   object \n",
      " 2   City                            2375 non-null   object \n",
      " 3   State                           2375 non-null   object \n",
      " 4   ZIP                             2375 non-null   int64  \n",
      " 5   Avg_Sale_Amount                 2375 non-null   float64\n",
      " 6   Store_Number                    2375 non-null   int64  \n",
      " 7   Responded_to_Last_Catalog       2375 non-null   int64  \n",
      " 8   Avg_Num_Products_Purchased      2375 non-null   int64  \n",
      " 9   #_Years_as_Customer             2375 non-null   int64  \n",
      " 10  Customer_CreditCardOnly         2375 non-null   uint8  \n",
      " 11  Customer_LoyaltyClubOnly        2375 non-null   uint8  \n",
      " 12  Customer_LoyaltyClubCreditCard  2375 non-null   uint8  \n",
      " 13  Customer_StoreMailingList       2375 non-null   uint8  \n",
      "dtypes: float64(1), int64(6), object(3), uint8(4)\n",
      "memory usage: 277.9+ KB\n"
     ]
    }
   ],
   "source": [
    "df1.info()"
   ]
  },
  {
   "cell_type": "code",
   "execution_count": 22,
   "id": "forward-bowling",
   "metadata": {},
   "outputs": [],
   "source": [
    "df1 = df1.drop(['Customer_ID', 'Address', 'City', 'State', 'ZIP',\n",
    "       'Store_Number', '#_Years_as_Customer', 'Responded_to_Last_Catalog'], axis = 1)"
   ]
  },
  {
   "cell_type": "code",
   "execution_count": 23,
   "id": "favorite-wheat",
   "metadata": {},
   "outputs": [
    {
     "name": "stdout",
     "output_type": "stream",
     "text": [
      "<class 'pandas.core.frame.DataFrame'>\n",
      "Index: 2375 entries, Pamela Wright to Elissa Engledow\n",
      "Data columns (total 6 columns):\n",
      " #   Column                          Non-Null Count  Dtype  \n",
      "---  ------                          --------------  -----  \n",
      " 0   Avg_Sale_Amount                 2375 non-null   float64\n",
      " 1   Avg_Num_Products_Purchased      2375 non-null   int64  \n",
      " 2   Customer_CreditCardOnly         2375 non-null   uint8  \n",
      " 3   Customer_LoyaltyClubOnly        2375 non-null   uint8  \n",
      " 4   Customer_LoyaltyClubCreditCard  2375 non-null   uint8  \n",
      " 5   Customer_StoreMailingList       2375 non-null   uint8  \n",
      "dtypes: float64(1), int64(1), uint8(4)\n",
      "memory usage: 129.5+ KB\n"
     ]
    }
   ],
   "source": [
    "df1.info()"
   ]
  },
  {
   "cell_type": "code",
   "execution_count": 24,
   "id": "taken-tennessee",
   "metadata": {},
   "outputs": [],
   "source": [
    "X = df1.drop(columns=['Avg_Sale_Amount'])\n",
    "X = sm.add_constant(X)\n",
    "y = df1['Avg_Sale_Amount']"
   ]
  },
  {
   "cell_type": "markdown",
   "id": "motivated-opposition",
   "metadata": {},
   "source": [
    "### Modeling\n",
    "\n",
    "Linear regression model"
   ]
  },
  {
   "cell_type": "code",
   "execution_count": 25,
   "id": "accurate-fifteen",
   "metadata": {
    "scrolled": true
   },
   "outputs": [
    {
     "name": "stdout",
     "output_type": "stream",
     "text": [
      "                            OLS Regression Results                            \n",
      "==============================================================================\n",
      "Dep. Variable:        Avg_Sale_Amount   R-squared:                       0.837\n",
      "Model:                            OLS   Adj. R-squared:                  0.837\n",
      "Method:                 Least Squares   F-statistic:                     3040.\n",
      "Date:                Tue, 01 Jun 2021   Prob (F-statistic):               0.00\n",
      "Time:                        17:45:54   Log-Likelihood:                -15061.\n",
      "No. Observations:                2375   AIC:                         3.013e+04\n",
      "Df Residuals:                    2370   BIC:                         3.016e+04\n",
      "Df Model:                           4                                         \n",
      "Covariance Type:            nonrobust                                         \n",
      "==================================================================================================\n",
      "                                     coef    std err          t      P>|t|      [0.025      0.975]\n",
      "--------------------------------------------------------------------------------------------------\n",
      "const                            220.1838      6.113     36.022      0.000     208.197     232.170\n",
      "Avg_Num_Products_Purchased        66.9762      1.515     44.208      0.000      64.005      69.947\n",
      "Customer_CreditCardOnly           83.2796      6.326     13.165      0.000      70.875      95.685\n",
      "Customer_LoyaltyClubOnly         -66.0761      5.196    -12.716      0.000     -76.266     -55.886\n",
      "Customer_LoyaltyClubCreditCard   365.1184      9.853     37.058      0.000     345.798     384.439\n",
      "Customer_StoreMailingList       -162.1381      5.297    -30.610      0.000    -172.525    -151.751\n",
      "==============================================================================\n",
      "Omnibus:                      359.638   Durbin-Watson:                   2.045\n",
      "Prob(Omnibus):                  0.000   Jarque-Bera (JB):             4770.580\n",
      "Skew:                           0.232   Prob(JB):                         0.00\n",
      "Kurtosis:                       9.928   Cond. No.                     4.64e+16\n",
      "==============================================================================\n",
      "\n",
      "Notes:\n",
      "[1] Standard Errors assume that the covariance matrix of the errors is correctly specified.\n",
      "[2] The smallest eigenvalue is 2.15e-29. This might indicate that there are\n",
      "strong multicollinearity problems or that the design matrix is singular.\n"
     ]
    }
   ],
   "source": [
    "model = sm.OLS(y, X)\n",
    "fit = model.fit()\n",
    "print(fit.summary())"
   ]
  },
  {
   "cell_type": "code",
   "execution_count": 26,
   "id": "liked-outreach",
   "metadata": {},
   "outputs": [],
   "source": [
    "random_state = 1\n",
    "X_train, X_test, y_train,y_test = train_test_split(X,y, test_size = 0.2,random_state=random_state)"
   ]
  },
  {
   "cell_type": "code",
   "execution_count": 27,
   "id": "proud-luxembourg",
   "metadata": {
    "scrolled": true
   },
   "outputs": [
    {
     "name": "stdout",
     "output_type": "stream",
     "text": [
      "The y-intercept coefficent is:  289.80754621589404\n"
     ]
    }
   ],
   "source": [
    "reg = LinearRegression()\n",
    "reg.fit(X_train, y_train)\n",
    "print(\"The y-intercept coefficent is: \",reg.intercept_)"
   ]
  },
  {
   "cell_type": "markdown",
   "id": "complicated-homework",
   "metadata": {},
   "source": [
    "## Step 3: Presentation/Visualization\n",
    "\n",
    "1.     What is your recommendation? Should the company send the catalog to these 250 customers?\n",
    "\n",
    "Yes, I will recommend to send the catalog to these 250 customers\n",
    " \n",
    "2.     How did you come up with your recommendation? (Please explain your process so reviewers can give you feedback on your process)\n",
    "\n",
    "Please refer to the `Profit Calculation` section.\n",
    "The profit is calculated as\n",
    "$ total_profit = total_revenue \\times 0.5 - 6.5 \\times 250 $ <br/>\n",
    "0.5 of the gross margin and the 250 customers\n",
    " \n",
    "3.     What is the expected profit from the new catalog (assuming the catalog is sent to these 250 customers)?\n",
    "\n",
    "USD 21851.15"
   ]
  },
  {
   "cell_type": "markdown",
   "id": "going-exception",
   "metadata": {},
   "source": [
    "## Mailing List dataframe"
   ]
  },
  {
   "cell_type": "code",
   "execution_count": 28,
   "id": "thirty-small",
   "metadata": {},
   "outputs": [
    {
     "data": {
      "text/html": [
       "<div>\n",
       "<style scoped>\n",
       "    .dataframe tbody tr th:only-of-type {\n",
       "        vertical-align: middle;\n",
       "    }\n",
       "\n",
       "    .dataframe tbody tr th {\n",
       "        vertical-align: top;\n",
       "    }\n",
       "\n",
       "    .dataframe thead th {\n",
       "        text-align: right;\n",
       "    }\n",
       "</style>\n",
       "<table border=\"1\" class=\"dataframe\">\n",
       "  <thead>\n",
       "    <tr style=\"text-align: right;\">\n",
       "      <th></th>\n",
       "      <th>Name</th>\n",
       "      <th>Customer_Segment</th>\n",
       "      <th>Customer_ID</th>\n",
       "      <th>Address</th>\n",
       "      <th>City</th>\n",
       "      <th>State</th>\n",
       "      <th>ZIP</th>\n",
       "      <th>Store_Number</th>\n",
       "      <th>Avg_Num_Products_Purchased</th>\n",
       "      <th>#_Years_as_Customer</th>\n",
       "      <th>Score_No</th>\n",
       "      <th>Score_Yes</th>\n",
       "    </tr>\n",
       "  </thead>\n",
       "  <tbody>\n",
       "    <tr>\n",
       "      <th>0</th>\n",
       "      <td>A Giametti</td>\n",
       "      <td>Loyalty Club Only</td>\n",
       "      <td>2213</td>\n",
       "      <td>5326 S Lisbon Way</td>\n",
       "      <td>Centennial</td>\n",
       "      <td>CO</td>\n",
       "      <td>80015</td>\n",
       "      <td>105</td>\n",
       "      <td>3</td>\n",
       "      <td>0.2</td>\n",
       "      <td>0.694964</td>\n",
       "      <td>0.305036</td>\n",
       "    </tr>\n",
       "    <tr>\n",
       "      <th>1</th>\n",
       "      <td>Abby Pierson</td>\n",
       "      <td>Loyalty Club and Credit Card</td>\n",
       "      <td>2785</td>\n",
       "      <td>4344 W Roanoke Pl</td>\n",
       "      <td>Denver</td>\n",
       "      <td>CO</td>\n",
       "      <td>80236</td>\n",
       "      <td>101</td>\n",
       "      <td>6</td>\n",
       "      <td>0.6</td>\n",
       "      <td>0.527275</td>\n",
       "      <td>0.472725</td>\n",
       "    </tr>\n",
       "    <tr>\n",
       "      <th>2</th>\n",
       "      <td>Adele Hallman</td>\n",
       "      <td>Loyalty Club Only</td>\n",
       "      <td>2931</td>\n",
       "      <td>5219 S Delaware St</td>\n",
       "      <td>Englewood</td>\n",
       "      <td>CO</td>\n",
       "      <td>80110</td>\n",
       "      <td>101</td>\n",
       "      <td>7</td>\n",
       "      <td>0.9</td>\n",
       "      <td>0.421118</td>\n",
       "      <td>0.578882</td>\n",
       "    </tr>\n",
       "    <tr>\n",
       "      <th>3</th>\n",
       "      <td>Alejandra Baird</td>\n",
       "      <td>Loyalty Club Only</td>\n",
       "      <td>2231</td>\n",
       "      <td>2301 Lawrence St</td>\n",
       "      <td>Denver</td>\n",
       "      <td>CO</td>\n",
       "      <td>80205</td>\n",
       "      <td>103</td>\n",
       "      <td>2</td>\n",
       "      <td>0.6</td>\n",
       "      <td>0.694862</td>\n",
       "      <td>0.305138</td>\n",
       "    </tr>\n",
       "    <tr>\n",
       "      <th>4</th>\n",
       "      <td>Alice Dewitt</td>\n",
       "      <td>Loyalty Club Only</td>\n",
       "      <td>2530</td>\n",
       "      <td>5549 S Hannibal Way</td>\n",
       "      <td>Centennial</td>\n",
       "      <td>CO</td>\n",
       "      <td>80015</td>\n",
       "      <td>104</td>\n",
       "      <td>4</td>\n",
       "      <td>0.5</td>\n",
       "      <td>0.612294</td>\n",
       "      <td>0.387706</td>\n",
       "    </tr>\n",
       "  </tbody>\n",
       "</table>\n",
       "</div>"
      ],
      "text/plain": [
       "              Name              Customer_Segment  Customer_ID  \\\n",
       "0       A Giametti             Loyalty Club Only         2213   \n",
       "1     Abby Pierson  Loyalty Club and Credit Card         2785   \n",
       "2    Adele Hallman             Loyalty Club Only         2931   \n",
       "3  Alejandra Baird             Loyalty Club Only         2231   \n",
       "4     Alice Dewitt             Loyalty Club Only         2530   \n",
       "\n",
       "               Address        City State    ZIP  Store_Number  \\\n",
       "0    5326 S Lisbon Way  Centennial    CO  80015           105   \n",
       "1    4344 W Roanoke Pl      Denver    CO  80236           101   \n",
       "2   5219 S Delaware St   Englewood    CO  80110           101   \n",
       "3     2301 Lawrence St      Denver    CO  80205           103   \n",
       "4  5549 S Hannibal Way  Centennial    CO  80015           104   \n",
       "\n",
       "   Avg_Num_Products_Purchased  #_Years_as_Customer  Score_No  Score_Yes  \n",
       "0                           3                  0.2  0.694964   0.305036  \n",
       "1                           6                  0.6  0.527275   0.472725  \n",
       "2                           7                  0.9  0.421118   0.578882  \n",
       "3                           2                  0.6  0.694862   0.305138  \n",
       "4                           4                  0.5  0.612294   0.387706  "
      ]
     },
     "execution_count": 28,
     "metadata": {},
     "output_type": "execute_result"
    }
   ],
   "source": [
    "df_m = pd.read_excel('p1-mailinglist.xlsx')\n",
    "df_m.head()"
   ]
  },
  {
   "cell_type": "code",
   "execution_count": 29,
   "id": "headed-charlotte",
   "metadata": {},
   "outputs": [],
   "source": [
    "df_m2 = df_m[['Customer_Segment', 'Avg_Num_Products_Purchased']]"
   ]
  },
  {
   "cell_type": "code",
   "execution_count": 30,
   "id": "metric-proxy",
   "metadata": {},
   "outputs": [
    {
     "data": {
      "text/plain": [
       "array(['Loyalty Club Only', 'Loyalty Club and Credit Card',\n",
       "       'Credit Card Only', 'Store Mailing List'], dtype=object)"
      ]
     },
     "execution_count": 30,
     "metadata": {},
     "output_type": "execute_result"
    }
   ],
   "source": [
    "df_m2.Customer_Segment.unique()"
   ]
  },
  {
   "cell_type": "code",
   "execution_count": 31,
   "id": "personalized-balance",
   "metadata": {},
   "outputs": [],
   "source": [
    "segment = pd.get_dummies(df_m2['Customer_Segment'])\n",
    "df_m2 = pd.concat([df_m2, segment], axis = 1)\n",
    "df_m2 = df_m2.drop('Customer_Segment', axis = 1)"
   ]
  },
  {
   "cell_type": "code",
   "execution_count": 32,
   "id": "gross-emission",
   "metadata": {},
   "outputs": [
    {
     "data": {
      "text/html": [
       "<div>\n",
       "<style scoped>\n",
       "    .dataframe tbody tr th:only-of-type {\n",
       "        vertical-align: middle;\n",
       "    }\n",
       "\n",
       "    .dataframe tbody tr th {\n",
       "        vertical-align: top;\n",
       "    }\n",
       "\n",
       "    .dataframe thead th {\n",
       "        text-align: right;\n",
       "    }\n",
       "</style>\n",
       "<table border=\"1\" class=\"dataframe\">\n",
       "  <thead>\n",
       "    <tr style=\"text-align: right;\">\n",
       "      <th></th>\n",
       "      <th>Avg_Num_Products_Purchased</th>\n",
       "      <th>Credit Card Only</th>\n",
       "      <th>Loyalty Club Only</th>\n",
       "      <th>Loyalty Club and Credit Card</th>\n",
       "      <th>Store Mailing List</th>\n",
       "    </tr>\n",
       "  </thead>\n",
       "  <tbody>\n",
       "    <tr>\n",
       "      <th>0</th>\n",
       "      <td>3</td>\n",
       "      <td>0</td>\n",
       "      <td>1</td>\n",
       "      <td>0</td>\n",
       "      <td>0</td>\n",
       "    </tr>\n",
       "    <tr>\n",
       "      <th>1</th>\n",
       "      <td>6</td>\n",
       "      <td>0</td>\n",
       "      <td>0</td>\n",
       "      <td>1</td>\n",
       "      <td>0</td>\n",
       "    </tr>\n",
       "    <tr>\n",
       "      <th>2</th>\n",
       "      <td>7</td>\n",
       "      <td>0</td>\n",
       "      <td>1</td>\n",
       "      <td>0</td>\n",
       "      <td>0</td>\n",
       "    </tr>\n",
       "    <tr>\n",
       "      <th>3</th>\n",
       "      <td>2</td>\n",
       "      <td>0</td>\n",
       "      <td>1</td>\n",
       "      <td>0</td>\n",
       "      <td>0</td>\n",
       "    </tr>\n",
       "    <tr>\n",
       "      <th>4</th>\n",
       "      <td>4</td>\n",
       "      <td>0</td>\n",
       "      <td>1</td>\n",
       "      <td>0</td>\n",
       "      <td>0</td>\n",
       "    </tr>\n",
       "  </tbody>\n",
       "</table>\n",
       "</div>"
      ],
      "text/plain": [
       "   Avg_Num_Products_Purchased  Credit Card Only  Loyalty Club Only  \\\n",
       "0                           3                 0                  1   \n",
       "1                           6                 0                  0   \n",
       "2                           7                 0                  1   \n",
       "3                           2                 0                  1   \n",
       "4                           4                 0                  1   \n",
       "\n",
       "   Loyalty Club and Credit Card  Store Mailing List  \n",
       "0                             0                   0  \n",
       "1                             1                   0  \n",
       "2                             0                   0  \n",
       "3                             0                   0  \n",
       "4                             0                   0  "
      ]
     },
     "execution_count": 32,
     "metadata": {},
     "output_type": "execute_result"
    }
   ],
   "source": [
    "df_m2.head()"
   ]
  },
  {
   "cell_type": "markdown",
   "id": "convenient-hotel",
   "metadata": {},
   "source": [
    "### Profit calculation"
   ]
  },
  {
   "cell_type": "code",
   "execution_count": 35,
   "id": "legislative-christmas",
   "metadata": {},
   "outputs": [],
   "source": [
    "df_m2 = sm.add_constant(df_m2)\n",
    "y_hat = reg.predict(df_m2)"
   ]
  },
  {
   "cell_type": "code",
   "execution_count": 36,
   "id": "bizarre-christianity",
   "metadata": {},
   "outputs": [],
   "source": [
    "result = pd.DataFrame(y_hat, columns = ['Avg_Sale_Amount'])\n",
    "\n",
    "#Score_yes is the probability that the customer buys profuct when they recieve catalog.\n",
    "result = result.join(df_m[['Score_Yes']].apply(pd.to_numeric))"
   ]
  },
  {
   "cell_type": "code",
   "execution_count": 37,
   "id": "missing-vinyl",
   "metadata": {},
   "outputs": [
    {
     "data": {
      "text/html": [
       "<div>\n",
       "<style scoped>\n",
       "    .dataframe tbody tr th:only-of-type {\n",
       "        vertical-align: middle;\n",
       "    }\n",
       "\n",
       "    .dataframe tbody tr th {\n",
       "        vertical-align: top;\n",
       "    }\n",
       "\n",
       "    .dataframe thead th {\n",
       "        text-align: right;\n",
       "    }\n",
       "</style>\n",
       "<table border=\"1\" class=\"dataframe\">\n",
       "  <thead>\n",
       "    <tr style=\"text-align: right;\">\n",
       "      <th></th>\n",
       "      <th>Avg_Sale_Amount</th>\n",
       "      <th>Score_Yes</th>\n",
       "      <th>Profit</th>\n",
       "    </tr>\n",
       "  </thead>\n",
       "  <tbody>\n",
       "    <tr>\n",
       "      <th>0</th>\n",
       "      <td>357.400970</td>\n",
       "      <td>0.305036</td>\n",
       "      <td>48.010047</td>\n",
       "    </tr>\n",
       "    <tr>\n",
       "      <th>1</th>\n",
       "      <td>974.418585</td>\n",
       "      <td>0.472725</td>\n",
       "      <td>223.815787</td>\n",
       "    </tr>\n",
       "    <tr>\n",
       "      <th>2</th>\n",
       "      <td>608.370344</td>\n",
       "      <td>0.578882</td>\n",
       "      <td>169.587275</td>\n",
       "    </tr>\n",
       "    <tr>\n",
       "      <th>3</th>\n",
       "      <td>294.658627</td>\n",
       "      <td>0.305138</td>\n",
       "      <td>38.455744</td>\n",
       "    </tr>\n",
       "    <tr>\n",
       "      <th>4</th>\n",
       "      <td>420.143314</td>\n",
       "      <td>0.387706</td>\n",
       "      <td>74.946011</td>\n",
       "    </tr>\n",
       "  </tbody>\n",
       "</table>\n",
       "</div>"
      ],
      "text/plain": [
       "   Avg_Sale_Amount  Score_Yes      Profit\n",
       "0       357.400970   0.305036   48.010047\n",
       "1       974.418585   0.472725  223.815787\n",
       "2       608.370344   0.578882  169.587275\n",
       "3       294.658627   0.305138   38.455744\n",
       "4       420.143314   0.387706   74.946011"
      ]
     },
     "execution_count": 37,
     "metadata": {},
     "output_type": "execute_result"
    }
   ],
   "source": [
    "def profit_calculation(i):\n",
    "    calc = (i['Avg_Sale_Amount'] * i['Score_Yes'] * 0.50) - 6.5\n",
    "    return calc\n",
    "result['Profit'] = result.apply (profit_calculation, axis=1)\n",
    "result.head()"
   ]
  },
  {
   "cell_type": "code",
   "execution_count": 38,
   "id": "broken-imagination",
   "metadata": {},
   "outputs": [
    {
     "name": "stdout",
     "output_type": "stream",
     "text": [
      "The total profit is: 21851.150939848834 .Therefore we can suggest the send the catalogs to the 250 new customers.\n"
     ]
    }
   ],
   "source": [
    "totalProfit=result['Profit'].sum()\n",
    "if (totalProfit >= 1000):\n",
    "    print('The total profit is:', totalProfit, '.Therefore we can suggest the send the catalogs to the 250 new customers.')\n",
    "else:\n",
    "    print('The total profit is:', totalProfit, '.We do not suggest to send the catalog to the 250 new customers.')"
   ]
  },
  {
   "cell_type": "code",
   "execution_count": null,
   "id": "physical-optics",
   "metadata": {},
   "outputs": [],
   "source": []
  }
 ],
 "metadata": {
  "kernelspec": {
   "display_name": "Python 3",
   "language": "python",
   "name": "python3"
  },
  "language_info": {
   "codemirror_mode": {
    "name": "ipython",
    "version": 3
   },
   "file_extension": ".py",
   "mimetype": "text/x-python",
   "name": "python",
   "nbconvert_exporter": "python",
   "pygments_lexer": "ipython3",
   "version": "3.8.5"
  }
 },
 "nbformat": 4,
 "nbformat_minor": 5
}
